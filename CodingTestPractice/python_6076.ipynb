{
 "cells": [
  {
   "cell_type": "markdown",
   "id": "32a3ca90",
   "metadata": {},
   "source": [
    "# 6076번 [기초-반복실행구조] 정수 1개 입력받아 그 수까지 출력하기2(설명)(py)"
   ]
  },
  {
   "cell_type": "markdown",
   "id": "60ad0180",
   "metadata": {},
   "source": [
    "## 문제\n",
    "\n",
    "정수(0 ~ 100) 1개를 입력받아 0부터 그 수까지 순서대로 출력해보자.\n",
    "\n",
    "**참고**\n",
    "range(n) 은 0, 1, 2, ... , n-2, n-1 까지의 수열을 의미한다. 예를 들어 range(3) 은 0, 1, 2 인 수열을 의미한다.\n",
    "\n",
    "for i in range(n) :    #range(n)에 들어있는(in) 각각의 수에 대해서(for) 순서대로 i에 저장해 가면서...\n",
    "\n",
    "이때의 for는 각각의 값에 대하여... 라는 for each 의 의미를 가진다고 생각할 수 있다.\n",
    "\n",
    "range(끝)\n",
    "\n",
    "range(시작, 끝)\n",
    "\n",
    "range(시작, 끝, 증감)\n",
    "\n",
    "형태로 수열을 표현할 수 있다. 시작 수는 포함이고, 끝 수는 포함되지 않는다. [시작, 끝)\n",
    "\n",
    "증감할 수를 작성하지 않으면 +1이 된다."
   ]
  },
  {
   "cell_type": "code",
   "execution_count": 1,
   "id": "42147ff9",
   "metadata": {},
   "outputs": [
    {
     "name": "stdout",
     "output_type": "stream",
     "text": [
      "5\n",
      "0\n",
      "1\n",
      "2\n",
      "3\n",
      "4\n",
      "5\n"
     ]
    }
   ],
   "source": [
    "n = int(input())\n",
    "\n",
    "for i in range(n+1):\n",
    "    print(i)"
   ]
  }
 ],
 "metadata": {
  "kernelspec": {
   "display_name": "Python 3",
   "language": "python",
   "name": "python3"
  },
  "language_info": {
   "codemirror_mode": {
    "name": "ipython",
    "version": 3
   },
   "file_extension": ".py",
   "mimetype": "text/x-python",
   "name": "python",
   "nbconvert_exporter": "python",
   "pygments_lexer": "ipython3",
   "version": "3.8.8"
  }
 },
 "nbformat": 4,
 "nbformat_minor": 5
}
