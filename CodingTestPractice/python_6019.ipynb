{
 "cells": [
  {
   "cell_type": "markdown",
   "metadata": {},
   "source": [
    "## 6019번 [기초-입출력] 연월일 입력받아 순서 바꿔 출력하기(py)"
   ]
  },
  {
   "cell_type": "markdown",
   "metadata": {},
   "source": [
    "### 문제\n",
    "\n",
    "\"연도.월.일\"을 입력받아 \"일-월-연도\" 순서로 바꿔 출력해보자.\n",
    "\n",
    "**[참고]**\n",
    "\n",
    "y, m, d = input().split('.')\n",
    "\n",
    "과 같이 변수들을 순서대로 나열하면 구분기호를 기준으로 잘라 순서대로 저장한다."
   ]
  },
  {
   "cell_type": "code",
   "execution_count": 2,
   "metadata": {},
   "outputs": [
    {
     "name": "stdout",
     "output_type": "stream",
     "text": [
      "3.4.17\n",
      "17-4-3\n"
     ]
    }
   ],
   "source": [
    "a, b, c = input().split('.')\n",
    "print(c, b, a, sep = '-')"
   ]
  },
  {
   "cell_type": "markdown",
   "metadata": {},
   "source": [
    "'a.b.c' 이렇게 작성한 것을 '.'으로 분류한다.\n",
    "\n",
    "그리고 출력(print)할 때 '-' 구분자로 구분하여 출력한다."
   ]
  }
 ],
 "metadata": {
  "kernelspec": {
   "display_name": "Python 3",
   "language": "python",
   "name": "python3"
  },
  "language_info": {
   "codemirror_mode": {
    "name": "ipython",
    "version": 3
   },
   "file_extension": ".py",
   "mimetype": "text/x-python",
   "name": "python",
   "nbconvert_exporter": "python",
   "pygments_lexer": "ipython3",
   "version": "3.8.5"
  }
 },
 "nbformat": 4,
 "nbformat_minor": 4
}
