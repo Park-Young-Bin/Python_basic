{
 "cells": [
  {
   "cell_type": "markdown",
   "metadata": {},
   "source": [
    "## 6021번 [기초-입출력] 단어 1개 입력받아 나누어 출력하기(설명)(py)"
   ]
  },
  {
   "cell_type": "markdown",
   "metadata": {},
   "source": [
    "### 문제\n",
    "\n",
    "알파벳과 숫자로 이루어진 단어 1개가 입력된다.\n",
    "\n",
    "입력받은 단어의 각 문자를 한 줄에 한 문자씩 분리해 출력한다.\n",
    "\n",
    "(예시)\n",
    "\n",
    "s = input()\n",
    "\n",
    "print(s[0])\n",
    "\n",
    "print(s[1])\n",
    "..."
   ]
  },
  {
   "cell_type": "code",
   "execution_count": 7,
   "metadata": {},
   "outputs": [
    {
     "name": "stdout",
     "output_type": "stream",
     "text": [
      "apple2\n",
      "a\n",
      "p\n",
      "p\n",
      "l\n",
      "e\n",
      "2\n"
     ]
    }
   ],
   "source": [
    "a = input()\n",
    "\n",
    "for i in range(len(a)):\n",
    "    print(a[i])"
   ]
  },
  {
   "cell_type": "markdown",
   "metadata": {},
   "source": [
    "1. input()으로 문자를 입력받는다.\n",
    "\n",
    "1. for문과 range(), len() 함수를 이용해서 입력받은 글자 수를 i에 넣는다.\n",
    "\n",
    "1. i를 한 번씩 실행하여 a[i]를 출력한다.\n",
    "\n",
    "len(a) = 4라면,\n",
    "\n",
    "a[0], a[1], a[2], a[3]의 문자가 각각 출력될 것이다."
   ]
  },
  {
   "cell_type": "code",
   "execution_count": null,
   "metadata": {},
   "outputs": [],
   "source": []
  }
 ],
 "metadata": {
  "kernelspec": {
   "display_name": "Python 3",
   "language": "python",
   "name": "python3"
  },
  "language_info": {
   "codemirror_mode": {
    "name": "ipython",
    "version": 3
   },
   "file_extension": ".py",
   "mimetype": "text/x-python",
   "name": "python",
   "nbconvert_exporter": "python",
   "pygments_lexer": "ipython3",
   "version": "3.8.5"
  }
 },
 "nbformat": 4,
 "nbformat_minor": 4
}
