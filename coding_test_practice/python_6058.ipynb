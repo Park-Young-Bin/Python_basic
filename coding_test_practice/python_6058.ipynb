{
 "cells": [
  {
   "cell_type": "markdown",
   "id": "c521b2dd",
   "metadata": {},
   "source": [
    "# 6058번 [기초-논리연산] 둘 다 거짓일 경우만 참 출력하기(py)"
   ]
  },
  {
   "cell_type": "markdown",
   "id": "ca354810",
   "metadata": {},
   "source": [
    "## 문제\n",
    "\n",
    "2개의 정수값이 입력될 때, 그 불 값(True/False) 이 모두 False 일 때에만 True 를 출력하는 프로그램을 작성해보자.\n",
    "\n",
    "**[참고]**\n",
    "\n",
    "and 예약어는 주어진 두 불 값이 모두 True 일 때에만 True 로 계산하고, 나머지 경우는 False 로 계산한다.\n",
    "\n",
    "이러한 논리연산을 AND 연산(boolean AND)이라고도 부르고, · 으로 표시하거나 생략하며, 집합 기호 ∩(교집합, intersection)로 표시하기도 한다. 모두 같은 의미이다.\n",
    "\n",
    "참, 거짓의 논리값 인 불(boolean) 값을 다루어주는 예약어는 not, and, or 이 있고,\n",
    "\n",
    "불 값들 사이의 논리(not, and, or) 연산 결과도 마찬가지로 True 또는 False 의 불 값으로 계산된다."
   ]
  },
  {
   "cell_type": "code",
   "execution_count": 31,
   "id": "3dfbb1b5",
   "metadata": {},
   "outputs": [
    {
     "name": "stdout",
     "output_type": "stream",
     "text": [
      "0 0\n",
      "True\n",
      "True\n",
      "True\n"
     ]
    }
   ],
   "source": [
    "a, b = map(int, input().split())\n",
    "c = bool(a)\n",
    "d = bool(b)\n",
    "\n",
    "print(not c and not d)\n",
    "print(not (c or d))\n",
    "print(not (c | d))"
   ]
  },
  {
   "cell_type": "code",
   "execution_count": 32,
   "id": "4a1404b3",
   "metadata": {},
   "outputs": [
    {
     "name": "stdout",
     "output_type": "stream",
     "text": [
      "0 300\n",
      "False\n",
      "False\n",
      "False\n"
     ]
    }
   ],
   "source": [
    "a, b = map(int, input().split())\n",
    "c = bool(a)\n",
    "d = bool(b)\n",
    "\n",
    "print(not c and not d)\n",
    "print(not (c or d))\n",
    "print(not (c | d))"
   ]
  }
 ],
 "metadata": {
  "kernelspec": {
   "display_name": "Python 3",
   "language": "python",
   "name": "python3"
  },
  "language_info": {
   "codemirror_mode": {
    "name": "ipython",
    "version": 3
   },
   "file_extension": ".py",
   "mimetype": "text/x-python",
   "name": "python",
   "nbconvert_exporter": "python",
   "pygments_lexer": "ipython3",
   "version": "3.8.8"
  }
 },
 "nbformat": 4,
 "nbformat_minor": 5
}
