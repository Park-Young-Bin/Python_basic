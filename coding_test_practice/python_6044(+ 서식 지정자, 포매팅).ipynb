{
 "cells": [
  {
   "cell_type": "markdown",
   "metadata": {},
   "source": [
    "# 6044번 [기초-산술연산] 정수 2개 입력받아 자동 계산하기(py)"
   ]
  },
  {
   "cell_type": "markdown",
   "metadata": {},
   "source": [
    "### 문제\n",
    "\n",
    "본 문제는 python 의 빠른 기초 학습을 위해 설계된 문제로서 python 코드 제출을 기준으로 설명되어 있습니다. \n",
    "\n",
    "**[참고]**\n",
    "\n",
    "정수 2개(a, b)를 입력받아 합, 차, 곱, 몫, 나머지, 나눈 값을 자동으로 계산해보자.\n",
    "\n",
    "단 0 <= a, b <= 2147483647, b는 0이 아니다.\n",
    "\n",
    "나눗셈을 할 때 실수는 소수점 이하 둘째 자리까지의 정확도로 출력한다."
   ]
  },
  {
   "cell_type": "code",
   "execution_count": null,
   "metadata": {},
   "outputs": [],
   "source": [
    "a, b = input().split()\n",
    "a = int(a)\n",
    "b = int(b)\n",
    "\n",
    "print(a+b)\n",
    "print(a-b)\n",
    "print(a*b)\n",
    "print(a//b)\n",
    "print(a%b)\n",
    "print('%.2f' %(a/b)) # 포메팅 사용"
   ]
  },
  {
   "cell_type": "markdown",
   "metadata": {},
   "source": [
    "## 문자열 서식 지정자와 포매팅 사용하기"
   ]
  },
  {
   "cell_type": "markdown",
   "metadata": {},
   "source": [
    "### 1. 서식 지정자로 문자열 넣기"
   ]
  },
  {
   "cell_type": "code",
   "execution_count": 4,
   "metadata": {},
   "outputs": [
    {
     "data": {
      "text/plain": [
       "'I am james.'"
      ]
     },
     "execution_count": 4,
     "metadata": {},
     "output_type": "execute_result"
    }
   ],
   "source": [
    "'I am %s.' % 'james'"
   ]
  },
  {
   "cell_type": "markdown",
   "metadata": {},
   "source": [
    "%s는 문자열이라는 뜻이며 **s**tring의 s이다.\n",
    "\n",
    "문자열 안에 %s를 넣고 그 뒤에 %f를 붙인 뒤 'james'를 지정해주면 %s 부분이 'james'로 바뀐다."
   ]
  },
  {
   "cell_type": "code",
   "execution_count": 5,
   "metadata": {},
   "outputs": [
    {
     "data": {
      "text/plain": [
       "'I am maria.'"
      ]
     },
     "execution_count": 5,
     "metadata": {},
     "output_type": "execute_result"
    }
   ],
   "source": [
    "name = 'maria'\n",
    "'I am %s.' % name"
   ]
  },
  {
   "cell_type": "markdown",
   "metadata": {},
   "source": [
    "문자열을 바로 지정하지 않고 변수를 지정할 수 있다."
   ]
  },
  {
   "cell_type": "markdown",
   "metadata": {},
   "source": [
    "### 2. 서식 지정자로 숫자 넣기"
   ]
  },
  {
   "cell_type": "code",
   "execution_count": 9,
   "metadata": {},
   "outputs": [
    {
     "name": "stdout",
     "output_type": "stream",
     "text": [
      "I am 20 years old.\n",
      "I am 51 years old.\n"
     ]
    }
   ],
   "source": [
    "a = 'I am %d years old.' % 20 # %d 사용\n",
    "print(a)\n",
    "\n",
    "b = 'I am %s years old.' % 51 # %s 사용\n",
    "print(b)"
   ]
  },
  {
   "cell_type": "markdown",
   "metadata": {},
   "source": [
    "숫자는 %d를 넣고 % 뒤에 숫자를 지정한다. %d는 10진정수 decimal integer의 d이다.\n",
    "\n",
    "하지만 %s를 넣어도 된다.(**%s는 만능**이다.)"
   ]
  },
  {
   "cell_type": "markdown",
   "metadata": {},
   "source": [
    "### 3. 서식 지정자로 소수점 표현하기(반올림)"
   ]
  },
  {
   "cell_type": "code",
   "execution_count": 10,
   "metadata": {},
   "outputs": [
    {
     "data": {
      "text/plain": [
       "'2.300000'"
      ]
     },
     "execution_count": 10,
     "metadata": {},
     "output_type": "execute_result"
    }
   ],
   "source": [
    "'%f' % 2.3"
   ]
  },
  {
   "cell_type": "markdown",
   "metadata": {},
   "source": [
    "실수를 넣을 때는 %f를 사용하며 고정 소수점 fixed point의 f이다.\n",
    "\n",
    "%f는 기본적으로 소수점 이하 6자리까지 표시하므로 2.3은 2.300000으로 표시된다.\n",
    "\n",
    "소수점 이하 자릿수를 지정하고 싶다면 다음과 같이 f 앞에 .(점)과 자릿수를 지정하면 된다."
   ]
  },
  {
   "cell_type": "code",
   "execution_count": 13,
   "metadata": {},
   "outputs": [
    {
     "name": "stdout",
     "output_type": "stream",
     "text": [
      "13.56\n",
      "2.325\n"
     ]
    }
   ],
   "source": [
    "a = '%.2f' % 13.55766 # 소수점 둘째 자리까지\n",
    "print(a)\n",
    "\n",
    "b = '%.3f' % 2.32491 # 소수점 셋째 자리까지\n",
    "print(b)"
   ]
  },
  {
   "cell_type": "markdown",
   "metadata": {},
   "source": [
    "### 4. 서식 지정자로 문자열 정렬하기\n",
    "\n",
    "서식 지정자와 숫자를 조합하여 문자열을 정렬하는 방법이다.\n",
    "\n",
    "다음과 같이 % 뒤에 숫자를 붙이면 문자열을 지정된 길이로 만든 뒤 오른쪽으로 정렬하고 남는 공간을 공백으로 채운다."
   ]
  },
  {
   "cell_type": "code",
   "execution_count": 15,
   "metadata": {},
   "outputs": [
    {
     "data": {
      "text/plain": [
       "'    python'"
      ]
     },
     "execution_count": 15,
     "metadata": {},
     "output_type": "execute_result"
    }
   ],
   "source": [
    "'%10s' % 'python'"
   ]
  },
  {
   "cell_type": "markdown",
   "metadata": {},
   "source": [
    "%10s는 문자열의 길이를 10으로 만든 뒤 지정된 문자열을 넣고 오른쪽으로 정렬한다.\n",
    "\n",
    "따라서 문자열 'python'은 길이가 6이므로 왼쪽 공간을 공백 4칸으로 채운다."
   ]
  },
  {
   "cell_type": "markdown",
   "metadata": {},
   "source": [
    "#### (1) 자리숫가 다른 숫자 출력하기\n",
    "\n",
    "문자열 오른쪽 정렬은 자릿수가 다른 숫자를 출력할 때 유용하다.\n",
    "\n",
    "%d와 %f도 숫자와 조합하여 오른쪽으로 정렬할 수 있다."
   ]
  },
  {
   "cell_type": "code",
   "execution_count": 16,
   "metadata": {},
   "outputs": [
    {
     "data": {
      "text/plain": [
       "'       150'"
      ]
     },
     "execution_count": 16,
     "metadata": {},
     "output_type": "execute_result"
    }
   ],
   "source": [
    "# 길이d\n",
    "a = '%10d' % 150\n",
    "print(a)\n",
    "\n",
    "b = '%10d' % 15000\n",
    "print(b)"
   ]
  },
  {
   "cell_type": "code",
   "execution_count": 21,
   "metadata": {},
   "outputs": [
    {
     "name": "stdout",
     "output_type": "stream",
     "text": [
      "      2.30\n",
      "    2.9787\n"
     ]
    }
   ],
   "source": [
    "# 길이.자릿수f\n",
    "a = '%10.2f' % 2.3\n",
    "print(a)\n",
    "\n",
    "b = '%10.4f' % 2.978678\n",
    "print(b)"
   ]
  },
  {
   "cell_type": "code",
   "execution_count": 23,
   "metadata": {},
   "outputs": [
    {
     "data": {
      "text/plain": [
       "'python    '"
      ]
     },
     "execution_count": 23,
     "metadata": {},
     "output_type": "execute_result"
    }
   ],
   "source": [
    "# %-길이s\n",
    "'%-10s' % 'python'"
   ]
  },
  {
   "cell_type": "markdown",
   "metadata": {},
   "source": [
    "### 5. 서식 지정자로 문자열 안에 값 여러 개 넣기"
   ]
  },
  {
   "cell_type": "code",
   "execution_count": 24,
   "metadata": {},
   "outputs": [
    {
     "data": {
      "text/plain": [
       "'Today is 3 june.'"
      ]
     },
     "execution_count": 24,
     "metadata": {},
     "output_type": "execute_result"
    }
   ],
   "source": [
    "'Today is %d %s.' % (3, 'june')"
   ]
  },
  {
   "cell_type": "markdown",
   "metadata": {},
   "source": [
    "서식 지정사 사이를 공백으로 띄워야한다.\n",
    "\n",
    "만약 서식 지정자를 서로 붙이면 결과도 붙어서 나오므로 주의해야 한다."
   ]
  },
  {
   "cell_type": "code",
   "execution_count": 25,
   "metadata": {},
   "outputs": [
    {
     "data": {
      "text/plain": [
       "'Today is 3june.'"
      ]
     },
     "execution_count": 25,
     "metadata": {},
     "output_type": "execute_result"
    }
   ],
   "source": [
    "'Today is %d%s.' % (3, 'june')"
   ]
  },
  {
   "cell_type": "markdown",
   "metadata": {},
   "source": [
    "### 6. format 메서드 사용하기\n",
    "\n",
    "파이썬은 문자열을 만들 때 서식 지정자 방식보다 더 간단한 문자열 포매팅(string formatting)을 제공한다.\n",
    "\n",
    "문자열 포매팅은 { }(중괄호) 안에 포매팅을 지정하고 format 메서드로 값을 넣는다."
   ]
  },
  {
   "cell_type": "code",
   "execution_count": 29,
   "metadata": {},
   "outputs": [
    {
     "name": "stdout",
     "output_type": "stream",
     "text": [
      "Hello, world!\n",
      "Hello, 100\n"
     ]
    }
   ],
   "source": [
    "a = 'Hello, {0}'.format('world!')\n",
    "print(a)\n",
    "\n",
    "b = 'Hello, {0}'.format(100)\n",
    "print(b)"
   ]
  },
  {
   "cell_type": "markdown",
   "metadata": {},
   "source": [
    "이렇게 문자열 안에 { }를 넣고 인덱스를 지정한다.\n",
    "\n",
    "그리고 format에는 { } 부분에 넣을 값을 지정하면 된다."
   ]
  },
  {
   "cell_type": "markdown",
   "metadata": {},
   "source": [
    "### 7. format 메서드로 값을 여러 개 넣기"
   ]
  },
  {
   "cell_type": "code",
   "execution_count": 30,
   "metadata": {},
   "outputs": [
    {
     "data": {
      "text/plain": [
       "'Hello, python, 3.6, Script'"
      ]
     },
     "execution_count": 30,
     "metadata": {},
     "output_type": "execute_result"
    }
   ],
   "source": [
    "'Hello, {0}, {2}, {1}'.format('python', 'Script', 3.6)"
   ]
  },
  {
   "cell_type": "code",
   "execution_count": null,
   "metadata": {},
   "outputs": [],
   "source": [
    "{ }에 인덱스를 지정한 뒤 format에는 인덱스가 증가하는 순서대로 값을 넣으면 된다.\n",
    "\n",
    "여기서는 {0} {2} {1}처럼 인덱스 순서를 섞었고 format에는 'Python', 'Script', 3.6 순으로 넣었다. \n",
    "\n",
    "따라서 문자열에는 인덱스 숫자에 해당하는 값이 들어가서 'Hello, Python 3.6 Script'가 나온다."
   ]
  },
  {
   "cell_type": "markdown",
   "metadata": {},
   "source": [
    "### 8. format 메서드로 같은 값을 여러 개 넣기\n",
    "\n",
    "특히 같은 인덱스가 지정된 { }를 여러 개 넣으면 같은 값이 여러 개 들어간다.\n",
    "\n",
    "다음은 문자열에 'Python'이 두 개, 'Script'가 두 개 들어간다."
   ]
  },
  {
   "cell_type": "code",
   "execution_count": 31,
   "metadata": {},
   "outputs": [
    {
     "data": {
      "text/plain": [
       "'Python Python Script Script'"
      ]
     },
     "execution_count": 31,
     "metadata": {},
     "output_type": "execute_result"
    }
   ],
   "source": [
    "'{0} {0} {1} {1}'.format('Python', 'Script')"
   ]
  },
  {
   "cell_type": "markdown",
   "metadata": {},
   "source": [
    "### 9. format 메서드에서 인덱스 생략하기\n",
    "\n",
    "만약 { }에서 인덱스를 생략하면 format에 지정한 순서대로 값이 들어간다."
   ]
  },
  {
   "cell_type": "code",
   "execution_count": 32,
   "metadata": {},
   "outputs": [
    {
     "data": {
      "text/plain": [
       "'Hello, Python Script 3.6'"
      ]
     },
     "execution_count": 32,
     "metadata": {},
     "output_type": "execute_result"
    }
   ],
   "source": [
    "'Hello, {} {} {}'.format('Python', 'Script', 3.6)"
   ]
  },
  {
   "cell_type": "markdown",
   "metadata": {},
   "source": [
    "### 10. format 메서드에서 인덱스 대신 이름 지정하기"
   ]
  },
  {
   "cell_type": "code",
   "execution_count": 33,
   "metadata": {},
   "outputs": [
    {
     "data": {
      "text/plain": [
       "'Hello, Python 3.6'"
      ]
     },
     "execution_count": 33,
     "metadata": {},
     "output_type": "execute_result"
    }
   ],
   "source": [
    "'Hello, {language} {version}'.format(language = 'Python', version = '3.6')"
   ]
  },
  {
   "cell_type": "markdown",
   "metadata": {},
   "source": [
    "{language}와 {version}처럼 { }에 이름을 지정했다.\n",
    "\n",
    "format에는 format(language='Python', version=3.6)과 같이 이름에 해당하는 값을 지정해주면 된다."
   ]
  },
  {
   "cell_type": "markdown",
   "metadata": {},
   "source": [
    "### 11. 문자열 포매팅에 변수를 그대로 사용하기"
   ]
  },
  {
   "cell_type": "code",
   "execution_count": 34,
   "metadata": {},
   "outputs": [
    {
     "data": {
      "text/plain": [
       "'Hello, Python 3.6'"
      ]
     },
     "execution_count": 34,
     "metadata": {},
     "output_type": "execute_result"
    }
   ],
   "source": [
    "language = 'Python'\n",
    "version = 3.6\n",
    "f'Hello, {language} {version}'"
   ]
  },
  {
   "cell_type": "markdown",
   "metadata": {},
   "source": [
    "#### (1) 중괄호 출력하기\n",
    "\n",
    "{ } 중괄호 자체를 출력할 때는 {{, }}처럼 중괄호를 두 번 사용하면 된다."
   ]
  },
  {
   "cell_type": "code",
   "execution_count": 35,
   "metadata": {},
   "outputs": [
    {
     "data": {
      "text/plain": [
       "'{ Python }'"
      ]
     },
     "execution_count": 35,
     "metadata": {},
     "output_type": "execute_result"
    }
   ],
   "source": [
    "'{{ {0} }}'.format('Python')"
   ]
  },
  {
   "cell_type": "markdown",
   "metadata": {},
   "source": [
    "### 12. format 메서드로 문자열 정렬하기\n",
    "\n",
    "인덱스 뒤에 :(콜론)을 붙이고 정렬할 방향과 길이를 지정해주면 된다.\n",
    "\n",
    "- '{인덱스:<길이}'.format(값)"
   ]
  },
  {
   "cell_type": "code",
   "execution_count": 36,
   "metadata": {},
   "outputs": [
    {
     "data": {
      "text/plain": [
       "'python    '"
      ]
     },
     "execution_count": 36,
     "metadata": {},
     "output_type": "execute_result"
    }
   ],
   "source": [
    "'{0:<10}'.format('python')"
   ]
  },
  {
   "cell_type": "code",
   "execution_count": null,
   "metadata": {},
   "outputs": [],
   "source": [
    "'{0:<10}'은 부등호 방향이 왼쪽을 가리키고 있다. \n",
    "\n",
    "그래서 문자열을 지정된 길이로 만든 뒤 왼쪽으로 정렬하고 남는 공간을 공백으로 채운다."
   ]
  },
  {
   "cell_type": "markdown",
   "metadata": {},
   "source": [
    "#### 오른쪽 정렬\n",
    "- '{인덱스:>길이}'.format(값)"
   ]
  },
  {
   "cell_type": "code",
   "execution_count": 39,
   "metadata": {},
   "outputs": [
    {
     "data": {
      "text/plain": [
       "'    python'"
      ]
     },
     "execution_count": 39,
     "metadata": {},
     "output_type": "execute_result"
    }
   ],
   "source": [
    "'{0:>10}'.format('python')"
   ]
  }
 ],
 "metadata": {
  "kernelspec": {
   "display_name": "Python 3",
   "language": "python",
   "name": "python3"
  },
  "language_info": {
   "codemirror_mode": {
    "name": "ipython",
    "version": 3
   },
   "file_extension": ".py",
   "mimetype": "text/x-python",
   "name": "python",
   "nbconvert_exporter": "python",
   "pygments_lexer": "ipython3",
   "version": "3.8.5"
  }
 },
 "nbformat": 4,
 "nbformat_minor": 4
}
