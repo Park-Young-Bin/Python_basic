{
 "cells": [
  {
   "cell_type": "markdown",
   "id": "1c84f11e-7652-41dd-9ddc-b20bcacbd7ed",
   "metadata": {},
   "source": [
    "# 6081번 [기초-종합] 16진수 구구단 출력하기(py)"
   ]
  },
  {
   "cell_type": "markdown",
   "id": "95a79ed1-cdaa-41c9-960c-9dc4c621b8d9",
   "metadata": {},
   "source": [
    "## 문제\n",
    "\n",
    "16진수(0, 1, 2, 3, 4, 5, 6, 7, 8, 9, A, B, C, D, E, F)를 배운 영일이는 \n",
    "\n",
    "16진수끼리 곱하는 16진수 구구단?에 대해서 궁금해졌다.\n",
    "\n",
    "A, B, C, D, E, F 중 하나가 입력될 때, 1부터 F까지 곱한 16진수 구구단의 내용을 출력해보자.\n",
    "(단, A ~ F 까지만 입력된다.)\n",
    "\n",
    "**예시**\n",
    "\n",
    "...\n",
    "\n",
    "  print('%X'%n, '*%X'%i, '=%X'%(n*i), sep='')\n",
    "  \n",
    "...\n",
    "\n",
    "**참고**\n",
    "\n",
    "print('%X'%n)    #n에 저장되어있는 값을 16진수(hexadecimal) 형태로 출력\n",
    "\n",
    "작은 따옴표 2개를 사용해서 print(..., sep='') 으로 출력하면, 공백없이 모두 붙여 출력된다.\n",
    "\n",
    "작은 따옴표 2개 '' 또는 큰 따옴표 2개 \"\" 는 아무 문자도 없는 빈문자열(empty string)을 의미한다.\n"
   ]
  },
  {
   "cell_type": "code",
   "execution_count": 12,
   "id": "8a47653f-a15e-44ba-8a0b-3cbc0c4c2698",
   "metadata": {},
   "outputs": [
    {
     "name": "stdin",
     "output_type": "stream",
     "text": [
      " B\n"
     ]
    },
    {
     "name": "stdout",
     "output_type": "stream",
     "text": [
      "B*1=B\n",
      "B*2=16\n",
      "B*3=21\n",
      "B*4=2C\n",
      "B*5=37\n",
      "B*6=42\n",
      "B*7=4D\n",
      "B*8=58\n",
      "B*9=63\n",
      "B*A=6E\n",
      "B*B=79\n",
      "B*C=84\n",
      "B*D=8F\n",
      "B*E=9A\n",
      "B*F=A5\n"
     ]
    }
   ],
   "source": [
    "n = int(input(), 16) \n",
    "for i in range(1, 16) : \n",
    "    print('%X'%n, '*%X'%i, '=%X'%(n*i), sep='')"
   ]
  },
  {
   "cell_type": "code",
   "execution_count": 13,
   "id": "009d5404-066b-497b-a564-7cef2172fb76",
   "metadata": {},
   "outputs": [],
   "source": [
    "# 16진수는 아직 익숙하지 않아서 나중에 한 번 더 봐야겠다."
   ]
  }
 ],
 "metadata": {
  "kernelspec": {
   "display_name": "Python 3",
   "language": "python",
   "name": "python3"
  },
  "language_info": {
   "codemirror_mode": {
    "name": "ipython",
    "version": 3
   },
   "file_extension": ".py",
   "mimetype": "text/x-python",
   "name": "python",
   "nbconvert_exporter": "python",
   "pygments_lexer": "ipython3",
   "version": "3.8.8"
  }
 },
 "nbformat": 4,
 "nbformat_minor": 5
}
