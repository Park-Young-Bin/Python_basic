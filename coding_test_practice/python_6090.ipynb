{
 "cells": [
  {
   "cell_type": "markdown",
   "id": "07d065d7",
   "metadata": {},
   "source": [
    "# 6090번 [기초-종합] 수 나열하기3(py)"
   ]
  },
  {
   "cell_type": "markdown",
   "id": "48ab55d0",
   "metadata": {},
   "source": [
    "## 문제\n",
    "시작 값(a), 곱할 값(m), 더할 값(d), 몇 번째인지를 나타내는 정수(n)가 입력될 때, n번째 수를 출력하는 프로그램을 만들어보자.\n",
    "\n",
    "예를 들어 1 -1 3 -5 11 -21 43 ... 은 1부터 시작해 이전에 만든 수에 -2를 곱한 다음 1을 더해 다음 수를 만든 수열이다."
   ]
  },
  {
   "cell_type": "code",
   "execution_count": 12,
   "id": "44015d64",
   "metadata": {},
   "outputs": [
    {
     "name": "stdout",
     "output_type": "stream",
     "text": [
      "1 -2 1 8\n",
      "-85\n"
     ]
    }
   ],
   "source": [
    "a, m, d, n = map(int, input().split())\n",
    "\n",
    "for i in range(1, n):\n",
    "    a = a * m + d\n",
    "print(a)"
   ]
  },
  {
   "cell_type": "markdown",
   "id": "8f0c8bc2",
   "metadata": {},
   "source": [
    "입력된 n을 range() 함수에 넣어서 for 문으로 돌린다.\n",
    "\n",
    "첫 번째 값 a가 그에 맞춰서 값이 변화하고 마지막 n 값이 들어가면서 for 반복문이 종료된다."
   ]
  }
 ],
 "metadata": {
  "kernelspec": {
   "display_name": "Python 3",
   "language": "python",
   "name": "python3"
  },
  "language_info": {
   "codemirror_mode": {
    "name": "ipython",
    "version": 3
   },
   "file_extension": ".py",
   "mimetype": "text/x-python",
   "name": "python",
   "nbconvert_exporter": "python",
   "pygments_lexer": "ipython3",
   "version": "3.8.8"
  }
 },
 "nbformat": 4,
 "nbformat_minor": 5
}
