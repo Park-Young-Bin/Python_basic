{
 "cells": [
  {
   "cell_type": "markdown",
   "metadata": {},
   "source": [
    "## 6016번 [기초-입출력] 시간 입력받아 그대로 출력하기(설명)(py)"
   ]
  },
  {
   "cell_type": "markdown",
   "metadata": {},
   "source": [
    "### 문제\n",
    "\n",
    "24시간 시:분 형식으로 시간이 입력될 때, 그대로 출력하는 연습을 해보자.\n",
    "\n",
    "**(예시)**\n",
    "\n",
    "a, b = input().split(':')\n",
    "\n",
    "print(a, b, sep=':')\n",
    "\n",
    "와 같은 방법으로 가능하다.\n",
    "\n",
    "\n",
    "**[참고]**\n",
    "\n",
    "input().split(':') 를 사용하면 콜론 ':' 기호를 기준으로 자른다.\n",
    "\n",
    "print(?, ?, sep=':') 를 사용하면 콜론 ':' 기호를 사이에 두고 값을 출력한다.\n",
    "\n",
    "sep 는 분류기호(seperator)를 의미한다."
   ]
  },
  {
   "cell_type": "code",
   "execution_count": 10,
   "metadata": {},
   "outputs": [
    {
     "name": "stdout",
     "output_type": "stream",
     "text": [
      "3:16\n",
      "3:16\n"
     ]
    }
   ],
   "source": [
    "a, b = input().split(':')\n",
    "print(a, b, sep=':')"
   ]
  },
  {
   "cell_type": "markdown",
   "metadata": {},
   "source": [
    "**나의 오답**"
   ]
  },
  {
   "cell_type": "code",
   "execution_count": 11,
   "metadata": {},
   "outputs": [
    {
     "name": "stdout",
     "output_type": "stream",
     "text": [
      "3 15\n",
      "a :  b\n"
     ]
    }
   ],
   "source": [
    "# 1\n",
    "a, b = input().split()  \n",
    "print('a' + ' : ' + 'b')"
   ]
  },
  {
   "cell_type": "code",
   "execution_count": 14,
   "metadata": {},
   "outputs": [
    {
     "name": "stdout",
     "output_type": "stream",
     "text": [
      "3 15\n",
      "3 : 15\n"
     ]
    }
   ],
   "source": [
    "# 2\n",
    "a, b = input().split()  \n",
    "print(a + ':' + b)"
   ]
  },
  {
   "cell_type": "code",
   "execution_count": 16,
   "metadata": {},
   "outputs": [
    {
     "name": "stdout",
     "output_type": "stream",
     "text": [
      "3 5\n",
      "3 : 5\n"
     ]
    }
   ],
   "source": [
    "# 3\n",
    "a, b = input().split()  \n",
    "print(a, ':', b)"
   ]
  },
  {
   "cell_type": "code",
   "execution_count": null,
   "metadata": {},
   "outputs": [],
   "source": []
  }
 ],
 "metadata": {
  "kernelspec": {
   "display_name": "Python 3",
   "language": "python",
   "name": "python3"
  },
  "language_info": {
   "codemirror_mode": {
    "name": "ipython",
    "version": 3
   },
   "file_extension": ".py",
   "mimetype": "text/x-python",
   "name": "python",
   "nbconvert_exporter": "python",
   "pygments_lexer": "ipython3",
   "version": "3.8.5"
  }
 },
 "nbformat": 4,
 "nbformat_minor": 4
}
