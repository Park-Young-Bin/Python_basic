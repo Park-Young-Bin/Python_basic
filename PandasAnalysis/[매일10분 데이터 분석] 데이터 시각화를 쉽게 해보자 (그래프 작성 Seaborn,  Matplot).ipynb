{
 "cells": [
  {
   "cell_type": "markdown",
   "id": "27d4fc72",
   "metadata": {},
   "source": [
    "# [매일10분 데이터 분석] 데이터 시각화를 쉽게 해보자 (그래프 작성 Seaborn,  Matplot)"
   ]
  },
  {
   "cell_type": "markdown",
   "id": "ad1f23e0",
   "metadata": {},
   "source": [
    "### 데이터 타입에 따른 시각화 유형\n",
    "#### 단일변수\n",
    "\n",
    "|데이터 타입|유형|\n",
    "|:-----------:|:--------------|\n",
    "|수치형|확률분포 또는 히스토그램|\n",
    "|범주형|빈도수 그래프(Bar / Pie Chart)|\n",
    "\n",
    "#### 다변수\n",
    "\n",
    "|데이터 타입|유형|\n",
    "|:-----------:|:--------------|\n",
    "|Y: 연속 / X: 연속 |산점도 / 회귀 그래프 / 히트맵|\n",
    "|Y: 연속 / X: 범주|막대 그래프 / 상자그림|\n",
    "|Y: 연속 / X: 시간(순서)|선 그래프 / 포인트 그래프|\n",
    "\n",
    "#### 데이터 시각화\n",
    "- Matlplot: MATLAB 인터페이스 기반, 다양한 옵션을 사용해서 정교한 그래프 작성 가능\n",
    "- Seaborn: Matplot 라이브러리를 기반, 통계 전용 시각화, Pandas 라이브러리와 연계가 잘 됨\n",
    "\n",
    "#### 실무에서 데이터를 분석하기 전 꼭 봐야할 것들\n",
    "   - 데이터 구조(index, column, value)\n",
    "   - 데이터 타입\n",
    "   - 어떤 데이터(key 값)를 기준으로 정렬되어 있는지"
   ]
  },
  {
   "cell_type": "code",
   "execution_count": 1,
   "id": "cdbeb7d3",
   "metadata": {},
   "outputs": [],
   "source": [
    "import pandas as pd"
   ]
  },
  {
   "cell_type": "code",
   "execution_count": 2,
   "id": "0cc9b597",
   "metadata": {},
   "outputs": [
    {
     "data": {
      "text/html": [
       "<div>\n",
       "<style scoped>\n",
       "    .dataframe tbody tr th:only-of-type {\n",
       "        vertical-align: middle;\n",
       "    }\n",
       "\n",
       "    .dataframe tbody tr th {\n",
       "        vertical-align: top;\n",
       "    }\n",
       "\n",
       "    .dataframe thead th {\n",
       "        text-align: right;\n",
       "    }\n",
       "</style>\n",
       "<table border=\"1\" class=\"dataframe\">\n",
       "  <thead>\n",
       "    <tr style=\"text-align: right;\">\n",
       "      <th></th>\n",
       "      <th>id</th>\n",
       "      <th>type_of_contract</th>\n",
       "      <th>type_of_contract2</th>\n",
       "      <th>channel</th>\n",
       "      <th>datetime</th>\n",
       "      <th>Term</th>\n",
       "      <th>payment_type</th>\n",
       "      <th>product</th>\n",
       "      <th>amount</th>\n",
       "      <th>state</th>\n",
       "      <th>overdue_count</th>\n",
       "      <th>overdue</th>\n",
       "      <th>credit rating</th>\n",
       "      <th>bank</th>\n",
       "      <th>cancellation</th>\n",
       "      <th>age</th>\n",
       "      <th>Mileage</th>\n",
       "    </tr>\n",
       "  </thead>\n",
       "  <tbody>\n",
       "    <tr>\n",
       "      <th>0</th>\n",
       "      <td>66758234</td>\n",
       "      <td>렌탈</td>\n",
       "      <td>Normal</td>\n",
       "      <td>서비스 방문</td>\n",
       "      <td>2019-10-20</td>\n",
       "      <td>60</td>\n",
       "      <td>CMS</td>\n",
       "      <td>K1</td>\n",
       "      <td>96900</td>\n",
       "      <td>계약확정</td>\n",
       "      <td>0</td>\n",
       "      <td>없음</td>\n",
       "      <td>9.0</td>\n",
       "      <td>새마을금고</td>\n",
       "      <td>정상</td>\n",
       "      <td>43.0</td>\n",
       "      <td>1862.0</td>\n",
       "    </tr>\n",
       "    <tr>\n",
       "      <th>1</th>\n",
       "      <td>66755948</td>\n",
       "      <td>렌탈</td>\n",
       "      <td>Extension_Rental</td>\n",
       "      <td>서비스 방문</td>\n",
       "      <td>2019-10-20</td>\n",
       "      <td>60</td>\n",
       "      <td>카드이체</td>\n",
       "      <td>K1</td>\n",
       "      <td>102900</td>\n",
       "      <td>계약확정</td>\n",
       "      <td>0</td>\n",
       "      <td>없음</td>\n",
       "      <td>2.0</td>\n",
       "      <td>현대카드</td>\n",
       "      <td>정상</td>\n",
       "      <td>62.0</td>\n",
       "      <td>2532.0</td>\n",
       "    </tr>\n",
       "    <tr>\n",
       "      <th>2</th>\n",
       "      <td>66756657</td>\n",
       "      <td>렌탈</td>\n",
       "      <td>Normal</td>\n",
       "      <td>홈쇼핑/방송</td>\n",
       "      <td>2019-10-20</td>\n",
       "      <td>60</td>\n",
       "      <td>CMS</td>\n",
       "      <td>K1</td>\n",
       "      <td>96900</td>\n",
       "      <td>계약확정</td>\n",
       "      <td>0</td>\n",
       "      <td>없음</td>\n",
       "      <td>8.0</td>\n",
       "      <td>우리은행</td>\n",
       "      <td>정상</td>\n",
       "      <td>60.0</td>\n",
       "      <td>2363.0</td>\n",
       "    </tr>\n",
       "    <tr>\n",
       "      <th>3</th>\n",
       "      <td>66423450</td>\n",
       "      <td>멤버십</td>\n",
       "      <td>TAS</td>\n",
       "      <td>렌탈재계약</td>\n",
       "      <td>2019-10-20</td>\n",
       "      <td>12</td>\n",
       "      <td>CMS</td>\n",
       "      <td>K1</td>\n",
       "      <td>66900</td>\n",
       "      <td>계약확정</td>\n",
       "      <td>0</td>\n",
       "      <td>없음</td>\n",
       "      <td>5.0</td>\n",
       "      <td>농협은행</td>\n",
       "      <td>정상</td>\n",
       "      <td>60.0</td>\n",
       "      <td>2449.0</td>\n",
       "    </tr>\n",
       "    <tr>\n",
       "      <th>4</th>\n",
       "      <td>66423204</td>\n",
       "      <td>멤버십</td>\n",
       "      <td>TAS</td>\n",
       "      <td>렌탈재계약</td>\n",
       "      <td>2019-10-20</td>\n",
       "      <td>12</td>\n",
       "      <td>CMS</td>\n",
       "      <td>K1</td>\n",
       "      <td>66900</td>\n",
       "      <td>해약확정</td>\n",
       "      <td>12</td>\n",
       "      <td>있음</td>\n",
       "      <td>8.0</td>\n",
       "      <td>농협은행</td>\n",
       "      <td>해약</td>\n",
       "      <td>51.0</td>\n",
       "      <td>1942.0</td>\n",
       "    </tr>\n",
       "  </tbody>\n",
       "</table>\n",
       "</div>"
      ],
      "text/plain": [
       "         id type_of_contract type_of_contract2 channel    datetime  Term  \\\n",
       "0  66758234               렌탈            Normal  서비스 방문  2019-10-20    60   \n",
       "1  66755948               렌탈  Extension_Rental  서비스 방문  2019-10-20    60   \n",
       "2  66756657               렌탈            Normal  홈쇼핑/방송  2019-10-20    60   \n",
       "3  66423450              멤버십               TAS   렌탈재계약  2019-10-20    12   \n",
       "4  66423204              멤버십               TAS   렌탈재계약  2019-10-20    12   \n",
       "\n",
       "  payment_type product  amount state  overdue_count overdue  credit rating  \\\n",
       "0          CMS      K1   96900  계약확정              0      없음            9.0   \n",
       "1         카드이체      K1  102900  계약확정              0      없음            2.0   \n",
       "2          CMS      K1   96900  계약확정              0      없음            8.0   \n",
       "3          CMS      K1   66900  계약확정              0      없음            5.0   \n",
       "4          CMS      K1   66900  해약확정             12      있음            8.0   \n",
       "\n",
       "    bank cancellation   age  Mileage  \n",
       "0  새마을금고           정상  43.0   1862.0  \n",
       "1   현대카드           정상  62.0   2532.0  \n",
       "2   우리은행           정상  60.0   2363.0  \n",
       "3   농협은행           정상  60.0   2449.0  \n",
       "4   농협은행           해약  51.0   1942.0  "
      ]
     },
     "execution_count": 2,
     "metadata": {},
     "output_type": "execute_result"
    }
   ],
   "source": [
    "df1=pd.read_csv('data03.csv')\n",
    "df1.head()"
   ]
  },
  {
   "cell_type": "code",
   "execution_count": null,
   "id": "bd081030",
   "metadata": {},
   "outputs": [],
   "source": [
    "해당 데이터는 datetime을 기준으로 정렬되어 있다."
   ]
  },
  {
   "cell_type": "code",
   "execution_count": 3,
   "id": "4ac87a1a",
   "metadata": {
    "collapsed": true
   },
   "outputs": [
    {
     "name": "stdout",
     "output_type": "stream",
     "text": [
      "<class 'pandas.core.frame.DataFrame'>\n",
      "RangeIndex: 51304 entries, 0 to 51303\n",
      "Data columns (total 17 columns):\n",
      " #   Column             Non-Null Count  Dtype  \n",
      "---  ------             --------------  -----  \n",
      " 0   id                 51304 non-null  int64  \n",
      " 1   type_of_contract   51300 non-null  object \n",
      " 2   type_of_contract2  51303 non-null  object \n",
      " 3   channel            51304 non-null  object \n",
      " 4   datetime           51304 non-null  object \n",
      " 5   Term               51304 non-null  int64  \n",
      " 6   payment_type       51304 non-null  object \n",
      " 7   product            51303 non-null  object \n",
      " 8   amount             51304 non-null  int64  \n",
      " 9   state              51304 non-null  object \n",
      " 10  overdue_count      51304 non-null  int64  \n",
      " 11  overdue            51302 non-null  object \n",
      " 12  credit rating      42521 non-null  float64\n",
      " 13  bank               48544 non-null  object \n",
      " 14  cancellation       51279 non-null  object \n",
      " 15  age                40509 non-null  float64\n",
      " 16  Mileage            40509 non-null  float64\n",
      "dtypes: float64(3), int64(4), object(10)\n",
      "memory usage: 6.7+ MB\n"
     ]
    }
   ],
   "source": [
    "df1.info()"
   ]
  },
  {
   "cell_type": "markdown",
   "id": "5d848681",
   "metadata": {},
   "source": [
    "## 1. 단일변수 시각화"
   ]
  },
  {
   "cell_type": "code",
   "execution_count": 5,
   "id": "81e5d2ff",
   "metadata": {},
   "outputs": [],
   "source": [
    "import seaborn as sns"
   ]
  },
  {
   "cell_type": "markdown",
   "id": "081f20d9",
   "metadata": {},
   "source": [
    "### 1) 막대 그래프(sns.countplot)"
   ]
  },
  {
   "cell_type": "markdown",
   "id": "6f94c71d",
   "metadata": {},
   "source": [
    "#### 문제 발생 (한글 폰트 깨짐, 그래프 및 범례 위치 조정 필요)"
   ]
  },
  {
   "cell_type": "code",
   "execution_count": 7,
   "id": "3e63b3fe",
   "metadata": {},
   "outputs": [
    {
     "data": {
      "text/plain": [
       "렌탈     46481\n",
       "멤버십     4819\n",
       "Name: type_of_contract, dtype: int64"
      ]
     },
     "execution_count": 7,
     "metadata": {},
     "output_type": "execute_result"
    }
   ],
   "source": [
    "df1['type_of_contract'].value_counts()"
   ]
  },
  {
   "cell_type": "code",
   "execution_count": 10,
   "id": "937fe6bd",
   "metadata": {
    "collapsed": true
   },
   "outputs": [
    {
     "name": "stderr",
     "output_type": "stream",
     "text": [
      "C:\\Users\\user\\anaconda3\\lib\\site-packages\\matplotlib\\backends\\backend_agg.py:238: RuntimeWarning: Glyph 47116 missing from current font.\n",
      "  font.set_text(s, 0.0, flags=flags)\n",
      "C:\\Users\\user\\anaconda3\\lib\\site-packages\\matplotlib\\backends\\backend_agg.py:238: RuntimeWarning: Glyph 53448 missing from current font.\n",
      "  font.set_text(s, 0.0, flags=flags)\n",
      "C:\\Users\\user\\anaconda3\\lib\\site-packages\\matplotlib\\backends\\backend_agg.py:238: RuntimeWarning: Glyph 47716 missing from current font.\n",
      "  font.set_text(s, 0.0, flags=flags)\n",
      "C:\\Users\\user\\anaconda3\\lib\\site-packages\\matplotlib\\backends\\backend_agg.py:238: RuntimeWarning: Glyph 48260 missing from current font.\n",
      "  font.set_text(s, 0.0, flags=flags)\n",
      "C:\\Users\\user\\anaconda3\\lib\\site-packages\\matplotlib\\backends\\backend_agg.py:238: RuntimeWarning: Glyph 49901 missing from current font.\n",
      "  font.set_text(s, 0.0, flags=flags)\n",
      "C:\\Users\\user\\anaconda3\\lib\\site-packages\\matplotlib\\backends\\backend_agg.py:201: RuntimeWarning: Glyph 47116 missing from current font.\n",
      "  font.set_text(s, 0, flags=flags)\n",
      "C:\\Users\\user\\anaconda3\\lib\\site-packages\\matplotlib\\backends\\backend_agg.py:201: RuntimeWarning: Glyph 53448 missing from current font.\n",
      "  font.set_text(s, 0, flags=flags)\n",
      "C:\\Users\\user\\anaconda3\\lib\\site-packages\\matplotlib\\backends\\backend_agg.py:201: RuntimeWarning: Glyph 47716 missing from current font.\n",
      "  font.set_text(s, 0, flags=flags)\n",
      "C:\\Users\\user\\anaconda3\\lib\\site-packages\\matplotlib\\backends\\backend_agg.py:201: RuntimeWarning: Glyph 48260 missing from current font.\n",
      "  font.set_text(s, 0, flags=flags)\n",
      "C:\\Users\\user\\anaconda3\\lib\\site-packages\\matplotlib\\backends\\backend_agg.py:201: RuntimeWarning: Glyph 49901 missing from current font.\n",
      "  font.set_text(s, 0, flags=flags)\n"
     ]
    },
    {
     "data": {
      "image/png": "[encoded data removed]",
      "text/plain": [
       "<Figure size 432x288 with 1 Axes>"
      ]
     },
     "metadata": {
      "needs_background": "light"
     },
     "output_type": "display_data"
    }
   ],
   "source": [
    "sns.countplot(data=df1, x='type_of_contract')"
   ]
  },
  {
   "cell_type": "markdown",
   "id": "063cf6f0",
   "metadata": {},
   "source": [
    "한글 폰트 깨짐 현상이 발생한다."
   ]
  },
  {
   "cell_type": "code",
   "execution_count": 11,
   "id": "678fc72a",
   "metadata": {
    "collapsed": true
   },
   "outputs": [
    {
     "data": {
      "text/plain": [
       "K1    39134\n",
       "K2     8995\n",
       "K3     2082\n",
       "K5      645\n",
       "K4      327\n",
       "K6      120\n",
       "Name: product, dtype: int64"
      ]
     },
     "execution_count": 11,
     "metadata": {},
     "output_type": "execute_result"
    }
   ],
   "source": [
    "df1['product'].value_counts()"
   ]
  },
  {
   "cell_type": "code",
   "execution_count": 13,
   "id": "56ed68cd",
   "metadata": {},
   "outputs": [
    {
     "data": {
      "text/plain": [
       "<AxesSubplot:xlabel='product', ylabel='count'>"
      ]
     },
     "execution_count": 13,
     "metadata": {},
     "output_type": "execute_result"
    },
    {
     "data": {
      "image/png": "[encoded data removed]",
      "text/plain": [
       "<Figure size 432x288 with 1 Axes>"
      ]
     },
     "metadata": {
      "needs_background": "light"
     },
     "output_type": "display_data"
    }
   ],
   "source": [
    "# type_of_contract2별(hue)로 product 빈도수 파악\n",
    "sns.countplot(data=df1, x = 'product', hue='type_of_contract2')"
   ]
  },
  {
   "cell_type": "markdown",
   "id": "147291ed",
   "metadata": {},
   "source": [
    "그래프 크기가 작으며 범례의 위치 조정이 필요하다."
   ]
  },
  {
   "cell_type": "markdown",
   "id": "c3f2f0bb",
   "metadata": {},
   "source": [
    "#### 문제 해결 (한글 폰트 적용, 그래프 크기 및 범례 위치 조정)"
   ]
  },
  {
   "cell_type": "code",
   "execution_count": 15,
   "id": "4e2682cb",
   "metadata": {},
   "outputs": [],
   "source": [
    "import matplotlib.pyplot as plt # 그래프 출력과 직접적인 연관이 있는 옵션을 사용할 때 이용\n",
    "import matplotlib as mpl # 외부적인 부분(한글 폰트, 글씨체, 음수 기호 표시)을 지정할 때 이용"
   ]
  },
  {
   "cell_type": "code",
   "execution_count": 16,
   "id": "9cd241bd",
   "metadata": {},
   "outputs": [],
   "source": [
    "# 한글 폰트 적용(맑은 고딕)\n",
    "mpl.rc('font', family = 'Malgun Gothic')"
   ]
  },
  {
   "cell_type": "code",
   "execution_count": 20,
   "id": "1e652f5f",
   "metadata": {},
   "outputs": [
    {
     "data": {
      "image/png": "[encoded data removed]",
      "text/plain": [
       "<Figure size 432x288 with 1 Axes>"
      ]
     },
     "metadata": {
      "needs_background": "light"
     },
     "output_type": "display_data"
    }
   ],
   "source": [
    "sns.countplot(data=df1, x='type_of_contract');"
   ]
  },
  {
   "cell_type": "markdown",
   "id": "03a71d41",
   "metadata": {},
   "source": [
    "한글 글씨체가 깨지지 않고 정상적으로 출력된다."
   ]
  },
  {
   "cell_type": "code",
   "execution_count": 28,
   "id": "823ea465",
   "metadata": {},
   "outputs": [
    {
     "data": {
      "image/png": "[encoded data removed]",
      "text/plain": [
       "<Figure size 720x360 with 1 Axes>"
      ]
     },
     "metadata": {
      "needs_background": "light"
     },
     "output_type": "display_data"
    }
   ],
   "source": [
    "# 그래프 크기 및 범례 위치 조정\n",
    "plt.figure(figsize=(10, 5)) # x축, y축\n",
    "sns.countplot(data=df1, x = 'product', hue='type_of_contract2')\n",
    "plt.legend(loc = 'upper right') # 그래프 출력 후 범례 위치를 조정한다.\n",
    "\n",
    "# 시각화 산출물을 파일로 저정하기\n",
    "plt.savefig('img.png')\n",
    "plt.savefig('img.pdf')"
   ]
  },
  {
   "cell_type": "markdown",
   "id": "248089c3",
   "metadata": {},
   "source": [
    "그래프의 크기가 이전보다 커졌으며 범례 위치도 적절하게 배치했다."
   ]
  },
  {
   "cell_type": "markdown",
   "id": "1ccb3c10",
   "metadata": {},
   "source": [
    "#### 문제 발생 (x축 레이블 겹침, 빈도수가 높은 상위 데이터만 추출)"
   ]
  },
  {
   "cell_type": "code",
   "execution_count": 35,
   "id": "c71f32d8",
   "metadata": {},
   "outputs": [
    {
     "data": {
      "text/plain": [
       "<AxesSubplot:xlabel='bank', ylabel='count'>"
      ]
     },
     "execution_count": 35,
     "metadata": {},
     "output_type": "execute_result"
    },
    {
     "data": {
      "image/png": "[encoded data removed]",
      "text/plain": [
       "<Figure size 432x288 with 1 Axes>"
      ]
     },
     "metadata": {
      "needs_background": "light"
     },
     "output_type": "display_data"
    }
   ],
   "source": [
    "sns.countplot(data=df1, x='bank')"
   ]
  },
  {
   "cell_type": "markdown",
   "id": "3b902f19",
   "metadata": {},
   "source": [
    "#### 문제 해결 (x축 레이블 겹침 현상)"
   ]
  },
  {
   "cell_type": "markdown",
   "id": "cbeee034",
   "metadata": {},
   "source": [
    "위 그래프는 x축 레이블이 겹쳐있고 막대 그래프가 크기 순으로 정렬되어 있지 않은 모습이다."
   ]
  },
  {
   "cell_type": "code",
   "execution_count": 40,
   "id": "72ca9339",
   "metadata": {},
   "outputs": [
    {
     "data": {
      "text/plain": [
       "<AxesSubplot:xlabel='count', ylabel='bank'>"
      ]
     },
     "execution_count": 40,
     "metadata": {},
     "output_type": "execute_result"
    },
    {
     "data": {
      "image/png": "[encoded data removed]",
      "text/plain": [
       "<Figure size 360x720 with 1 Axes>"
      ]
     },
     "metadata": {
      "needs_background": "light"
     },
     "output_type": "display_data"
    }
   ],
   "source": [
    "# y축으로 지정해서 x축 레이블 겹침 현상 해결\n",
    "plt.figure(figsize=[5,10])\n",
    "sns.countplot(data=df1, y='bank')"
   ]
  },
  {
   "cell_type": "markdown",
   "id": "d22d9c18",
   "metadata": {},
   "source": [
    "#### 문제 해결 (빈도수가 높은 몇 개 데이터만 출력)"
   ]
  },
  {
   "cell_type": "code",
   "execution_count": 41,
   "id": "4849a7d3",
   "metadata": {
    "collapsed": true
   },
   "outputs": [
    {
     "data": {
      "text/plain": [
       "국민은행         9901\n",
       "롯데카드         9518\n",
       "농협은행         6278\n",
       "신한은행         3522\n",
       "우리은행         3386\n",
       "기업은행         1963\n",
       "신한카드         1533\n",
       "하나은행         1446\n",
       "국민카드         1311\n",
       "BC카드         1264\n",
       "새마을금고         964\n",
       "부산은행          888\n",
       "삼성카드          884\n",
       "현대카드          876\n",
       "대구은행          746\n",
       "우체국           717\n",
       "외환은행          586\n",
       "외환카드          530\n",
       "경남은행          442\n",
       "SC제일은행        439\n",
       "광주은행          347\n",
       "신협중앙회         341\n",
       "전북은행          195\n",
       "씨티은행          162\n",
       "수협중앙회         160\n",
       "제주은행           40\n",
       "유안타증권          27\n",
       "산업은행           23\n",
       "현대증권           11\n",
       "삼성증권            7\n",
       "하나SK            6\n",
       "미래에셋증권          5\n",
       "신한금융투자          4\n",
       "한국투자증권          4\n",
       "NH농협카드          4\n",
       "우리카드            3\n",
       "대우증권            2\n",
       "씨티카드            1\n",
       "하이투자증권          1\n",
       "산림조합중앙회         1\n",
       "SK증권            1\n",
       "하나대투증권          1\n",
       "대신증권            1\n",
       "메리츠종합금융증권       1\n",
       "수협카드            1\n",
       "상호저축은행          1\n",
       "Name: bank, dtype: int64"
      ]
     },
     "execution_count": 41,
     "metadata": {},
     "output_type": "execute_result"
    }
   ],
   "source": [
    "# 빈도수 파악(빈도수가 높은 순서대로 정렬됨)\n",
    "df1['bank'].value_counts()"
   ]
  },
  {
   "cell_type": "code",
   "execution_count": 44,
   "id": "dd200e0d",
   "metadata": {},
   "outputs": [
    {
     "data": {
      "text/plain": [
       "<AxesSubplot:xlabel='bank', ylabel='count'>"
      ]
     },
     "execution_count": 44,
     "metadata": {},
     "output_type": "execute_result"
    },
    {
     "data": {
      "image/png": "[encoded data removed]",
      "text/plain": [
       "<Figure size 432x288 with 1 Axes>"
      ]
     },
     "metadata": {
      "needs_background": "light"
     },
     "output_type": "display_data"
    }
   ],
   "source": [
    "# '국민은행','롯데카드','농협은행','신한은행' 순서로 정렬(order)\n",
    "sns.countplot(data=df1, x = 'bank', order=['국민은행','롯데카드','농협은행','신한은행'])"
   ]
  },
  {
   "cell_type": "markdown",
   "id": "984bb93f",
   "metadata": {},
   "source": [
    "다른 은행명은 사라진다."
   ]
  },
  {
   "cell_type": "code",
   "execution_count": 49,
   "id": "e763c480",
   "metadata": {
    "collapsed": true
   },
   "outputs": [
    {
     "data": {
      "text/plain": [
       "['국민은행',\n",
       " '롯데카드',\n",
       " '농협은행',\n",
       " '신한은행',\n",
       " '우리은행',\n",
       " '기업은행',\n",
       " '신한카드',\n",
       " '하나은행',\n",
       " '국민카드',\n",
       " 'BC카드',\n",
       " '새마을금고',\n",
       " '부산은행',\n",
       " '삼성카드',\n",
       " '현대카드',\n",
       " '대구은행',\n",
       " '우체국',\n",
       " '외환은행',\n",
       " '외환카드',\n",
       " '경남은행',\n",
       " 'SC제일은행',\n",
       " '광주은행',\n",
       " '신협중앙회',\n",
       " '전북은행',\n",
       " '씨티은행',\n",
       " '수협중앙회',\n",
       " '제주은행',\n",
       " '유안타증권',\n",
       " '산업은행',\n",
       " '현대증권',\n",
       " '삼성증권',\n",
       " '하나SK',\n",
       " '미래에셋증권',\n",
       " '신한금융투자',\n",
       " '한국투자증권',\n",
       " 'NH농협카드',\n",
       " '우리카드',\n",
       " '대우증권',\n",
       " '씨티카드',\n",
       " '하이투자증권',\n",
       " '산림조합중앙회',\n",
       " 'SK증권',\n",
       " '하나대투증권',\n",
       " '대신증권',\n",
       " '메리츠종합금융증권',\n",
       " '수협카드',\n",
       " '상호저축은행']"
      ]
     },
     "execution_count": 49,
     "metadata": {},
     "output_type": "execute_result"
    }
   ],
   "source": [
    "# 'bank' 컬럼의 인덱스 확인(빈도수가 많은 순서대로 정렬됨) 및 리스트로 변환\n",
    "df1['bank'].value_counts().index.tolist()"
   ]
  },
  {
   "cell_type": "code",
   "execution_count": 50,
   "id": "0b486009",
   "metadata": {},
   "outputs": [],
   "source": [
    "# 변수 저장\n",
    "order_list = df1['bank'].value_counts().index.tolist()"
   ]
  },
  {
   "cell_type": "code",
   "execution_count": 58,
   "id": "3f84c068",
   "metadata": {},
   "outputs": [
    {
     "data": {
      "text/plain": [
       "Text(0.5, 1.0, '고객사의 상위 10개 은행사')"
      ]
     },
     "execution_count": 58,
     "metadata": {},
     "output_type": "execute_result"
    },
    {
     "data": {
      "image/png": "[encoded data removed]",
      "text/plain": [
       "<Figure size 720x360 with 1 Axes>"
      ]
     },
     "metadata": {
      "needs_background": "light"
     },
     "output_type": "display_data"
    }
   ],
   "source": [
    "# 빈도수가 높은 상위 10개 데이터만 출력\n",
    "# 고객사의 상위 10개 은행사\n",
    "plt.figure(figsize=[10,5])\n",
    "sns.countplot(data=df1, x='bank', order=order_list[0:10])\n",
    "plt.title('고객사의 상위 10개 은행사')"
   ]
  },
  {
   "cell_type": "markdown",
   "id": "4760bc87",
   "metadata": {},
   "source": [
    "### 2) 히스토그램"
   ]
  },
  {
   "cell_type": "code",
   "execution_count": 32,
   "id": "a5720d1c",
   "metadata": {
    "collapsed": true
   },
   "outputs": [
    {
     "data": {
      "text/plain": [
       "<AxesSubplot:title={'center':'계약 유형별, 고객 연령 분포'}, xlabel='age', ylabel='Count'>"
      ]
     },
     "execution_count": 32,
     "metadata": {},
     "output_type": "execute_result"
    },
    {
     "data": {
      "image/png": "[encoded data removed]",
      "text/plain": [
       "<Figure size 432x288 with 1 Axes>"
      ]
     },
     "metadata": {
      "needs_background": "light"
     },
     "output_type": "display_data"
    }
   ],
   "source": [
    "# 제목 및 확률분포 곡선 그래프(distribution) 추가\n",
    "plt.title('계약 유형별, 고객 연령 분포')\n",
    "sns.histplot(data=df1, x='age', kde = True, hue='type_of_contract')\n",
    "# plt.savefig('히스토그램.png')"
   ]
  },
  {
   "cell_type": "code",
   "execution_count": null,
   "id": "e54a4a1e",
   "metadata": {},
   "outputs": [],
   "source": []
  }
 ],
 "metadata": {
  "kernelspec": {
   "display_name": "Python 3",
   "language": "python",
   "name": "python3"
  },
  "language_info": {
   "codemirror_mode": {
    "name": "ipython",
    "version": 3
   },
   "file_extension": ".py",
   "mimetype": "text/x-python",
   "name": "python",
   "nbconvert_exporter": "python",
   "pygments_lexer": "ipython3",
   "version": "3.8.8"
  }
 },
 "nbformat": 4,
 "nbformat_minor": 5
}
