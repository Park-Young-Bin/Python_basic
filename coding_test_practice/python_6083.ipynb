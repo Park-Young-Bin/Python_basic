{
 "cells": [
  {
   "cell_type": "markdown",
   "id": "0b1261e2",
   "metadata": {},
   "source": [
    "# 6083번 [기초-종합] 빛 섞어 색 만들기(설명)(py)"
   ]
  },
  {
   "cell_type": "markdown",
   "id": "be52201b",
   "metadata": {},
   "source": [
    "## 문제 \n",
    "\n",
    "빨강(red), 초록(green), 파랑(blue) 빛을 섞어 여러 가지 다른 색 빛을 만들어 내려고 한다.\n",
    "\n",
    "빨강(r), 초록(g), 파랑(b) 각 빛의 가짓수가 주어질 때,\n",
    "\n",
    "주어진 rgb 빛들을 섞어 만들 수 있는 모든 경우의 조합(r g b)과 만들 수 있는 색의 가짓 수를 계산해보자.  "
   ]
  },
  {
   "cell_type": "code",
   "execution_count": 4,
   "id": "cc3fc101",
   "metadata": {},
   "outputs": [
    {
     "name": "stdout",
     "output_type": "stream",
     "text": [
      "2 2 2\n",
      "0, 0, 0\n",
      "0, 0, 1\n",
      "0, 1, 0\n",
      "0, 1, 1\n",
      "1, 0, 0\n",
      "1, 0, 1\n",
      "1, 1, 0\n",
      "1, 1, 1\n",
      "8\n"
     ]
    }
   ],
   "source": [
    "r,g,b = map(int,input().split()) # 세 가지 정수 입력\n",
    "count=0;\n",
    "for i in range(r):\n",
    "    for j in range(g):\n",
    "        for k in range(b):\n",
    "            print(f'{i}, {j}, {k}')\n",
    "            count+=1\n",
    "print(count)"
   ]
  },
  {
   "cell_type": "markdown",
   "id": "a986d09f",
   "metadata": {},
   "source": [
    "삼중 for문을 이용해서 만들어야 했다..."
   ]
  }
 ],
 "metadata": {
  "kernelspec": {
   "display_name": "Python 3",
   "language": "python",
   "name": "python3"
  },
  "language_info": {
   "codemirror_mode": {
    "name": "ipython",
    "version": 3
   },
   "file_extension": ".py",
   "mimetype": "text/x-python",
   "name": "python",
   "nbconvert_exporter": "python",
   "pygments_lexer": "ipython3",
   "version": "3.8.8"
  }
 },
 "nbformat": 4,
 "nbformat_minor": 5
}
