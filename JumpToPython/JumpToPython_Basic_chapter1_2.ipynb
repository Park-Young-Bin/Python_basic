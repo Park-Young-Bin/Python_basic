{
 "cells": [
  {
   "cell_type": "markdown",
   "metadata": {},
   "source": [
    "## 2. 파이썬 프로그래밍 기초, 자료형\n",
    "### 2-3. 리스트 자료형\n",
    "#### 리스트명 = [요소1, 요소2, 요소3, 요소4, ...]\n",
    "#### 리스트는 여러개의 변수를 하나의 변수에서 관리하기 편함"
   ]
  },
  {
   "cell_type": "code",
   "execution_count": 43,
   "metadata": {},
   "outputs": [
    {
     "name": "stdout",
     "output_type": "stream",
     "text": [
      "[1, 3, 5, 7, 9]\n"
     ]
    }
   ],
   "source": [
    "odd = [1,3,5,7,9]\n",
    "print(odd)"
   ]
  },
  {
   "cell_type": "code",
   "execution_count": 44,
   "metadata": {},
   "outputs": [
    {
     "name": "stdout",
     "output_type": "stream",
     "text": [
      "[]\n",
      "[1, 2, 3]\n",
      "['Life', 'is', 'too', 'short']\n",
      "[1, 2, 'Life', 'is']\n",
      "[1, 2, ['too', 'short']]\n"
     ]
    }
   ],
   "source": [
    "a =[]\n",
    "b=[1,2,3]\n",
    "c=['Life', 'is', 'too', 'short']\n",
    "d=[1,2,'Life', 'is']\n",
    "e = [1,2,['too', 'short']]\n",
    "\n",
    "print(a)\n",
    "print(b)\n",
    "print(c)\n",
    "print(d)\n",
    "print(e)\n",
    "\n",
    "# 리스트 안에는 어떠한 자료형도 포함시킬 수 있다."
   ]
  },
  {
   "cell_type": "markdown",
   "metadata": {},
   "source": [
    "#### (1) 리스트의 인덱싱과 슬라이싱"
   ]
  },
  {
   "cell_type": "code",
   "execution_count": 45,
   "metadata": {},
   "outputs": [
    {
     "name": "stdout",
     "output_type": "stream",
     "text": [
      "4\n",
      "Life\n",
      "[3, 4, 5]\n",
      "[3, ['a', 'b', 'c'], 4]\n",
      "['a', 'b']\n"
     ]
    }
   ],
   "source": [
    "# 리스트의 인덱싱\n",
    "a = [1,2,3,4]\n",
    "print(a[0] + a[2])\n",
    "\n",
    "# 삼중 리스트에서 인덱싱하기\n",
    "a = [1,2,['a', 'b',['Life', 'is']]]\n",
    "print(a[2][2][0])\n",
    "\n",
    "# 리스트의 슬라이싱\n",
    "a = [1,2,3,4,5]\n",
    "print(a[2:5])\n",
    "\n",
    "# 중첩된 리스트에서 슬라이싱하기\n",
    "a = [1,2,3,['a', 'b', 'c'], 4, 5]\n",
    "print(a[2:5])\n",
    "print(a[3][:2])"
   ]
  },
  {
   "cell_type": "markdown",
   "metadata": {},
   "source": [
    "#### (2) 리스트 연산하기"
   ]
  },
  {
   "cell_type": "code",
   "execution_count": 46,
   "metadata": {},
   "outputs": [
    {
     "name": "stdout",
     "output_type": "stream",
     "text": [
      "[1, 2, 3, 4, 5, 6]\n",
      "[1, 2, 3, 1, 2, 3, 1, 2, 3]\n",
      "3\n"
     ]
    }
   ],
   "source": [
    "# 1) 리스트 더하기\n",
    "a=[1,2,3]\n",
    "b=[4,5,6]\n",
    "print(a+b)\n",
    "\n",
    "# 2) 리스트 반복하기\n",
    "a = [1,2,3]\n",
    "print(a*3)\n",
    "\n",
    "# 3) 리스트 길이 구하기\n",
    "a = [1,2,3]\n",
    "print(len(a))"
   ]
  },
  {
   "cell_type": "markdown",
   "metadata": {},
   "source": [
    "#### (3) 리스트의 수정과 삭제"
   ]
  },
  {
   "cell_type": "code",
   "execution_count": 47,
   "metadata": {},
   "outputs": [
    {
     "name": "stdout",
     "output_type": "stream",
     "text": [
      "[1, 2, 4]\n",
      "[1, 2]\n",
      "['문재성']\n"
     ]
    }
   ],
   "source": [
    "# 1) 리스트에서 값 수정하기\n",
    "a = [1,2,3]\n",
    "a[2] = 4\n",
    "print(a)\n",
    "\n",
    "# 2) del함수 사용해 리스트 요소 삭제하기\n",
    "a=[1,2,3,4,5]\n",
    "del a[2:]         # del 객체: del a[x]는 x번째 요솟값을 삭제한다.\n",
    "print(a)          # 객체란 파이썬에서 사용되는 모든 자료형을 말한다.\n",
    "\n",
    "a = ['박주하', '잠수', '문재성']\n",
    "a[:2] =[]\n",
    "print(a)"
   ]
  },
  {
   "cell_type": "markdown",
   "metadata": {},
   "source": [
    "#### (4) 리스트 관련 함수"
   ]
  },
  {
   "cell_type": "code",
   "execution_count": 48,
   "metadata": {},
   "outputs": [
    {
     "name": "stdout",
     "output_type": "stream",
     "text": [
      "[1, 2, 3, 4]\n",
      "[1, 2, 3, 4, [5, 6]]\n"
     ]
    }
   ],
   "source": [
    "# 1) 리스트 요소 추가(append)\n",
    "a = [1,2,3]\n",
    "a.append(4)\n",
    "print(a)\n",
    "\n",
    "a.append([5,6])\n",
    "print(a)\n",
    "\n",
    "# append: 덧붙이다, 첨부하다\n",
    "# append(x): 리스트의 맨 마지막에 x를 추가한다.\n",
    "# 리스트 안에는 어떤 자료형도 추가할 수 있다."
   ]
  },
  {
   "cell_type": "code",
   "execution_count": 49,
   "metadata": {},
   "outputs": [
    {
     "name": "stdout",
     "output_type": "stream",
     "text": [
      "[1, 2, 3, 4, 6]\n",
      "['a', 'c', 'd', 'j', 'z']\n"
     ]
    }
   ],
   "source": [
    "# 2) 리스트 정렬(sort) (오름차순)\n",
    "a=[1,4,6,3,2]\n",
    "a.sort()\n",
    "print(a)\n",
    "\n",
    "b = ['a', 'd', 'c', 'z', 'j']\n",
    "b.sort()\n",
    "print(b)"
   ]
  },
  {
   "cell_type": "code",
   "execution_count": 50,
   "metadata": {},
   "outputs": [
    {
     "name": "stdout",
     "output_type": "stream",
     "text": [
      "['b', 'e', 'a']\n"
     ]
    }
   ],
   "source": [
    "# 3) 리스트 뒤집기(reverse) (역순, 현재의 리스트를 그대로 거꾸로 뒤집는다.)\n",
    "a=['a', 'e', 'b']\n",
    "a.reverse()\n",
    "print(a)"
   ]
  },
  {
   "cell_type": "code",
   "execution_count": 1,
   "metadata": {},
   "outputs": [
    {
     "name": "stdout",
     "output_type": "stream",
     "text": [
      "2\n",
      "0\n"
     ]
    },
    {
     "ename": "ValueError",
     "evalue": "0 is not in list",
     "output_type": "error",
     "traceback": [
      "\u001b[1;31m---------------------------------------------------------------------------\u001b[0m",
      "\u001b[1;31mValueError\u001b[0m                                Traceback (most recent call last)",
      "\u001b[1;32m<ipython-input-1-88affb9cb746>\u001b[0m in \u001b[0;36m<module>\u001b[1;34m\u001b[0m\n\u001b[0;32m      6\u001b[0m \u001b[1;31m# index(x) 함수는 리스트에 x값이 있으면 x의 위치 값을 반환한다.\u001b[0m\u001b[1;33m\u001b[0m\u001b[1;33m\u001b[0m\u001b[1;33m\u001b[0m\u001b[0m\n\u001b[0;32m      7\u001b[0m \u001b[1;33m\u001b[0m\u001b[0m\n\u001b[1;32m----> 8\u001b[1;33m \u001b[0mprint\u001b[0m\u001b[1;33m(\u001b[0m\u001b[0ma\u001b[0m\u001b[1;33m.\u001b[0m\u001b[0mindex\u001b[0m\u001b[1;33m(\u001b[0m\u001b[1;36m0\u001b[0m\u001b[1;33m)\u001b[0m\u001b[1;33m)\u001b[0m \u001b[1;31m# 0은 존재하지 않기 때문에 값 오류가 발생한다.\u001b[0m\u001b[1;33m\u001b[0m\u001b[1;33m\u001b[0m\u001b[0m\n\u001b[0m",
      "\u001b[1;31mValueError\u001b[0m: 0 is not in list"
     ]
    }
   ],
   "source": [
    "# 4) 위치 반환(index)\n",
    "a = [1,2,3]\n",
    "print(a.index(3))\n",
    "print(a.index(1))\n",
    "\n",
    "# index(x) 함수는 리스트에 x값이 있으면 x의 위치 값을 반환한다.\n",
    "\n",
    "# print(a.index(0)) # 0은 존재하지 않기 때문에 값 오류가 발생한다."
   ]
  },
  {
   "cell_type": "code",
   "execution_count": 4,
   "metadata": {},
   "outputs": [
    {
     "name": "stdout",
     "output_type": "stream",
     "text": [
      "[4, 1, 2, 3]\n",
      "[4, 1, 2, 5, 3]\n"
     ]
    }
   ],
   "source": [
    "# 5) 리스트에 요소 삽입(insert)\n",
    "a=[1,2,3]\n",
    "a.insert(0, 4)       # a[0] 위치에  4 삽입\n",
    "print(a)\n",
    "\n",
    "a.insert(3, 5)\n",
    "print(a)\n",
    "\n",
    "# insert(a, b)는 리스트의 a번째 위치에 b를 삽입하는 함수이다.\n",
    "# 파이썬에서는 숫자를 0부터 센다는 것을 반드시 기억하자."
   ]
  },
  {
   "cell_type": "code",
   "execution_count": 5,
   "metadata": {},
   "outputs": [
    {
     "name": "stdout",
     "output_type": "stream",
     "text": [
      "[1, 2, 1, 2, 3]\n"
     ]
    }
   ],
   "source": [
    "# 6) 리스트에 요소 제거(remove)\n",
    "a = [1,2,3,1,2,3]\n",
    "a.remove(3)\n",
    "print(a)\n",
    "\n",
    "# a.remove(x)는 첫 번째로 나오는 x를 삭제하는 함수이다."
   ]
  },
  {
   "cell_type": "code",
   "execution_count": 10,
   "metadata": {},
   "outputs": [
    {
     "name": "stdout",
     "output_type": "stream",
     "text": [
      "3\n",
      "[1, 2]\n"
     ]
    }
   ],
   "source": [
    "# 7) 리스트 요소 끄집어내기(pop)\n",
    "a = [1,2,3]\n",
    "print(a.pop())     # 마지막 요소인 3을 빼낸다.\n",
    "print(a)           # 3을 제외한 나머지 요소만 출력\n"
   ]
  },
  {
   "cell_type": "code",
   "execution_count": 11,
   "metadata": {},
   "outputs": [
    {
     "name": "stdout",
     "output_type": "stream",
     "text": [
      "1\n"
     ]
    }
   ],
   "source": [
    "# 8) 리스트에 포함된 요소 x의 개수 세기(count)\n",
    "a = [1,2,3]\n",
    "print(a.count(1))\n",
    "\n",
    "# count(x)는 리스트 안에 x가 몇 개 있는지 그 개수를 돌려주는 함수이다."
   ]
  },
  {
   "cell_type": "code",
   "execution_count": 15,
   "metadata": {},
   "outputs": [
    {
     "name": "stdout",
     "output_type": "stream",
     "text": [
      "[1, 2, 3, 4, 5]\n",
      "[1, 2, 3, 4, 5, 6, 7]\n"
     ]
    }
   ],
   "source": [
    "# 9) 리스트 확장(extend)\n",
    "a = [1,2,3]\n",
    "a.extend([4,5])\n",
    "print(a)\n",
    "\n",
    "b=[6,7]\n",
    "a.extend(b)\n",
    "print(a)\n",
    "\n",
    "# extend(x)에서 x에는 리스트만 올 수 있으며 원래의 a 리스트에 x 리스트를 더하게 된다."
   ]
  },
  {
   "cell_type": "markdown",
   "metadata": {},
   "source": [
    "### 2-4. 튜플 자료형\n",
    "#### 리스트는 []으로 둘러싸지만 튜플은 ()로 둘러싼다.\n",
    "#### 리스트는 그 값의 생성, 삭제, 수정이 가능하지만 튜플은 그 값을 바꿀 수 없다.\n",
    "#### 리스트와 튜플의 큰 차이는 값을 변화시킬 수 있는가 여부이다.\n",
    "#### 프로그램이 실행되는 동안 그 값이 변하지 않기를 바라거나 값이 바뀔까 걱정하고 싶지 않다면 주저하지 말고 튜플을 사용해야 한다. \n",
    "#### 하지만 실제 프로그램에서는 값이 변경되는 형태의 변수가 휠씬 많기 때문에 평균적으로 리스트를 더 많이 사용한다."
   ]
  },
  {
   "cell_type": "code",
   "execution_count": 16,
   "metadata": {},
   "outputs": [
    {
     "ename": "TypeError",
     "evalue": "'tuple' object does not support item assignment",
     "output_type": "error",
     "traceback": [
      "\u001b[1;31m---------------------------------------------------------------------------\u001b[0m",
      "\u001b[1;31mTypeError\u001b[0m                                 Traceback (most recent call last)",
      "\u001b[1;32m<ipython-input-16-8dc16545c5bc>\u001b[0m in \u001b[0;36m<module>\u001b[1;34m\u001b[0m\n\u001b[0;32m      7\u001b[0m \u001b[1;31m# 2) 변경\u001b[0m\u001b[1;33m\u001b[0m\u001b[1;33m\u001b[0m\u001b[1;33m\u001b[0m\u001b[0m\n\u001b[0;32m      8\u001b[0m \u001b[0mt1\u001b[0m \u001b[1;33m=\u001b[0m \u001b[1;33m(\u001b[0m\u001b[1;36m1\u001b[0m\u001b[1;33m,\u001b[0m\u001b[1;36m2\u001b[0m\u001b[1;33m,\u001b[0m\u001b[1;34m'a'\u001b[0m\u001b[1;33m,\u001b[0m \u001b[1;34m'b'\u001b[0m\u001b[1;33m)\u001b[0m\u001b[1;33m\u001b[0m\u001b[1;33m\u001b[0m\u001b[0m\n\u001b[1;32m----> 9\u001b[1;33m \u001b[0mt1\u001b[0m\u001b[1;33m[\u001b[0m\u001b[1;36m0\u001b[0m\u001b[1;33m]\u001b[0m \u001b[1;33m=\u001b[0m \u001b[1;34m'c'\u001b[0m\u001b[1;33m\u001b[0m\u001b[1;33m\u001b[0m\u001b[0m\n\u001b[0m\u001b[0;32m     10\u001b[0m \u001b[0mprint\u001b[0m\u001b[1;33m(\u001b[0m\u001b[0mt1\u001b[0m\u001b[1;33m)\u001b[0m\u001b[1;33m\u001b[0m\u001b[1;33m\u001b[0m\u001b[0m\n",
      "\u001b[1;31mTypeError\u001b[0m: 'tuple' object does not support item assignment"
     ]
    }
   ],
   "source": [
    "# 만약 튜플의 요솟값을 지우거나 변경하려고 한다면 어떻게 될까?\n",
    "# 1) 삭제\n",
    "# t1 = (1,2,'a', 'b')\n",
    "# del t1[0]\n",
    "# print(t1)\n",
    "\n",
    "# 2) 변경\n",
    "t1 = (1,2,'a', 'b')\n",
    "t1[0] = 'c'\n",
    "print(t1)"
   ]
  },
  {
   "cell_type": "markdown",
   "metadata": {},
   "source": [
    "#### (1) 튜플 다루기\n",
    "#### 튜플은 값을 변화시킬 수 없다는 점만 제외하면 리스트와 완전히 동일하다."
   ]
  },
  {
   "cell_type": "code",
   "execution_count": 53,
   "metadata": {},
   "outputs": [
    {
     "name": "stdout",
     "output_type": "stream",
     "text": [
      "1\n",
      "(2, 'a', 'b')\n",
      "(1, 2, 'a', 'b', 3, 4)\n",
      "(3, 4, 3, 4, 3, 4)\n",
      "4\n"
     ]
    }
   ],
   "source": [
    "# 1) 인덱싱\n",
    "t1 = (1, 2, 'a', 'b')\n",
    "print(t1[0])\n",
    "\n",
    "# 2) 슬라이싱\n",
    "print(t1[1:])\n",
    "\n",
    "# 3) 튜플 더하기\n",
    "t2 = (3,4)\n",
    "print(t1 + t2)\n",
    "\n",
    "# 4) 튜플 곱하기\n",
    "print(t2*3)\n",
    "\n",
    "# 5) 튜플 길이 구하기\n",
    "print(len(t1))"
   ]
  },
  {
   "cell_type": "markdown",
   "metadata": {},
   "source": [
    "### 2-5. ★딕셔너리 자료형★\n",
    "#### Key와 Value로 이루어져 있다. Key를 통해 Value를 얻는다.\n",
    "#### 딕셔너리의 모습: {key1:value1, key2:value2, key3:value3}\n",
    "#### 예시: dic = {'name' : 'pey', 'phone' : '01199993233', 'birth' : '1118'}"
   ]
  },
  {
   "cell_type": "markdown",
   "metadata": {},
   "source": [
    "#### (1) 딕셔너리 쌍 추가, 삭제하기"
   ]
  },
  {
   "cell_type": "code",
   "execution_count": 54,
   "metadata": {},
   "outputs": [
    {
     "name": "stdout",
     "output_type": "stream",
     "text": [
      "{1: 'a', 2: 'b'}\n",
      "{1: 'a', 2: 'b', 'name': 'pey'}\n",
      "{1: 'a', 2: 'b', 'name': 'pey', 3: [1, 2, 3]}\n",
      "{2: 'b', 'name': 'pey', 3: [1, 2, 3]}\n"
     ]
    }
   ],
   "source": [
    "# 1) 딕셔너리 쌍 추가하기\n",
    "a = {1: 'a'}\n",
    "a[2] = 'b'             # {2: 'b'} 쌍 추가\n",
    "print(a)\n",
    "\n",
    "a['name'] = 'pey'      # {'name': 'pey'} 쌍 추가\n",
    "print(a)\n",
    "\n",
    "a[3] = [1,2,3]         # {3: [1,2,3]} 쌍 추가\n",
    "print(a)\n",
    "\n",
    "# 2) 딕셔너리 요소 삭제하기\n",
    "del a[1]               # Key가 1인 key:value 쌍 삭제\n",
    "print(a)"
   ]
  },
  {
   "cell_type": "markdown",
   "metadata": {},
   "source": [
    "#### (2) 딕셔너리를 사용하는 방법"
   ]
  },
  {
   "cell_type": "code",
   "execution_count": 55,
   "metadata": {},
   "outputs": [
    {
     "name": "stdout",
     "output_type": "stream",
     "text": [
      "10\n",
      "99\n"
     ]
    }
   ],
   "source": [
    "grade = {'pey':10, 'julliet':99}\n",
    "print(grade['pey'])          # key가 'pey'인 딕셔너리의 Value 반환\n",
    "print(grade['julliet'])      # key가 'julliet'인 딕셔너리의 Value 반환"
   ]
  },
  {
   "cell_type": "markdown",
   "metadata": {},
   "source": [
    "#### ※ 주의사항: Key는 고유한 값이므로 중복 불가능, Value는 중복 가능\n",
    "#### ※ 주의사항: Key에 리스트는 쓸 수 없음, 하지만  튜플은 Key로 사용 가능"
   ]
  },
  {
   "cell_type": "code",
   "execution_count": 63,
   "metadata": {},
   "outputs": [
    {
     "name": "stdout",
     "output_type": "stream",
     "text": [
      "b\n"
     ]
    }
   ],
   "source": [
    "a = {1:'a', 1:'b'}     # 1이라는 key 값이 중복으로 사용\n",
    "print(a[1])            # 1:'a' 쌍이 무시됨\n",
    "\n",
    "# a = {[1,2] : 'hi'}\n",
    "# print(a)               # 에러 발생: TypeError: unhashable type: 'list'"
   ]
  },
  {
   "cell_type": "markdown",
   "metadata": {},
   "source": [
    "#### (3) 딕셔너리 관련 함수"
   ]
  },
  {
   "cell_type": "code",
   "execution_count": 58,
   "metadata": {},
   "outputs": [
    {
     "name": "stdout",
     "output_type": "stream",
     "text": [
      "dict_keys(['name', 'phone', 'birth'])\n",
      "dict_values(['pey', '0119993323', '1118'])\n",
      "dict_items([('name', 'pey'), ('phone', '0119993323'), ('birth', '1118')])\n",
      "{}\n"
     ]
    }
   ],
   "source": [
    "# 1) Key 리스트 만들기(keys) (자주 사용)\n",
    "a = {'name':'pey', 'phone':'0119993323', 'birth':'1118'}\n",
    "print(a.keys())\n",
    "\n",
    "# a.keys()는 딕셔너리 a의 Key만을 모아서 dict_keys 객체를 돌려준다.\n",
    "\n",
    "# 2) Value 리스트 만들기(values) (자주 사용)\n",
    "print(a.values())\n",
    "\n",
    "# 3) Key, Value 쌍 얻기(items) (튜플 형태로 돌려줌)\n",
    "print(a.items())\n",
    "\n",
    "# Key와 Value의 쌍을 튜플로 묶은 값을 dict_items 객체로 돌려준다.\n",
    "\n",
    "# 4) Key: Value 쌍 모두 지우기 (clear)\n",
    "a.clear()\n",
    "print(a)"
   ]
  },
  {
   "cell_type": "code",
   "execution_count": 17,
   "metadata": {},
   "outputs": [
    {
     "name": "stdout",
     "output_type": "stream",
     "text": [
      "pey\n",
      "pey\n",
      "None\n"
     ]
    },
    {
     "ename": "NameError",
     "evalue": "name 'nokey' is not defined",
     "output_type": "error",
     "traceback": [
      "\u001b[1;31m---------------------------------------------------------------------------\u001b[0m",
      "\u001b[1;31mNameError\u001b[0m                                 Traceback (most recent call last)",
      "\u001b[1;32m<ipython-input-17-f8d253cbb015>\u001b[0m in \u001b[0;36m<module>\u001b[1;34m\u001b[0m\n\u001b[0;32m      5\u001b[0m \u001b[1;33m\u001b[0m\u001b[0m\n\u001b[0;32m      6\u001b[0m \u001b[0mprint\u001b[0m\u001b[1;33m(\u001b[0m\u001b[0ma\u001b[0m\u001b[1;33m.\u001b[0m\u001b[0mget\u001b[0m\u001b[1;33m(\u001b[0m\u001b[1;34m'nokey'\u001b[0m\u001b[1;33m)\u001b[0m\u001b[1;33m)\u001b[0m\u001b[1;33m\u001b[0m\u001b[1;33m\u001b[0m\u001b[0m\n\u001b[1;32m----> 7\u001b[1;33m \u001b[0mprint\u001b[0m\u001b[1;33m(\u001b[0m\u001b[0ma\u001b[0m\u001b[1;33m[\u001b[0m\u001b[0mnokey\u001b[0m\u001b[1;33m]\u001b[0m\u001b[1;33m)\u001b[0m         \u001b[1;31m# 오류 발생 >> NameError: name 'nokey' is not defined\u001b[0m\u001b[1;33m\u001b[0m\u001b[1;33m\u001b[0m\u001b[0m\n\u001b[0m\u001b[0;32m      8\u001b[0m \u001b[1;33m\u001b[0m\u001b[0m\n\u001b[0;32m      9\u001b[0m \u001b[0mprint\u001b[0m\u001b[1;33m(\u001b[0m\u001b[0ma\u001b[0m\u001b[1;33m.\u001b[0m\u001b[0mget\u001b[0m\u001b[1;33m(\u001b[0m\u001b[1;34m'nokey'\u001b[0m\u001b[1;33m,\u001b[0m \u001b[1;34m'없음'\u001b[0m\u001b[1;33m)\u001b[0m\u001b[1;33m)\u001b[0m    \u001b[1;31m# 오류 메시지 표기하기\u001b[0m\u001b[1;33m\u001b[0m\u001b[1;33m\u001b[0m\u001b[0m\n",
      "\u001b[1;31mNameError\u001b[0m: name 'nokey' is not defined"
     ]
    }
   ],
   "source": [
    "# 5) Key로 Value 얻기(get)\n",
    "a = {'name':'pey', 'phone':'0119993323', 'birth':'1118'}\n",
    "print(a.get('name'))\n",
    "print(a['name'])        # 동일한 결과\n",
    "\n",
    "print(a.get('nokey'))\n",
    "# print(a[nokey])         # 오류 발생 >> NameError: name 'nokey' is not defined\n",
    "\n",
    "print(a.get('nokey', '없음'))    # 오류 메시지 표기하기"
   ]
  },
  {
   "cell_type": "code",
   "execution_count": 60,
   "metadata": {},
   "outputs": [
    {
     "name": "stdout",
     "output_type": "stream",
     "text": [
      "True\n",
      "False\n"
     ]
    }
   ],
   "source": [
    "# 6) 해당 Key가 딕셔너리 안에 있는지 조사하기(in)\n",
    "\n",
    "a = {'name':'pey', 'phone':'0119993323', 'birth':'1118'}\n",
    "print('name' in a)\n",
    "print('email' in a)"
   ]
  },
  {
   "cell_type": "markdown",
   "metadata": {},
   "source": [
    "### 2-6. 집합 자료형\n",
    "#### 하나의 집합 안에 중복 요소를 갖출 수 없다.\n",
    "#### 1. 집합에 관련된 것들을 쉽게 처리하기 위해 만들어진 자료형\n",
    "#### 2. 중복 허용X\n",
    "#### 3. 순서X"
   ]
  },
  {
   "cell_type": "markdown",
   "metadata": {},
   "source": [
    "#### (1) 집합 자료형은 어떻게 만들까?"
   ]
  },
  {
   "cell_type": "code",
   "execution_count": 2,
   "metadata": {},
   "outputs": [
    {
     "name": "stdout",
     "output_type": "stream",
     "text": [
      "{1, 2, 3}\n",
      "{'o', 'H', 'e', 'l'}\n"
     ]
    }
   ],
   "source": [
    "s1 = set([1,2,3])     # s1 = {1,2,3} 으로 표기 가능\n",
    "print(s1)\n",
    "\n",
    "s2 = set(\"Hello\")\n",
    "print(s2)             # 집합은 중복을 허용하지 않는다."
   ]
  },
  {
   "cell_type": "markdown",
   "metadata": {},
   "source": [
    "#### (2) 집합 자료형의 특징"
   ]
  },
  {
   "cell_type": "code",
   "execution_count": 18,
   "metadata": {},
   "outputs": [
    {
     "name": "stdout",
     "output_type": "stream",
     "text": [
      "[1, 2, 3]\n",
      "1\n",
      "(1, 2, 3)\n",
      "1\n"
     ]
    }
   ],
   "source": [
    "# 집합은 순서가 없기 때문에 인덱싱으로 값을 얻을 수 없다.\n",
    "# 따라서 set 자료형에 저장된 값을 인덱싱으로 접근하려면 다음과 같이 리스트나 튜플로 변환해야한다.\n",
    "\n",
    "s1 = set([1,2,3])\n",
    "l1 = list(s1)         # 리스트로 변환\n",
    "print(l1)\n",
    "print(l1[0])\n",
    "\n",
    "t1 = tuple(s1)\n",
    "print(t1)\n",
    "print(t1[0])"
   ]
  },
  {
   "cell_type": "markdown",
   "metadata": {},
   "source": [
    "#### + 리스트에서 중복된 값 지우기"
   ]
  },
  {
   "cell_type": "code",
   "execution_count": 8,
   "metadata": {},
   "outputs": [
    {
     "name": "stdout",
     "output_type": "stream",
     "text": [
      "{1, 2, 3, 4}\n"
     ]
    }
   ],
   "source": [
    "l = [1,2,2,3,3,4]\n",
    "newlist = set(l)\n",
    "print(newlist)"
   ]
  },
  {
   "cell_type": "markdown",
   "metadata": {},
   "source": [
    "#### (3) 교집합, 합집합, 차집합 구하기"
   ]
  },
  {
   "cell_type": "code",
   "execution_count": 12,
   "metadata": {},
   "outputs": [
    {
     "name": "stdout",
     "output_type": "stream",
     "text": [
      "{4, 5, 6}\n",
      "{1, 2, 3, 4, 5, 6, 7, 8, 9}\n",
      "{1, 2, 3}\n",
      "{8, 9, 7}\n"
     ]
    }
   ],
   "source": [
    "s1 = set([1,2,3,4,5,6])\n",
    "s2 = set([4,5,6,7,8,9])\n",
    "\n",
    "# 1) 교집합\n",
    "print(s1 & s2)\n",
    "\n",
    "# 2) 합집합\n",
    "print(s1 | s2)\n",
    "\n",
    "# 3) 차집합\n",
    "print(s1 - s2)\n",
    "print(s2 - s1)"
   ]
  },
  {
   "cell_type": "markdown",
   "metadata": {},
   "source": [
    "#### (4) 집합 자료형 관련 함수"
   ]
  },
  {
   "cell_type": "code",
   "execution_count": 19,
   "metadata": {},
   "outputs": [
    {
     "name": "stdout",
     "output_type": "stream",
     "text": [
      "{1, 2, 3, 4}\n",
      "{1, 2, 3, 4, 5, 6}\n",
      "{1, 3}\n"
     ]
    }
   ],
   "source": [
    "# 1) 값 1개 추가하기(add)\n",
    "s1 = set([1,2,3])\n",
    "s1.add(4)\n",
    "print(s1)\n",
    "\n",
    "# 2) 값 여러 개 추가하기(update)\n",
    "s1 = set([1,2,3])\n",
    "s1.update([4,5,6])\n",
    "print(s1)\n",
    "\n",
    "# 3) 특정 값 제거하기(remove)\n",
    "s1 = set([1,2,3])\n",
    "s1.remove(2)\n",
    "print(s1)"
   ]
  },
  {
   "cell_type": "markdown",
   "metadata": {},
   "source": [
    "### 2.7 불 자료형"
   ]
  },
  {
   "cell_type": "markdown",
   "metadata": {},
   "source": [
    "#### (1) 불 자료형이란? 참(T)과 거짓(F)을 나타내는 자료형이다. 불 자료형은 True, False 2가지 값만을 가질 수 있다.\n",
    "#### True, False는 파이썬의 예약어로 첫 문자를 반드시 대문자로 써야한다."
   ]
  },
  {
   "cell_type": "code",
   "execution_count": 23,
   "metadata": {},
   "outputs": [
    {
     "name": "stdout",
     "output_type": "stream",
     "text": [
      "<class 'bool'>\n",
      "<class 'bool'>\n",
      "True\n",
      "True\n",
      "False\n"
     ]
    }
   ],
   "source": [
    "a = True\n",
    "b = False\n",
    "print(type(a))\n",
    "print(type(b))\n",
    "\n",
    "print(1 == 1)\n",
    "print(2 > 1)\n",
    "print(2 < 1)"
   ]
  },
  {
   "cell_type": "markdown",
   "metadata": {},
   "source": [
    "#### (2) 자료형의 참과 거짓"
   ]
  },
  {
   "cell_type": "code",
   "execution_count": 25,
   "metadata": {},
   "outputs": [
    {
     "name": "stdout",
     "output_type": "stream",
     "text": [
      "4\n",
      "3\n",
      "2\n",
      "1\n"
     ]
    }
   ],
   "source": [
    "# 자료형에도 참과 거짓이 있다. 문자열, 리스트, 튜플, 딕셔너리 등의 값이 비어 있으면 거짓이 된다.\n",
    "# None 또한 거짓이다.\n",
    "\n",
    "a = [1,2,3,4]\n",
    "while a :             # a가 참인 동안\n",
    "    print(a.pop())     # 리스트의 마지막 요소를 하나씩 꺼낸다.\n",
    "    \n",
    "# a.pop() 함수는 리스트의 마지막 요소를 끄집어내는 함수이다. \n",
    "# 리스트 안에 요소가 존재하는 한(a가 참인 동안) 마직막 요소를 계속 끄집어내는데 \n",
    "# 더 이상 끄집어낼 것이 없으면 while문에서 조건이 거짓이 되므로 중단된다."
   ]
  },
  {
   "cell_type": "code",
   "execution_count": 27,
   "metadata": {},
   "outputs": [
    {
     "name": "stdout",
     "output_type": "stream",
     "text": [
      "참\n"
     ]
    }
   ],
   "source": [
    "if [1,2,3]:\n",
    "    print('참')\n",
    "else:\n",
    "    print('거짓')\n",
    "    \n",
    "# 만약 [1,2,3]이 참이면 '참'이라는 문자열을 출력하고 그렇지 않으면 '거짓'이라는 문자열을 출력하라."
   ]
  },
  {
   "cell_type": "markdown",
   "metadata": {},
   "source": [
    "#### (3) 불 연산"
   ]
  },
  {
   "cell_type": "code",
   "execution_count": 41,
   "metadata": {},
   "outputs": [
    {
     "name": "stdout",
     "output_type": "stream",
     "text": [
      "True\n",
      "False\n",
      "True\n",
      "False\n",
      "False\n",
      "True\n"
     ]
    }
   ],
   "source": [
    "print(bool('python'))\n",
    "print(bool(''))\n",
    "print(bool([1,2,3]))\n",
    "print(bool([]))\n",
    "print(bool(0))\n",
    "print(bool(3))"
   ]
  },
  {
   "cell_type": "markdown",
   "metadata": {},
   "source": [
    "### 2.8 자료형의 값을 저장하는 공간, 변수\n",
    "#### 변수 이름 = 변수에 저장할 값"
   ]
  },
  {
   "cell_type": "markdown",
   "metadata": {},
   "source": [
    "#### (1) 변수란?\n",
    "#### 파이썬에서 사용하는 변수는 '객체'를 가리키는 것이다. 객체란 우리가 지금껏 보아 온 자료형과 같다."
   ]
  },
  {
   "cell_type": "markdown",
   "metadata": {},
   "source": [
    "#### (2) 리스트를 복사할 때 (어려운 개념)"
   ]
  },
  {
   "cell_type": "code",
   "execution_count": 45,
   "metadata": {},
   "outputs": [
    {
     "name": "stdout",
     "output_type": "stream",
     "text": [
      "[1, 4, 3]\n",
      "[1, 4, 3]\n",
      "2388170591296\n",
      "2388170591296\n"
     ]
    }
   ],
   "source": [
    "a = [1,2,3]\n",
    "b = a            # [1,2,3]을 넣은 것이 아닌 a의 주소를 넣음, a라는 주소가 b에 넣어진 것이다.\n",
    "a[1] = 4\n",
    "print(a)\n",
    "print(b)\n",
    "print(id(a))     # 주소가 서로 같다.\n",
    "print(id(b))     # 주소가 서로 같다.\n",
    "\n",
    "# a = [1,4,3]이고 b = [1,2,3]일 것 같지만 a와 b 둘 다 같은 결과이다.\n",
    "# [1,2,3]이라는 값은 변수 a에 저장된 것이 아닌 '메모리'에 저장되어 있다.\n",
    "# 변수 a는 객체가 저장된 메모리의 위치를 담는 주소를 갖고있다.\n",
    "# 즉 a와 b가 가리키는 대상이 동일하다는 것이다."
   ]
  },
  {
   "cell_type": "markdown",
   "metadata": {},
   "source": [
    "#### (3) a와 b가 다른 주소를 가리키도록 만드는 방법"
   ]
  },
  {
   "cell_type": "code",
   "execution_count": 52,
   "metadata": {},
   "outputs": [
    {
     "name": "stdout",
     "output_type": "stream",
     "text": [
      "[1, 4, 3]\n",
      "[1, 2, 3]\n",
      "2388174408512\n",
      "2388173885760\n"
     ]
    }
   ],
   "source": [
    "# 1) [:] 사용\n",
    "a = [1,2,3]\n",
    "b = a[:]        # 리스트 a의 처음 요소부터 끝 요소까지 슬라이싱\n",
    "a[1] = 4\n",
    "print(a)\n",
    "print(b)\n",
    "\n",
    "print(id(a))\n",
    "print(id(b))\n",
    "# 새로운 [1,2,3] 이라는 리스트가 b에 들어가게 됨(복사된 것이다.)"
   ]
  },
  {
   "cell_type": "code",
   "execution_count": 54,
   "metadata": {},
   "outputs": [
    {
     "name": "stdout",
     "output_type": "stream",
     "text": [
      "[1, 4, 3]\n",
      "[1, 2, 3]\n",
      "2388140621632\n",
      "2388140621568\n"
     ]
    }
   ],
   "source": [
    "# 2) copy 모듈 사용\n",
    "from copy import copy\n",
    "a = [1,2,3]\n",
    "b = copy(a)     # 값을 복사해서 a리스트를 b에게 새롭게 할당한다.\n",
    "                # 주소를 공유한 것이 아니라 값을 복사한 것이다.\n",
    "                # 새로운 주소(b)에 a의 값을 복사해서 넣은 것이다.\n",
    "a[1] = 4\n",
    "print(a)\n",
    "print(b)\n",
    "\n",
    "print(id(a))\n",
    "print(id(b))"
   ]
  },
  {
   "cell_type": "markdown",
   "metadata": {},
   "source": [
    "#### (4) 변수를 만드는 여러 가지 방법"
   ]
  },
  {
   "cell_type": "code",
   "execution_count": 3,
   "metadata": {},
   "outputs": [
    {
     "name": "stdout",
     "output_type": "stream",
     "text": [
      "python\n",
      "life\n",
      "python\n",
      "life\n",
      "python\n",
      "life\n"
     ]
    }
   ],
   "source": [
    "a, b = ('python', 'life')\n",
    "print(a)\n",
    "print(b)\n",
    "\n",
    "(a, b) = 'python', 'life'\n",
    "print(a)\n",
    "print(b)\n",
    "\n",
    "[a, b] = ['python', 'life']\n",
    "print(a)\n",
    "print(b)"
   ]
  },
  {
   "cell_type": "code",
   "execution_count": 4,
   "metadata": {},
   "outputs": [
    {
     "name": "stdout",
     "output_type": "stream",
     "text": [
      "python\n",
      "python\n"
     ]
    }
   ],
   "source": [
    "a = b = 'python'\n",
    "print(a)\n",
    "print(b)"
   ]
  },
  {
   "cell_type": "code",
   "execution_count": 5,
   "metadata": {},
   "outputs": [
    {
     "name": "stdout",
     "output_type": "stream",
     "text": [
      "5\n",
      "3\n"
     ]
    }
   ],
   "source": [
    "# 두 변수의 값 간단히 바꾸기\n",
    "\n",
    "a = 3\n",
    "b = 5\n",
    "a, b = b, a\n",
    "print(a)\n",
    "print(b)"
   ]
  },
  {
   "cell_type": "code",
   "execution_count": null,
   "metadata": {},
   "outputs": [],
   "source": []
  },
  {
   "cell_type": "code",
   "execution_count": null,
   "metadata": {},
   "outputs": [],
   "source": []
  }
 ],
 "metadata": {
  "kernelspec": {
   "display_name": "Python 3",
   "language": "python",
   "name": "python3"
  },
  "language_info": {
   "codemirror_mode": {
    "name": "ipython",
    "version": 3
   },
   "file_extension": ".py",
   "mimetype": "text/x-python",
   "name": "python",
   "nbconvert_exporter": "python",
   "pygments_lexer": "ipython3",
   "version": "3.8.5"
  }
 },
 "nbformat": 4,
 "nbformat_minor": 4
}
