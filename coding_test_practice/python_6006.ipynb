{
 "cells": [
  {
   "cell_type": "markdown",
   "metadata": {},
   "source": [
    "## 6006번 [기초-출력] 출력하기06(py)"
   ]
  },
  {
   "cell_type": "markdown",
   "metadata": {},
   "source": [
    "### 문제  \n",
    "\n",
    "다음 문장을 출력하시오.\n",
    "\n",
    "**\"!@#$%^&*()'**  \n",
    "(단, 큰따옴표와 작은따옴표도 함께 출력한다.)\n",
    "\n",
    " \n",
    "\n",
    "출력 형식에 필요한 따옴표와 출력할 문자인 따옴표를 구분하기 위하여\n",
    "\n",
    "\\\" 또는 \\' 를 이용하여 출력할 수 있다."
   ]
  },
  {
   "cell_type": "code",
   "execution_count": 2,
   "metadata": {},
   "outputs": [
    {
     "name": "stdout",
     "output_type": "stream",
     "text": [
      "\"!@#$%^&*()'\n"
     ]
    }
   ],
   "source": [
    "print(\"\\\"!@#$%^&*()\\'\")"
   ]
  },
  {
   "cell_type": "code",
   "execution_count": 3,
   "metadata": {},
   "outputs": [
    {
     "name": "stdout",
     "output_type": "stream",
     "text": [
      "\"!@#$%^&*()'\n"
     ]
    }
   ],
   "source": [
    "print('\\\"!@#$%^&*()\\'')"
   ]
  },
  {
   "cell_type": "markdown",
   "metadata": {},
   "source": [
    "**백슬래시(ww)** 를 작은따옴표(')나 큰따옴표(\") 앞에 삽입하면 백슬래시(\\) 뒤의 작은따옴표(')나 큰따옴표(\")는 문자열을 둘러싸는 기호의 의미가 아니라 문자 ('), (\") 그 자체를 뜻하게 된다."
   ]
  },
  {
   "cell_type": "markdown",
   "metadata": {},
   "source": [
    "ps. 마크다운 상태에서는 백슬래시를 괄호() 안에 작성하려면 (\\) 한 번만 작성할 때 빈칸으로 입력되고, (\\\\) 두 번 입력해야 백슬래시가 한 개 표시된다."
   ]
  }
 ],
 "metadata": {
  "kernelspec": {
   "display_name": "Python 3",
   "language": "python",
   "name": "python3"
  },
  "language_info": {
   "codemirror_mode": {
    "name": "ipython",
    "version": 3
   },
   "file_extension": ".py",
   "mimetype": "text/x-python",
   "name": "python",
   "nbconvert_exporter": "python",
   "pygments_lexer": "ipython3",
   "version": "3.8.5"
  }
 },
 "nbformat": 4,
 "nbformat_minor": 4
}
