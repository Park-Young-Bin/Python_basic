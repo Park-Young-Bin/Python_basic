{
 "cells": [
  {
   "cell_type": "markdown",
   "metadata": {},
   "source": [
    "# 날짜데이터를 처리 하자! 1편 (python / date time / pandas)"
   ]
  },
  {
   "cell_type": "code",
   "execution_count": 2,
   "metadata": {},
   "outputs": [],
   "source": [
    "import pandas as pd"
   ]
  },
  {
   "cell_type": "code",
   "execution_count": 7,
   "metadata": {},
   "outputs": [
    {
     "name": "stdout",
     "output_type": "stream",
     "text": [
      "(15000, 7)\n"
     ]
    },
    {
     "data": {
      "text/html": [
       "<div>\n",
       "<style scoped>\n",
       "    .dataframe tbody tr th:only-of-type {\n",
       "        vertical-align: middle;\n",
       "    }\n",
       "\n",
       "    .dataframe tbody tr th {\n",
       "        vertical-align: top;\n",
       "    }\n",
       "\n",
       "    .dataframe thead th {\n",
       "        text-align: right;\n",
       "    }\n",
       "</style>\n",
       "<table border=\"1\" class=\"dataframe\">\n",
       "  <thead>\n",
       "    <tr style=\"text-align: right;\">\n",
       "      <th></th>\n",
       "      <th>날짜</th>\n",
       "      <th>상품명</th>\n",
       "      <th>바코드</th>\n",
       "      <th>발주가능상태</th>\n",
       "      <th>입고수량</th>\n",
       "      <th>카테고리</th>\n",
       "      <th>출고수량</th>\n",
       "    </tr>\n",
       "  </thead>\n",
       "  <tbody>\n",
       "    <tr>\n",
       "      <th>0</th>\n",
       "      <td>2019-05-16</td>\n",
       "      <td>V2_0</td>\n",
       "      <td>8.801047e+12</td>\n",
       "      <td>발주가능</td>\n",
       "      <td>384</td>\n",
       "      <td>세탁세제</td>\n",
       "      <td>72</td>\n",
       "    </tr>\n",
       "    <tr>\n",
       "      <th>1</th>\n",
       "      <td>2019-05-16</td>\n",
       "      <td>V2_3</td>\n",
       "      <td>8.801047e+12</td>\n",
       "      <td>발주가능</td>\n",
       "      <td>207</td>\n",
       "      <td>세탁세제</td>\n",
       "      <td>5</td>\n",
       "    </tr>\n",
       "    <tr>\n",
       "      <th>2</th>\n",
       "      <td>2019-05-16</td>\n",
       "      <td>V2_7</td>\n",
       "      <td>8.801047e+12</td>\n",
       "      <td>발주가능</td>\n",
       "      <td>520</td>\n",
       "      <td>헤어케어</td>\n",
       "      <td>19</td>\n",
       "    </tr>\n",
       "    <tr>\n",
       "      <th>3</th>\n",
       "      <td>2019-05-16</td>\n",
       "      <td>V2_11</td>\n",
       "      <td>8.801047e+12</td>\n",
       "      <td>발주가능</td>\n",
       "      <td>0</td>\n",
       "      <td>세탁세제</td>\n",
       "      <td>5</td>\n",
       "    </tr>\n",
       "    <tr>\n",
       "      <th>4</th>\n",
       "      <td>2019-05-16</td>\n",
       "      <td>V2_14</td>\n",
       "      <td>8.801046e+12</td>\n",
       "      <td>발주가능</td>\n",
       "      <td>96</td>\n",
       "      <td>세탁세제</td>\n",
       "      <td>1</td>\n",
       "    </tr>\n",
       "  </tbody>\n",
       "</table>\n",
       "</div>"
      ],
      "text/plain": [
       "           날짜    상품명           바코드 발주가능상태  입고수량  카테고리  출고수량\n",
       "0  2019-05-16   V2_0  8.801047e+12   발주가능   384  세탁세제    72\n",
       "1  2019-05-16   V2_3  8.801047e+12   발주가능   207  세탁세제     5\n",
       "2  2019-05-16   V2_7  8.801047e+12   발주가능   520  헤어케어    19\n",
       "3  2019-05-16  V2_11  8.801047e+12   발주가능     0  세탁세제     5\n",
       "4  2019-05-16  V2_14  8.801046e+12   발주가능    96  세탁세제     1"
      ]
     },
     "execution_count": 7,
     "metadata": {},
     "output_type": "execute_result"
    }
   ],
   "source": [
    "# 데이터 구조 파악\n",
    "df1 = pd.read_csv('Data01.csv')\n",
    "print(df1.shape)\n",
    "df1.head()"
   ]
  },
  {
   "cell_type": "code",
   "execution_count": 8,
   "metadata": {},
   "outputs": [
    {
     "name": "stdout",
     "output_type": "stream",
     "text": [
      "<class 'pandas.core.frame.DataFrame'>\n",
      "RangeIndex: 15000 entries, 0 to 14999\n",
      "Data columns (total 7 columns):\n",
      " #   Column  Non-Null Count  Dtype  \n",
      "---  ------  --------------  -----  \n",
      " 0   날짜      15000 non-null  object \n",
      " 1   상품명     15000 non-null  object \n",
      " 2   바코드     14992 non-null  float64\n",
      " 3   발주가능상태  15000 non-null  object \n",
      " 4   입고수량    15000 non-null  int64  \n",
      " 5   카테고리    15000 non-null  object \n",
      " 6   출고수량    15000 non-null  int64  \n",
      "dtypes: float64(1), int64(2), object(4)\n",
      "memory usage: 820.4+ KB\n"
     ]
    }
   ],
   "source": [
    "df1.info()"
   ]
  },
  {
   "cell_type": "code",
   "execution_count": 9,
   "metadata": {},
   "outputs": [
    {
     "data": {
      "text/plain": [
       "0        2019-05-16\n",
       "1        2019-05-16\n",
       "2        2019-05-16\n",
       "3        2019-05-16\n",
       "4        2019-05-16\n",
       "            ...    \n",
       "14995    2019-08-07\n",
       "14996    2019-08-07\n",
       "14997    2019-08-07\n",
       "14998    2019-08-07\n",
       "14999    2019-08-07\n",
       "Name: 날짜, Length: 15000, dtype: object"
      ]
     },
     "execution_count": 9,
     "metadata": {},
     "output_type": "execute_result"
    }
   ],
   "source": [
    "df1['날짜'] # Series 형태로 출력"
   ]
  },
  {
   "cell_type": "markdown",
   "metadata": {},
   "source": [
    "기본적으로 문자형 데이터(object)로 인식함"
   ]
  },
  {
   "cell_type": "code",
   "execution_count": 10,
   "metadata": {},
   "outputs": [
    {
     "data": {
      "text/plain": [
       "0       2019-05-16\n",
       "1       2019-05-16\n",
       "2       2019-05-16\n",
       "3       2019-05-16\n",
       "4       2019-05-16\n",
       "           ...    \n",
       "14995   2019-08-07\n",
       "14996   2019-08-07\n",
       "14997   2019-08-07\n",
       "14998   2019-08-07\n",
       "14999   2019-08-07\n",
       "Name: 날짜, Length: 15000, dtype: datetime64[ns]"
      ]
     },
     "execution_count": 10,
     "metadata": {},
     "output_type": "execute_result"
    }
   ],
   "source": [
    "# 날짜 데이터로 변환\n",
    "pd.to_datetime(df1['날짜'])"
   ]
  },
  {
   "cell_type": "code",
   "execution_count": 18,
   "metadata": {},
   "outputs": [],
   "source": [
    "# 새로운'날짜_datetime' 칼럼 생성\n",
    "df1['날짜_datetime'] = pd.to_datetime(df1['날짜'])"
   ]
  },
  {
   "cell_type": "markdown",
   "metadata": {},
   "source": [
    "날짜 형태 데이터로 변환된 '날짜' 데이터를 '날짜_datetime'라는 컬럼으로 새로 만든다"
   ]
  },
  {
   "cell_type": "code",
   "execution_count": 19,
   "metadata": {},
   "outputs": [
    {
     "data": {
      "text/html": [
       "<div>\n",
       "<style scoped>\n",
       "    .dataframe tbody tr th:only-of-type {\n",
       "        vertical-align: middle;\n",
       "    }\n",
       "\n",
       "    .dataframe tbody tr th {\n",
       "        vertical-align: top;\n",
       "    }\n",
       "\n",
       "    .dataframe thead th {\n",
       "        text-align: right;\n",
       "    }\n",
       "</style>\n",
       "<table border=\"1\" class=\"dataframe\">\n",
       "  <thead>\n",
       "    <tr style=\"text-align: right;\">\n",
       "      <th></th>\n",
       "      <th>날짜</th>\n",
       "      <th>상품명</th>\n",
       "      <th>바코드</th>\n",
       "      <th>발주가능상태</th>\n",
       "      <th>입고수량</th>\n",
       "      <th>카테고리</th>\n",
       "      <th>출고수량</th>\n",
       "      <th>날짜_datetime</th>\n",
       "      <th>연도</th>\n",
       "    </tr>\n",
       "  </thead>\n",
       "  <tbody>\n",
       "    <tr>\n",
       "      <th>0</th>\n",
       "      <td>2019-05-16</td>\n",
       "      <td>V2_0</td>\n",
       "      <td>8.801047e+12</td>\n",
       "      <td>발주가능</td>\n",
       "      <td>384</td>\n",
       "      <td>세탁세제</td>\n",
       "      <td>72</td>\n",
       "      <td>2019-05-16</td>\n",
       "      <td>2019</td>\n",
       "    </tr>\n",
       "    <tr>\n",
       "      <th>1</th>\n",
       "      <td>2019-05-16</td>\n",
       "      <td>V2_3</td>\n",
       "      <td>8.801047e+12</td>\n",
       "      <td>발주가능</td>\n",
       "      <td>207</td>\n",
       "      <td>세탁세제</td>\n",
       "      <td>5</td>\n",
       "      <td>2019-05-16</td>\n",
       "      <td>2019</td>\n",
       "    </tr>\n",
       "  </tbody>\n",
       "</table>\n",
       "</div>"
      ],
      "text/plain": [
       "           날짜   상품명           바코드 발주가능상태  입고수량  카테고리  출고수량 날짜_datetime    연도\n",
       "0  2019-05-16  V2_0  8.801047e+12   발주가능   384  세탁세제    72  2019-05-16  2019\n",
       "1  2019-05-16  V2_3  8.801047e+12   발주가능   207  세탁세제     5  2019-05-16  2019"
      ]
     },
     "execution_count": 19,
     "metadata": {},
     "output_type": "execute_result"
    }
   ],
   "source": [
    "df1.head(2)"
   ]
  },
  {
   "cell_type": "code",
   "execution_count": 20,
   "metadata": {},
   "outputs": [
    {
     "data": {
      "text/plain": [
       "0        2019\n",
       "1        2019\n",
       "2        2019\n",
       "3        2019\n",
       "4        2019\n",
       "         ... \n",
       "14995    2019\n",
       "14996    2019\n",
       "14997    2019\n",
       "14998    2019\n",
       "14999    2019\n",
       "Name: 날짜_datetime, Length: 15000, dtype: int64"
      ]
     },
     "execution_count": 20,
     "metadata": {},
     "output_type": "execute_result"
    }
   ],
   "source": [
    "# dt 함수를 이용해 연도 추출\n",
    "df1['날짜_datetime'].dt.year"
   ]
  },
  {
   "cell_type": "code",
   "execution_count": 21,
   "metadata": {},
   "outputs": [],
   "source": [
    "# 새로운 '연도' 컬럼 생성\n",
    "df1['연도'] = df1['날짜_datetime'].dt.year"
   ]
  },
  {
   "cell_type": "code",
   "execution_count": 22,
   "metadata": {},
   "outputs": [
    {
     "data": {
      "text/html": [
       "<div>\n",
       "<style scoped>\n",
       "    .dataframe tbody tr th:only-of-type {\n",
       "        vertical-align: middle;\n",
       "    }\n",
       "\n",
       "    .dataframe tbody tr th {\n",
       "        vertical-align: top;\n",
       "    }\n",
       "\n",
       "    .dataframe thead th {\n",
       "        text-align: right;\n",
       "    }\n",
       "</style>\n",
       "<table border=\"1\" class=\"dataframe\">\n",
       "  <thead>\n",
       "    <tr style=\"text-align: right;\">\n",
       "      <th></th>\n",
       "      <th>날짜</th>\n",
       "      <th>상품명</th>\n",
       "      <th>바코드</th>\n",
       "      <th>발주가능상태</th>\n",
       "      <th>입고수량</th>\n",
       "      <th>카테고리</th>\n",
       "      <th>출고수량</th>\n",
       "      <th>날짜_datetime</th>\n",
       "      <th>연도</th>\n",
       "    </tr>\n",
       "  </thead>\n",
       "  <tbody>\n",
       "    <tr>\n",
       "      <th>0</th>\n",
       "      <td>2019-05-16</td>\n",
       "      <td>V2_0</td>\n",
       "      <td>8.801047e+12</td>\n",
       "      <td>발주가능</td>\n",
       "      <td>384</td>\n",
       "      <td>세탁세제</td>\n",
       "      <td>72</td>\n",
       "      <td>2019-05-16</td>\n",
       "      <td>2019</td>\n",
       "    </tr>\n",
       "    <tr>\n",
       "      <th>1</th>\n",
       "      <td>2019-05-16</td>\n",
       "      <td>V2_3</td>\n",
       "      <td>8.801047e+12</td>\n",
       "      <td>발주가능</td>\n",
       "      <td>207</td>\n",
       "      <td>세탁세제</td>\n",
       "      <td>5</td>\n",
       "      <td>2019-05-16</td>\n",
       "      <td>2019</td>\n",
       "    </tr>\n",
       "    <tr>\n",
       "      <th>2</th>\n",
       "      <td>2019-05-16</td>\n",
       "      <td>V2_7</td>\n",
       "      <td>8.801047e+12</td>\n",
       "      <td>발주가능</td>\n",
       "      <td>520</td>\n",
       "      <td>헤어케어</td>\n",
       "      <td>19</td>\n",
       "      <td>2019-05-16</td>\n",
       "      <td>2019</td>\n",
       "    </tr>\n",
       "    <tr>\n",
       "      <th>3</th>\n",
       "      <td>2019-05-16</td>\n",
       "      <td>V2_11</td>\n",
       "      <td>8.801047e+12</td>\n",
       "      <td>발주가능</td>\n",
       "      <td>0</td>\n",
       "      <td>세탁세제</td>\n",
       "      <td>5</td>\n",
       "      <td>2019-05-16</td>\n",
       "      <td>2019</td>\n",
       "    </tr>\n",
       "    <tr>\n",
       "      <th>4</th>\n",
       "      <td>2019-05-16</td>\n",
       "      <td>V2_14</td>\n",
       "      <td>8.801046e+12</td>\n",
       "      <td>발주가능</td>\n",
       "      <td>96</td>\n",
       "      <td>세탁세제</td>\n",
       "      <td>1</td>\n",
       "      <td>2019-05-16</td>\n",
       "      <td>2019</td>\n",
       "    </tr>\n",
       "  </tbody>\n",
       "</table>\n",
       "</div>"
      ],
      "text/plain": [
       "           날짜    상품명           바코드 발주가능상태  입고수량  카테고리  출고수량 날짜_datetime    연도\n",
       "0  2019-05-16   V2_0  8.801047e+12   발주가능   384  세탁세제    72  2019-05-16  2019\n",
       "1  2019-05-16   V2_3  8.801047e+12   발주가능   207  세탁세제     5  2019-05-16  2019\n",
       "2  2019-05-16   V2_7  8.801047e+12   발주가능   520  헤어케어    19  2019-05-16  2019\n",
       "3  2019-05-16  V2_11  8.801047e+12   발주가능     0  세탁세제     5  2019-05-16  2019\n",
       "4  2019-05-16  V2_14  8.801046e+12   발주가능    96  세탁세제     1  2019-05-16  2019"
      ]
     },
     "execution_count": 22,
     "metadata": {},
     "output_type": "execute_result"
    }
   ],
   "source": [
    "df1.head()"
   ]
  },
  {
   "cell_type": "code",
   "execution_count": 23,
   "metadata": {},
   "outputs": [
    {
     "data": {
      "text/html": [
       "<div>\n",
       "<style scoped>\n",
       "    .dataframe tbody tr th:only-of-type {\n",
       "        vertical-align: middle;\n",
       "    }\n",
       "\n",
       "    .dataframe tbody tr th {\n",
       "        vertical-align: top;\n",
       "    }\n",
       "\n",
       "    .dataframe thead th {\n",
       "        text-align: right;\n",
       "    }\n",
       "</style>\n",
       "<table border=\"1\" class=\"dataframe\">\n",
       "  <thead>\n",
       "    <tr style=\"text-align: right;\">\n",
       "      <th></th>\n",
       "      <th>출고수량</th>\n",
       "    </tr>\n",
       "    <tr>\n",
       "      <th>연도</th>\n",
       "      <th></th>\n",
       "    </tr>\n",
       "  </thead>\n",
       "  <tbody>\n",
       "    <tr>\n",
       "      <th>2019</th>\n",
       "      <td>108078</td>\n",
       "    </tr>\n",
       "  </tbody>\n",
       "</table>\n",
       "</div>"
      ],
      "text/plain": [
       "        출고수량\n",
       "연도          \n",
       "2019  108078"
      ]
     },
     "execution_count": 23,
     "metadata": {},
     "output_type": "execute_result"
    }
   ],
   "source": [
    "# 연도별 2019년도 출고수량 총 합\n",
    "pd.pivot_table(data=df1, index='연도', values='출고수량', aggfunc='sum')"
   ]
  },
  {
   "cell_type": "code",
   "execution_count": 24,
   "metadata": {},
   "outputs": [
    {
     "data": {
      "text/html": [
       "<div>\n",
       "<style scoped>\n",
       "    .dataframe tbody tr th:only-of-type {\n",
       "        vertical-align: middle;\n",
       "    }\n",
       "\n",
       "    .dataframe tbody tr th {\n",
       "        vertical-align: top;\n",
       "    }\n",
       "\n",
       "    .dataframe thead th {\n",
       "        text-align: right;\n",
       "    }\n",
       "</style>\n",
       "<table border=\"1\" class=\"dataframe\">\n",
       "  <thead>\n",
       "    <tr style=\"text-align: right;\">\n",
       "      <th></th>\n",
       "      <th>입고수량</th>\n",
       "      <th>출고수량</th>\n",
       "    </tr>\n",
       "    <tr>\n",
       "      <th>연도</th>\n",
       "      <th></th>\n",
       "      <th></th>\n",
       "    </tr>\n",
       "  </thead>\n",
       "  <tbody>\n",
       "    <tr>\n",
       "      <th>2019</th>\n",
       "      <td>872168</td>\n",
       "      <td>108078</td>\n",
       "    </tr>\n",
       "  </tbody>\n",
       "</table>\n",
       "</div>"
      ],
      "text/plain": [
       "        입고수량    출고수량\n",
       "연도                  \n",
       "2019  872168  108078"
      ]
     },
     "execution_count": 24,
     "metadata": {},
     "output_type": "execute_result"
    }
   ],
   "source": [
    "# 연도별 2019년도 출고수량, 입고수량 총 합\n",
    "pd.pivot_table(data=df1, index='연도', values=['출고수량', '입고수량'], aggfunc='sum')"
   ]
  },
  {
   "cell_type": "code",
   "execution_count": 30,
   "metadata": {},
   "outputs": [],
   "source": [
    "# 새로운 '월', '주차', '일자', '요일' 컬럼 생성\n",
    "df1['월'] = df1['날짜_datetime'].dt.month\n",
    "df1['주차'] = df1['날짜_datetime'].dt.isocalendar().week\n",
    "df1['일자'] = df1['날짜_datetime'].dt.day\n",
    "df1['요일'] = df1['날짜_datetime'].dt.day_name()"
   ]
  },
  {
   "cell_type": "code",
   "execution_count": 28,
   "metadata": {},
   "outputs": [
    {
     "data": {
      "text/html": [
       "<div>\n",
       "<style scoped>\n",
       "    .dataframe tbody tr th:only-of-type {\n",
       "        vertical-align: middle;\n",
       "    }\n",
       "\n",
       "    .dataframe tbody tr th {\n",
       "        vertical-align: top;\n",
       "    }\n",
       "\n",
       "    .dataframe thead th {\n",
       "        text-align: right;\n",
       "    }\n",
       "</style>\n",
       "<table border=\"1\" class=\"dataframe\">\n",
       "  <thead>\n",
       "    <tr style=\"text-align: right;\">\n",
       "      <th></th>\n",
       "      <th>날짜</th>\n",
       "      <th>상품명</th>\n",
       "      <th>바코드</th>\n",
       "      <th>발주가능상태</th>\n",
       "      <th>입고수량</th>\n",
       "      <th>카테고리</th>\n",
       "      <th>출고수량</th>\n",
       "      <th>날짜_datetime</th>\n",
       "      <th>연도</th>\n",
       "      <th>월</th>\n",
       "      <th>주차</th>\n",
       "      <th>일자</th>\n",
       "      <th>요일</th>\n",
       "    </tr>\n",
       "  </thead>\n",
       "  <tbody>\n",
       "    <tr>\n",
       "      <th>0</th>\n",
       "      <td>2019-05-16</td>\n",
       "      <td>V2_0</td>\n",
       "      <td>8.801047e+12</td>\n",
       "      <td>발주가능</td>\n",
       "      <td>384</td>\n",
       "      <td>세탁세제</td>\n",
       "      <td>72</td>\n",
       "      <td>2019-05-16</td>\n",
       "      <td>2019</td>\n",
       "      <td>5</td>\n",
       "      <td>20</td>\n",
       "      <td>16</td>\n",
       "      <td>Thursday</td>\n",
       "    </tr>\n",
       "    <tr>\n",
       "      <th>1</th>\n",
       "      <td>2019-05-16</td>\n",
       "      <td>V2_3</td>\n",
       "      <td>8.801047e+12</td>\n",
       "      <td>발주가능</td>\n",
       "      <td>207</td>\n",
       "      <td>세탁세제</td>\n",
       "      <td>5</td>\n",
       "      <td>2019-05-16</td>\n",
       "      <td>2019</td>\n",
       "      <td>5</td>\n",
       "      <td>20</td>\n",
       "      <td>16</td>\n",
       "      <td>Thursday</td>\n",
       "    </tr>\n",
       "  </tbody>\n",
       "</table>\n",
       "</div>"
      ],
      "text/plain": [
       "           날짜   상품명           바코드 발주가능상태  입고수량  카테고리  출고수량 날짜_datetime    연도  \\\n",
       "0  2019-05-16  V2_0  8.801047e+12   발주가능   384  세탁세제    72  2019-05-16  2019   \n",
       "1  2019-05-16  V2_3  8.801047e+12   발주가능   207  세탁세제     5  2019-05-16  2019   \n",
       "\n",
       "   월  주차  일자        요일  \n",
       "0  5  20  16  Thursday  \n",
       "1  5  20  16  Thursday  "
      ]
     },
     "execution_count": 28,
     "metadata": {},
     "output_type": "execute_result"
    }
   ],
   "source": [
    "df1.head(2)"
   ]
  },
  {
   "cell_type": "code",
   "execution_count": 39,
   "metadata": {},
   "outputs": [
    {
     "data": {
      "text/html": [
       "<div>\n",
       "<style scoped>\n",
       "    .dataframe tbody tr th:only-of-type {\n",
       "        vertical-align: middle;\n",
       "    }\n",
       "\n",
       "    .dataframe tbody tr th {\n",
       "        vertical-align: top;\n",
       "    }\n",
       "\n",
       "    .dataframe thead th {\n",
       "        text-align: right;\n",
       "    }\n",
       "</style>\n",
       "<table border=\"1\" class=\"dataframe\">\n",
       "  <thead>\n",
       "    <tr style=\"text-align: right;\">\n",
       "      <th>카테고리</th>\n",
       "      <th>F&amp;B</th>\n",
       "      <th>ST</th>\n",
       "      <th>기타</th>\n",
       "      <th>덴탈케어</th>\n",
       "      <th>매입브랜드</th>\n",
       "      <th>세탁세제</th>\n",
       "      <th>주방세제</th>\n",
       "      <th>헤어케어</th>\n",
       "    </tr>\n",
       "    <tr>\n",
       "      <th>월</th>\n",
       "      <th></th>\n",
       "      <th></th>\n",
       "      <th></th>\n",
       "      <th></th>\n",
       "      <th></th>\n",
       "      <th></th>\n",
       "      <th></th>\n",
       "      <th></th>\n",
       "    </tr>\n",
       "  </thead>\n",
       "  <tbody>\n",
       "    <tr>\n",
       "      <th>5</th>\n",
       "      <td>1248</td>\n",
       "      <td>95</td>\n",
       "      <td>144</td>\n",
       "      <td>2788</td>\n",
       "      <td>69</td>\n",
       "      <td>8579</td>\n",
       "      <td>2872</td>\n",
       "      <td>3632</td>\n",
       "    </tr>\n",
       "    <tr>\n",
       "      <th>6</th>\n",
       "      <td>2021</td>\n",
       "      <td>240</td>\n",
       "      <td>221</td>\n",
       "      <td>5806</td>\n",
       "      <td>115</td>\n",
       "      <td>16732</td>\n",
       "      <td>6647</td>\n",
       "      <td>7615</td>\n",
       "    </tr>\n",
       "    <tr>\n",
       "      <th>7</th>\n",
       "      <td>2193</td>\n",
       "      <td>300</td>\n",
       "      <td>206</td>\n",
       "      <td>6112</td>\n",
       "      <td>80</td>\n",
       "      <td>17938</td>\n",
       "      <td>7270</td>\n",
       "      <td>6485</td>\n",
       "    </tr>\n",
       "    <tr>\n",
       "      <th>8</th>\n",
       "      <td>316</td>\n",
       "      <td>56</td>\n",
       "      <td>50</td>\n",
       "      <td>1094</td>\n",
       "      <td>16</td>\n",
       "      <td>4021</td>\n",
       "      <td>1271</td>\n",
       "      <td>1846</td>\n",
       "    </tr>\n",
       "  </tbody>\n",
       "</table>\n",
       "</div>"
      ],
      "text/plain": [
       "카테고리   F&B   ST   기타  덴탈케어  매입브랜드   세탁세제  주방세제  헤어케어\n",
       "월                                                   \n",
       "5     1248   95  144  2788     69   8579  2872  3632\n",
       "6     2021  240  221  5806    115  16732  6647  7615\n",
       "7     2193  300  206  6112     80  17938  7270  6485\n",
       "8      316   56   50  1094     16   4021  1271  1846"
      ]
     },
     "execution_count": 39,
     "metadata": {},
     "output_type": "execute_result"
    }
   ],
   "source": [
    "# 월별 카테코리별 2019년도 출고수량 총합 계산_데이터 재구조화(pivot_table 사용)\n",
    "pd.pivot_table(data=df1, index='월', columns = '카테고리', values = '출고수량', aggfunc='sum')"
   ]
  },
  {
   "cell_type": "code",
   "execution_count": 38,
   "metadata": {},
   "outputs": [
    {
     "data": {
      "text/html": [
       "<div>\n",
       "<style scoped>\n",
       "    .dataframe tbody tr th:only-of-type {\n",
       "        vertical-align: middle;\n",
       "    }\n",
       "\n",
       "    .dataframe tbody tr th {\n",
       "        vertical-align: top;\n",
       "    }\n",
       "\n",
       "    .dataframe thead th {\n",
       "        text-align: right;\n",
       "    }\n",
       "</style>\n",
       "<table border=\"1\" class=\"dataframe\">\n",
       "  <thead>\n",
       "    <tr style=\"text-align: right;\">\n",
       "      <th></th>\n",
       "      <th>출고수량</th>\n",
       "    </tr>\n",
       "    <tr>\n",
       "      <th>월</th>\n",
       "      <th></th>\n",
       "    </tr>\n",
       "  </thead>\n",
       "  <tbody>\n",
       "    <tr>\n",
       "      <th>5</th>\n",
       "      <td>19427</td>\n",
       "    </tr>\n",
       "    <tr>\n",
       "      <th>6</th>\n",
       "      <td>39397</td>\n",
       "    </tr>\n",
       "    <tr>\n",
       "      <th>7</th>\n",
       "      <td>40584</td>\n",
       "    </tr>\n",
       "    <tr>\n",
       "      <th>8</th>\n",
       "      <td>8670</td>\n",
       "    </tr>\n",
       "  </tbody>\n",
       "</table>\n",
       "</div>"
      ],
      "text/plain": [
       "    출고수량\n",
       "월       \n",
       "5  19427\n",
       "6  39397\n",
       "7  40584\n",
       "8   8670"
      ]
     },
     "execution_count": 38,
     "metadata": {},
     "output_type": "execute_result"
    }
   ],
   "source": [
    "# 월별 2019년도 출고수량 총합 계산_데이터 재구조화(pivot_table 사용)\n",
    "pd.pivot_table(data=df1, index='월', values = '출고수량', aggfunc='sum')"
   ]
  },
  {
   "cell_type": "markdown",
   "metadata": {},
   "source": [
    "pd.pivot_table(**data**, **index**, **columns**, **values**, **aggfunc**)"
   ]
  },
  {
   "cell_type": "code",
   "execution_count": 37,
   "metadata": {},
   "outputs": [
    {
     "data": {
      "image/png": "[encoded data removed]",
      "text/plain": [
       "<Figure size 432x288 with 1 Axes>"
      ]
     },
     "metadata": {
      "needs_background": "light"
     },
     "output_type": "display_data"
    }
   ],
   "source": [
    "import matplotlib.pyplot as plt\n",
    "plt.rc('font', family = 'Malgun Gothic')\n",
    "pd.pivot_table(data=df1, index='월', values = '출고수량', aggfunc='sum').plot(kind='bar');"
   ]
  },
  {
   "cell_type": "markdown",
   "metadata": {},
   "source": [
    "* df['Birth_date']       = df['Birth'].dt.date         # YYYY-MM-DD(문자)  \n",
    "* df['Birth_year']       = df['Birth'].dt.year         # 연(4자리숫자)  \n",
    "* df['Birth_month']      = df['Birth'].dt.month        # 월(숫자)  \n",
    "* df['Birth_month_name'] = df['Birth'].dt.month_name() # 월(문자)  \n",
    "\n",
    "* df['Birth_day']        = df['Birth'].dt.day          # 일(숫자)  \n",
    "* df['Birth_time']       = df['Birth'].dt.time         # HH:MM:SS(문자)  \n",
    "* df['Birth_hour']       = df['Birth'].dt.hour         # 시(숫자)  \n",
    "* df['Birth_minute']     = df['Birth'].dt.minute       # 분(숫자)  \n",
    "* df['Birth_second']     = df['Birth'].dt.second       # 초(숫자)"
   ]
  }
 ],
 "metadata": {
  "kernelspec": {
   "display_name": "Python 3",
   "language": "python",
   "name": "python3"
  },
  "language_info": {
   "codemirror_mode": {
    "name": "ipython",
    "version": 3
   },
   "file_extension": ".py",
   "mimetype": "text/x-python",
   "name": "python",
   "nbconvert_exporter": "python",
   "pygments_lexer": "ipython3",
   "version": "3.8.8"
  }
 },
 "nbformat": 4,
 "nbformat_minor": 4
}
