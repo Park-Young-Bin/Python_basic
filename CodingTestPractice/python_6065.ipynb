{
 "cells": [
  {
   "cell_type": "markdown",
   "id": "7fd975d1",
   "metadata": {},
   "source": [
    "# 6065번 [기초-조건/선택실행구조] 정수 3개 입력받아 짝수만 출력하기(설명)(py)"
   ]
  },
  {
   "cell_type": "markdown",
   "id": "fef9f431",
   "metadata": {},
   "source": [
    "## 문제\n",
    "\n",
    "3개의 정수(a, b, c)가 입력되었을 때, 짝수만 출력해보자."
   ]
  },
  {
   "cell_type": "code",
   "execution_count": 1,
   "id": "c49b480b",
   "metadata": {},
   "outputs": [
    {
     "name": "stdout",
     "output_type": "stream",
     "text": [
      "10 4 3\n",
      "10\n",
      "4\n"
     ]
    }
   ],
   "source": [
    "a, b, c = map(int, input().split())\n",
    "\n",
    "if a % 2 ==0:\n",
    "    print(a)\n",
    "if b % 2 == 0:\n",
    "    print(b)\n",
    "if c % 2 == 0:\n",
    "    print(c)"
   ]
  },
  {
   "cell_type": "markdown",
   "id": "c9773e5d",
   "metadata": {},
   "source": [
    "if문은 else 또는 elif문 없이도 작성할 수 있다."
   ]
  }
 ],
 "metadata": {
  "kernelspec": {
   "display_name": "Python 3",
   "language": "python",
   "name": "python3"
  },
  "language_info": {
   "codemirror_mode": {
    "name": "ipython",
    "version": 3
   },
   "file_extension": ".py",
   "mimetype": "text/x-python",
   "name": "python",
   "nbconvert_exporter": "python",
   "pygments_lexer": "ipython3",
   "version": "3.8.8"
  }
 },
 "nbformat": 4,
 "nbformat_minor": 5
}
