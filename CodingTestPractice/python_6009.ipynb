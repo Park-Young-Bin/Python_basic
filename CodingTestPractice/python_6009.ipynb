{
 "cells": [
  {
   "cell_type": "markdown",
   "metadata": {},
   "source": [
    "## 6009번 [기초-입출력] 문자 1개 입력받아 그대로 출력하기(설명)(py)"
   ]
  },
  {
   "cell_type": "markdown",
   "metadata": {},
   "source": [
    "## 문제\n",
    "\n",
    "문자(character)는  \n",
    "0~9, a~z, A~Z, !, @, #, {, [, <, ... 과 같이 길이가 1인 기호라고 할 수 있다.\n",
    "\n",
    "변수에 문자 1개를 저장한 후  \n",
    "변수에 저장되어 있는 문자를 그대로 출력해보자.\n",
    "\n",
    "**참고**\n",
    "\n",
    "파이썬에서 데이터를 입력받을 때는 **input()**을 이용한다. input()의 경우 한 줄의 문자열을 입력 받도록 해준다.\n",
    "\n",
    "만약 파이썬에서 입력받은 데이터를 정수형으로 처리하기 위해서는 문자열을 정수로 바꾸는 **int()** 함수를 사용해야 한다.\n",
    "\n",
    "input() 을 사용하면 키보드로 입력한 값을 가져온다.  \n",
    "\n",
    "변수 = input()  \n",
    "\n",
    "를 실행시키면 키보드로 입력한 값을 왼쪽의 변수에 저장한다.\n",
    "\n",
    "\n",
    "변수(variable)는 어떤 값(정수, 실수, 문자, 문자열 등)을 저장할 수 있는 공간의 별명이라고 할 수 있다.  \n",
    "\n",
    "어떤 값을 저장했다가 다시 사용하기 위해서 변수를 사용한다. 저장할 내용들이 많으면 필요한 만큼 변수를 만들어 사용하면 된다.  \n",
    "\n",
    "변수는 포스트 잇과 같은 메모지에 필요한 내용을 적어두었다가, 필요할 때 찾아 살펴보는 것과 비슷하다.\n",
    "\n",
    "\n",
    "대수학(algebra)에서는 어떤 수나 값을 대신해 문자로 표현하는 방법을 사용한다.  \n",
    "\n",
    "프로그래밍언어에서도 마찬가지로 자신이 알아보기 쉬운 짧은 단어를 사용하는 것이 좋다.   예시) y = x + 3"
   ]
  },
  {
   "cell_type": "code",
   "execution_count": 5,
   "metadata": {},
   "outputs": [
    {
     "name": "stdout",
     "output_type": "stream",
     "text": [
      "a\n",
      "a\n"
     ]
    }
   ],
   "source": [
    "c = input()\n",
    "print(c)"
   ]
  },
  {
   "cell_type": "code",
   "execution_count": null,
   "metadata": {},
   "outputs": [],
   "source": []
  }
 ],
 "metadata": {
  "kernelspec": {
   "display_name": "Python 3",
   "language": "python",
   "name": "python3"
  },
  "language_info": {
   "codemirror_mode": {
    "name": "ipython",
    "version": 3
   },
   "file_extension": ".py",
   "mimetype": "text/x-python",
   "name": "python",
   "nbconvert_exporter": "python",
   "pygments_lexer": "ipython3",
   "version": "3.8.5"
  }
 },
 "nbformat": 4,
 "nbformat_minor": 4
}
