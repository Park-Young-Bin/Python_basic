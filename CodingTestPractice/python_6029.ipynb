{
 "cells": [
  {
   "cell_type": "markdown",
   "metadata": {},
   "source": [
    "## 6029번 [기초-값변환] 16진 정수 입력받아 8진수로 출력하기(설명)(py)"
   ]
  },
  {
   "cell_type": "markdown",
   "metadata": {},
   "source": [
    "### 문제\n",
    "\n",
    "16진수를 입력받아 8진수(octal)로 출력해보자.\n",
    "\n",
    "**예시**\n",
    "\n",
    "a = input()\n",
    "\n",
    "n = int(a, 16)      #입력된 a를 16진수로 인식해 변수 n에 저장\n",
    "\n",
    "print('%**o**' % n)  #n에 저장되어있는 값을 8진수(**o**ctal) 형태 문자열로 출력\n",
    "\n",
    "**[참고]**\n",
    "\n",
    "8진법은 한 자리에 8개(0 1 2 3 4 5 6 7)의 문자를 사용한다.\n",
    "\n",
    "8진수 10은 10진수의 8, 11은 9, 12는 10 ... 와 같다."
   ]
  },
  {
   "cell_type": "markdown",
   "metadata": {},
   "source": [
    "16진법은 영문 소문자를 사용하는 경우에 한 자리에 16개(0 1 2 3 4 5 6 7 8 9 a b c d e f)의 문자를 사용한다.\n",
    "\n",
    "16진수 a는 10진수의 10, b는 11, c는 12 ... 와 같다."
   ]
  },
  {
   "cell_type": "code",
   "execution_count": 22,
   "metadata": {},
   "outputs": [
    {
     "name": "stdout",
     "output_type": "stream",
     "text": [
      "8\n",
      "10\n"
     ]
    }
   ],
   "source": [
    "a = input()\n",
    "n = int(a, 16)\n",
    "print('%o' % n)"
   ]
  },
  {
   "cell_type": "code",
   "execution_count": 17,
   "metadata": {
    "scrolled": true
   },
   "outputs": [
    {
     "name": "stdout",
     "output_type": "stream",
     "text": [
      "f\n",
      "17\n"
     ]
    }
   ],
   "source": [
    "a = input()\n",
    "n = int(a, 16)\n",
    "print('%o' % n)"
   ]
  },
  {
   "cell_type": "code",
   "execution_count": 19,
   "metadata": {},
   "outputs": [
    {
     "name": "stdout",
     "output_type": "stream",
     "text": [
      "e\n",
      "16\n"
     ]
    }
   ],
   "source": [
    "a = input()\n",
    "n = int(a, 16)\n",
    "print('%o' % n)"
   ]
  },
  {
   "cell_type": "code",
   "execution_count": 21,
   "metadata": {},
   "outputs": [
    {
     "name": "stdout",
     "output_type": "stream",
     "text": [
      "c\n",
      "14\n"
     ]
    }
   ],
   "source": [
    "a = input()\n",
    "n = int(a, 16)\n",
    "print('%o' % n)"
   ]
  },
  {
   "cell_type": "code",
   "execution_count": 20,
   "metadata": {},
   "outputs": [
    {
     "name": "stdout",
     "output_type": "stream",
     "text": [
      "1f\n",
      "37\n"
     ]
    }
   ],
   "source": [
    "a = input()\n",
    "n = int(a, 16)\n",
    "print('%o' % n)"
   ]
  },
  {
   "cell_type": "code",
   "execution_count": 24,
   "metadata": {},
   "outputs": [
    {
     "name": "stdout",
     "output_type": "stream",
     "text": [
      "9\n",
      "11\n"
     ]
    }
   ],
   "source": [
    "a = input()\n",
    "n = int(a, 16)\n",
    "print('%o' % n)"
   ]
  },
  {
   "cell_type": "code",
   "execution_count": 28,
   "metadata": {},
   "outputs": [
    {
     "name": "stdout",
     "output_type": "stream",
     "text": [
      "10\n",
      "20\n"
     ]
    }
   ],
   "source": [
    "a = input()\n",
    "n = int(a, 16)\n",
    "print('%o' % n)"
   ]
  }
 ],
 "metadata": {
  "kernelspec": {
   "display_name": "Python 3",
   "language": "python",
   "name": "python3"
  },
  "language_info": {
   "codemirror_mode": {
    "name": "ipython",
    "version": 3
   },
   "file_extension": ".py",
   "mimetype": "text/x-python",
   "name": "python",
   "nbconvert_exporter": "python",
   "pygments_lexer": "ipython3",
   "version": "3.8.5"
  }
 },
 "nbformat": 4,
 "nbformat_minor": 4
}
