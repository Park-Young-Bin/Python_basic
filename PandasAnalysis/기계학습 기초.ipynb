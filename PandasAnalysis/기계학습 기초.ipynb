{
 "cells": [
  {
   "cell_type": "code",
   "execution_count": 1,
   "metadata": {},
   "outputs": [],
   "source": [
    "import pandas as pd "
   ]
  },
  {
   "cell_type": "code",
   "execution_count": 3,
   "metadata": {
    "collapsed": true
   },
   "outputs": [
    {
     "data": {
      "text/html": [
       "<div>\n",
       "<style scoped>\n",
       "    .dataframe tbody tr th:only-of-type {\n",
       "        vertical-align: middle;\n",
       "    }\n",
       "\n",
       "    .dataframe tbody tr th {\n",
       "        vertical-align: top;\n",
       "    }\n",
       "\n",
       "    .dataframe thead th {\n",
       "        text-align: right;\n",
       "    }\n",
       "</style>\n",
       "<table border=\"1\" class=\"dataframe\">\n",
       "  <thead>\n",
       "    <tr style=\"text-align: right;\">\n",
       "      <th></th>\n",
       "      <th>회원번호</th>\n",
       "      <th>조합원상태</th>\n",
       "      <th>주소-구</th>\n",
       "      <th>주소-동</th>\n",
       "      <th>성별</th>\n",
       "      <th>연령</th>\n",
       "      <th>연령대</th>\n",
       "      <th>총구매금액</th>\n",
       "      <th>총구매수량</th>\n",
       "      <th>1회방문시구매금액(평균)</th>\n",
       "      <th>배송서비스신청여부</th>\n",
       "      <th>모바일알람여부</th>\n",
       "      <th>Gold_member</th>\n",
       "    </tr>\n",
       "  </thead>\n",
       "  <tbody>\n",
       "    <tr>\n",
       "      <th>0</th>\n",
       "      <td>272369856</td>\n",
       "      <td>정상회원</td>\n",
       "      <td>수지구</td>\n",
       "      <td>풍덕천동</td>\n",
       "      <td>여</td>\n",
       "      <td>45.0</td>\n",
       "      <td>40대</td>\n",
       "      <td>5733884</td>\n",
       "      <td>546.5</td>\n",
       "      <td>47782</td>\n",
       "      <td>미신청</td>\n",
       "      <td>수신</td>\n",
       "      <td>VIP</td>\n",
       "    </tr>\n",
       "    <tr>\n",
       "      <th>1</th>\n",
       "      <td>1506656256</td>\n",
       "      <td>정상회원</td>\n",
       "      <td>수지구</td>\n",
       "      <td>풍덕천동</td>\n",
       "      <td>여</td>\n",
       "      <td>36.0</td>\n",
       "      <td>30대이하</td>\n",
       "      <td>673414</td>\n",
       "      <td>90.0</td>\n",
       "      <td>35443</td>\n",
       "      <td>미신청</td>\n",
       "      <td>.</td>\n",
       "      <td>normal</td>\n",
       "    </tr>\n",
       "  </tbody>\n",
       "</table>\n",
       "</div>"
      ],
      "text/plain": [
       "         회원번호 조합원상태 주소-구  주소-동 성별    연령    연령대    총구매금액  총구매수량  1회방문시구매금액(평균)  \\\n",
       "0   272369856  정상회원  수지구  풍덕천동  여  45.0    40대  5733884  546.5          47782   \n",
       "1  1506656256  정상회원  수지구  풍덕천동  여  36.0  30대이하   673414   90.0          35443   \n",
       "\n",
       "  배송서비스신청여부 모바일알람여부 Gold_member  \n",
       "0       미신청      수신         VIP  \n",
       "1       미신청       .      normal  "
      ]
     },
     "execution_count": 3,
     "metadata": {},
     "output_type": "execute_result"
    }
   ],
   "source": [
    "df1 = pd.read_csv('Data06.csv')\n",
    "df1.head(2)"
   ]
  },
  {
   "cell_type": "markdown",
   "metadata": {},
   "source": [
    "# 1. 데이터 준비 및 가공\n",
    "\n",
    "- Y (Target) : **Gold_member** / X (Feature) ... \n",
    "- Feature Selection \n",
    "- Missing Value "
   ]
  },
  {
   "cell_type": "code",
   "execution_count": 5,
   "metadata": {
    "collapsed": true
   },
   "outputs": [
    {
     "data": {
      "text/html": [
       "<div>\n",
       "<style scoped>\n",
       "    .dataframe tbody tr th:only-of-type {\n",
       "        vertical-align: middle;\n",
       "    }\n",
       "\n",
       "    .dataframe tbody tr th {\n",
       "        vertical-align: top;\n",
       "    }\n",
       "\n",
       "    .dataframe thead th {\n",
       "        text-align: right;\n",
       "    }\n",
       "</style>\n",
       "<table border=\"1\" class=\"dataframe\">\n",
       "  <thead>\n",
       "    <tr style=\"text-align: right;\">\n",
       "      <th></th>\n",
       "      <th>조합원상태</th>\n",
       "      <th>주소-구</th>\n",
       "      <th>성별</th>\n",
       "      <th>연령</th>\n",
       "      <th>총구매금액</th>\n",
       "      <th>총구매수량</th>\n",
       "      <th>배송서비스신청여부</th>\n",
       "      <th>모바일알람여부</th>\n",
       "      <th>Gold_member</th>\n",
       "    </tr>\n",
       "  </thead>\n",
       "  <tbody>\n",
       "    <tr>\n",
       "      <th>0</th>\n",
       "      <td>정상회원</td>\n",
       "      <td>수지구</td>\n",
       "      <td>여</td>\n",
       "      <td>45.0</td>\n",
       "      <td>5733884</td>\n",
       "      <td>546.5</td>\n",
       "      <td>미신청</td>\n",
       "      <td>수신</td>\n",
       "      <td>VIP</td>\n",
       "    </tr>\n",
       "    <tr>\n",
       "      <th>1</th>\n",
       "      <td>정상회원</td>\n",
       "      <td>수지구</td>\n",
       "      <td>여</td>\n",
       "      <td>36.0</td>\n",
       "      <td>673414</td>\n",
       "      <td>90.0</td>\n",
       "      <td>미신청</td>\n",
       "      <td>.</td>\n",
       "      <td>normal</td>\n",
       "    </tr>\n",
       "    <tr>\n",
       "      <th>2</th>\n",
       "      <td>정상회원</td>\n",
       "      <td>수지구</td>\n",
       "      <td>여</td>\n",
       "      <td>34.0</td>\n",
       "      <td>655919</td>\n",
       "      <td>66.0</td>\n",
       "      <td>미신청</td>\n",
       "      <td>.</td>\n",
       "      <td>normal</td>\n",
       "    </tr>\n",
       "    <tr>\n",
       "      <th>3</th>\n",
       "      <td>정상회원</td>\n",
       "      <td>수지구</td>\n",
       "      <td>여</td>\n",
       "      <td>51.0</td>\n",
       "      <td>2984534</td>\n",
       "      <td>252.1</td>\n",
       "      <td>미신청</td>\n",
       "      <td>.</td>\n",
       "      <td>normal</td>\n",
       "    </tr>\n",
       "    <tr>\n",
       "      <th>4</th>\n",
       "      <td>정상회원</td>\n",
       "      <td>수지구</td>\n",
       "      <td>여</td>\n",
       "      <td>51.0</td>\n",
       "      <td>1901488</td>\n",
       "      <td>152.0</td>\n",
       "      <td>신청</td>\n",
       "      <td>.</td>\n",
       "      <td>normal</td>\n",
       "    </tr>\n",
       "  </tbody>\n",
       "</table>\n",
       "</div>"
      ],
      "text/plain": [
       "  조합원상태 주소-구 성별    연령    총구매금액  총구매수량 배송서비스신청여부 모바일알람여부 Gold_member\n",
       "0  정상회원  수지구  여  45.0  5733884  546.5       미신청      수신         VIP\n",
       "1  정상회원  수지구  여  36.0   673414   90.0       미신청       .      normal\n",
       "2  정상회원  수지구  여  34.0   655919   66.0       미신청       .      normal\n",
       "3  정상회원  수지구  여  51.0  2984534  252.1       미신청       .      normal\n",
       "4  정상회원  수지구  여  51.0  1901488  152.0        신청       .      normal"
      ]
     },
     "execution_count": 5,
     "metadata": {},
     "output_type": "execute_result"
    }
   ],
   "source": [
    "df2 = df1.drop(columns=['회원번호','주소-동','연령대','1회방문시구매금액(평균)'])\n",
    "df2.head()"
   ]
  },
  {
   "cell_type": "code",
   "execution_count": 7,
   "metadata": {
    "collapsed": true
   },
   "outputs": [
    {
     "data": {
      "text/plain": [
       "조합원상태          0\n",
       "주소-구           0\n",
       "성별             1\n",
       "연령             1\n",
       "총구매금액          0\n",
       "총구매수량          0\n",
       "배송서비스신청여부      0\n",
       "모바일알람여부        0\n",
       "Gold_member    0\n",
       "dtype: int64"
      ]
     },
     "execution_count": 7,
     "metadata": {},
     "output_type": "execute_result"
    }
   ],
   "source": [
    "df2.isnull().sum() # 결측값 확인 "
   ]
  },
  {
   "cell_type": "code",
   "execution_count": 9,
   "metadata": {
    "collapsed": true
   },
   "outputs": [
    {
     "data": {
      "text/html": [
       "<div>\n",
       "<style scoped>\n",
       "    .dataframe tbody tr th:only-of-type {\n",
       "        vertical-align: middle;\n",
       "    }\n",
       "\n",
       "    .dataframe tbody tr th {\n",
       "        vertical-align: top;\n",
       "    }\n",
       "\n",
       "    .dataframe thead th {\n",
       "        text-align: right;\n",
       "    }\n",
       "</style>\n",
       "<table border=\"1\" class=\"dataframe\">\n",
       "  <thead>\n",
       "    <tr style=\"text-align: right;\">\n",
       "      <th></th>\n",
       "      <th>조합원상태</th>\n",
       "      <th>주소-구</th>\n",
       "      <th>성별</th>\n",
       "      <th>연령</th>\n",
       "      <th>총구매금액</th>\n",
       "      <th>총구매수량</th>\n",
       "      <th>배송서비스신청여부</th>\n",
       "      <th>모바일알람여부</th>\n",
       "      <th>Gold_member</th>\n",
       "    </tr>\n",
       "  </thead>\n",
       "  <tbody>\n",
       "    <tr>\n",
       "      <th>0</th>\n",
       "      <td>정상회원</td>\n",
       "      <td>수지구</td>\n",
       "      <td>여</td>\n",
       "      <td>45.0</td>\n",
       "      <td>5733884</td>\n",
       "      <td>546.5</td>\n",
       "      <td>미신청</td>\n",
       "      <td>수신</td>\n",
       "      <td>VIP</td>\n",
       "    </tr>\n",
       "    <tr>\n",
       "      <th>1</th>\n",
       "      <td>정상회원</td>\n",
       "      <td>수지구</td>\n",
       "      <td>여</td>\n",
       "      <td>36.0</td>\n",
       "      <td>673414</td>\n",
       "      <td>90.0</td>\n",
       "      <td>미신청</td>\n",
       "      <td>.</td>\n",
       "      <td>normal</td>\n",
       "    </tr>\n",
       "    <tr>\n",
       "      <th>2</th>\n",
       "      <td>정상회원</td>\n",
       "      <td>수지구</td>\n",
       "      <td>여</td>\n",
       "      <td>34.0</td>\n",
       "      <td>655919</td>\n",
       "      <td>66.0</td>\n",
       "      <td>미신청</td>\n",
       "      <td>.</td>\n",
       "      <td>normal</td>\n",
       "    </tr>\n",
       "    <tr>\n",
       "      <th>3</th>\n",
       "      <td>정상회원</td>\n",
       "      <td>수지구</td>\n",
       "      <td>여</td>\n",
       "      <td>51.0</td>\n",
       "      <td>2984534</td>\n",
       "      <td>252.1</td>\n",
       "      <td>미신청</td>\n",
       "      <td>.</td>\n",
       "      <td>normal</td>\n",
       "    </tr>\n",
       "    <tr>\n",
       "      <th>4</th>\n",
       "      <td>정상회원</td>\n",
       "      <td>수지구</td>\n",
       "      <td>여</td>\n",
       "      <td>51.0</td>\n",
       "      <td>1901488</td>\n",
       "      <td>152.0</td>\n",
       "      <td>신청</td>\n",
       "      <td>.</td>\n",
       "      <td>normal</td>\n",
       "    </tr>\n",
       "    <tr>\n",
       "      <th>...</th>\n",
       "      <td>...</td>\n",
       "      <td>...</td>\n",
       "      <td>...</td>\n",
       "      <td>...</td>\n",
       "      <td>...</td>\n",
       "      <td>...</td>\n",
       "      <td>...</td>\n",
       "      <td>...</td>\n",
       "      <td>...</td>\n",
       "    </tr>\n",
       "    <tr>\n",
       "      <th>6514</th>\n",
       "      <td>정상회원</td>\n",
       "      <td>수지구</td>\n",
       "      <td>남</td>\n",
       "      <td>32.0</td>\n",
       "      <td>52646</td>\n",
       "      <td>1.1</td>\n",
       "      <td>미신청</td>\n",
       "      <td>.</td>\n",
       "      <td>normal</td>\n",
       "    </tr>\n",
       "    <tr>\n",
       "      <th>6515</th>\n",
       "      <td>정상회원</td>\n",
       "      <td>분당구</td>\n",
       "      <td>여</td>\n",
       "      <td>46.0</td>\n",
       "      <td>61740</td>\n",
       "      <td>9.0</td>\n",
       "      <td>미신청</td>\n",
       "      <td>.</td>\n",
       "      <td>normal</td>\n",
       "    </tr>\n",
       "    <tr>\n",
       "      <th>6516</th>\n",
       "      <td>정상회원</td>\n",
       "      <td>기타</td>\n",
       "      <td>여</td>\n",
       "      <td>82.0</td>\n",
       "      <td>15507</td>\n",
       "      <td>2.0</td>\n",
       "      <td>미신청</td>\n",
       "      <td>.</td>\n",
       "      <td>normal</td>\n",
       "    </tr>\n",
       "    <tr>\n",
       "      <th>6517</th>\n",
       "      <td>정상회원</td>\n",
       "      <td>분당구</td>\n",
       "      <td>여</td>\n",
       "      <td>55.0</td>\n",
       "      <td>36374</td>\n",
       "      <td>2.0</td>\n",
       "      <td>미신청</td>\n",
       "      <td>.</td>\n",
       "      <td>normal</td>\n",
       "    </tr>\n",
       "    <tr>\n",
       "      <th>6518</th>\n",
       "      <td>정상회원</td>\n",
       "      <td>기타</td>\n",
       "      <td>남</td>\n",
       "      <td>41.0</td>\n",
       "      <td>15890</td>\n",
       "      <td>1.0</td>\n",
       "      <td>미신청</td>\n",
       "      <td>.</td>\n",
       "      <td>normal</td>\n",
       "    </tr>\n",
       "  </tbody>\n",
       "</table>\n",
       "<p>6517 rows × 9 columns</p>\n",
       "</div>"
      ],
      "text/plain": [
       "     조합원상태 주소-구 성별    연령    총구매금액  총구매수량 배송서비스신청여부 모바일알람여부 Gold_member\n",
       "0     정상회원  수지구  여  45.0  5733884  546.5       미신청      수신         VIP\n",
       "1     정상회원  수지구  여  36.0   673414   90.0       미신청       .      normal\n",
       "2     정상회원  수지구  여  34.0   655919   66.0       미신청       .      normal\n",
       "3     정상회원  수지구  여  51.0  2984534  252.1       미신청       .      normal\n",
       "4     정상회원  수지구  여  51.0  1901488  152.0        신청       .      normal\n",
       "...    ...  ... ..   ...      ...    ...       ...     ...         ...\n",
       "6514  정상회원  수지구  남  32.0    52646    1.1       미신청       .      normal\n",
       "6515  정상회원  분당구  여  46.0    61740    9.0       미신청       .      normal\n",
       "6516  정상회원   기타  여  82.0    15507    2.0       미신청       .      normal\n",
       "6517  정상회원  분당구  여  55.0    36374    2.0       미신청       .      normal\n",
       "6518  정상회원   기타  남  41.0    15890    1.0       미신청       .      normal\n",
       "\n",
       "[6517 rows x 9 columns]"
      ]
     },
     "execution_count": 9,
     "metadata": {},
     "output_type": "execute_result"
    }
   ],
   "source": [
    "df3 = df2.dropna() # 결측값 제거 \n",
    "df3 "
   ]
  },
  {
   "cell_type": "code",
   "execution_count": 11,
   "metadata": {
    "collapsed": true
   },
   "outputs": [
    {
     "data": {
      "text/plain": [
       "normal    6421\n",
       "VIP         96\n",
       "Name: Gold_member, dtype: int64"
      ]
     },
     "execution_count": 11,
     "metadata": {},
     "output_type": "execute_result"
    }
   ],
   "source": [
    "df3['Gold_member'].value_counts()"
   ]
  },
  {
   "cell_type": "code",
   "execution_count": 13,
   "metadata": {
    "collapsed": true
   },
   "outputs": [
    {
     "name": "stderr",
     "output_type": "stream",
     "text": [
      "<ipython-input-13-75d24b0a67bc>:1: SettingWithCopyWarning: \n",
      "A value is trying to be set on a copy of a slice from a DataFrame.\n",
      "Try using .loc[row_indexer,col_indexer] = value instead\n",
      "\n",
      "See the caveats in the documentation: https://pandas.pydata.org/pandas-docs/stable/user_guide/indexing.html#returning-a-view-versus-a-copy\n",
      "  df3['Target'] = df3['Gold_member'].replace({'VIP':1, 'normal':0})\n"
     ]
    }
   ],
   "source": [
    "df3['Target'] = df3['Gold_member'].replace({'VIP':1, 'normal':0})"
   ]
  },
  {
   "cell_type": "code",
   "execution_count": 18,
   "metadata": {},
   "outputs": [],
   "source": [
    "X = pd.get_dummies(df3.drop(columns=['Gold_member','Target'])) # One-hot Encoding \n",
    "Y = df3['Target']"
   ]
  },
  {
   "cell_type": "markdown",
   "metadata": {},
   "source": [
    "# 2. 데이터 전처리( 분할 )\n",
    "\n",
    "- sklearn \n",
    "    - model_selection\n",
    "    - metrics\n",
    "    - tree "
   ]
  },
  {
   "cell_type": "code",
   "execution_count": 21,
   "metadata": {},
   "outputs": [],
   "source": [
    "from sklearn.model_selection import train_test_split\n",
    "from sklearn.tree import DecisionTreeClassifier\n",
    "from sklearn.metrics import classification_report"
   ]
  },
  {
   "cell_type": "code",
   "execution_count": 24,
   "metadata": {
    "collapsed": true
   },
   "outputs": [
    {
     "name": "stdout",
     "output_type": "stream",
     "text": [
      "(4561, 30)\n",
      "(1956, 30)\n",
      "(4561,)\n",
      "(1956,)\n"
     ]
    }
   ],
   "source": [
    "X_train, X_test, Y_train, Y_test = train_test_split(X,Y, test_size=0.3, \n",
    "                                                    random_state=2020)\n",
    "print(X_train.shape)\n",
    "print(X_test.shape)\n",
    "print(Y_train.shape)\n",
    "print(Y_test.shape)"
   ]
  },
  {
   "cell_type": "markdown",
   "metadata": {},
   "source": [
    "# 3. 학습 "
   ]
  },
  {
   "cell_type": "code",
   "execution_count": 25,
   "metadata": {
    "collapsed": true
   },
   "outputs": [
    {
     "data": {
      "text/plain": [
       "DecisionTreeClassifier()"
      ]
     },
     "execution_count": 25,
     "metadata": {},
     "output_type": "execute_result"
    }
   ],
   "source": [
    "model = DecisionTreeClassifier()\n",
    "model.fit(X_train,Y_train)"
   ]
  },
  {
   "cell_type": "markdown",
   "metadata": {},
   "source": [
    "# 4. 평가"
   ]
  },
  {
   "cell_type": "code",
   "execution_count": 26,
   "metadata": {},
   "outputs": [],
   "source": [
    "Y_train_pred = model.predict(X_train) # 알고리즘이 학습을 얼마나 잘 시켰는가? \n",
    "Y_test_pred = model.predict(X_test) # 새로운 데이터가 들어올 때, 얼마나 좋은 성능을 나타내는가?"
   ]
  },
  {
   "cell_type": "code",
   "execution_count": 27,
   "metadata": {
    "collapsed": true
   },
   "outputs": [
    {
     "name": "stdout",
     "output_type": "stream",
     "text": [
      "              precision    recall  f1-score   support\n",
      "\n",
      "           0       1.00      1.00      1.00      4495\n",
      "           1       1.00      1.00      1.00        66\n",
      "\n",
      "    accuracy                           1.00      4561\n",
      "   macro avg       1.00      1.00      1.00      4561\n",
      "weighted avg       1.00      1.00      1.00      4561\n",
      "\n"
     ]
    }
   ],
   "source": [
    "print(classification_report(Y_train,Y_train_pred))"
   ]
  },
  {
   "cell_type": "code",
   "execution_count": 28,
   "metadata": {
    "collapsed": true
   },
   "outputs": [
    {
     "name": "stdout",
     "output_type": "stream",
     "text": [
      "              precision    recall  f1-score   support\n",
      "\n",
      "           0       0.99      0.99      0.99      1926\n",
      "           1       0.56      0.50      0.53        30\n",
      "\n",
      "    accuracy                           0.99      1956\n",
      "   macro avg       0.77      0.75      0.76      1956\n",
      "weighted avg       0.99      0.99      0.99      1956\n",
      "\n"
     ]
    }
   ],
   "source": [
    "print(classification_report(Y_test,Y_test_pred))"
   ]
  }
 ],
 "metadata": {
  "kernelspec": {
   "display_name": "Python 3",
   "language": "python",
   "name": "python3"
  },
  "language_info": {
   "codemirror_mode": {
    "name": "ipython",
    "version": 3
   },
   "file_extension": ".py",
   "mimetype": "text/x-python",
   "name": "python",
   "nbconvert_exporter": "python",
   "pygments_lexer": "ipython3",
   "version": "3.8.8"
  }
 },
 "nbformat": 4,
 "nbformat_minor": 4
}
