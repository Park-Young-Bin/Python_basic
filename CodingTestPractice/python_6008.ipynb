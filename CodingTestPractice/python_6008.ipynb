{
 "cells": [
  {
   "cell_type": "markdown",
   "metadata": {},
   "source": [
    "## 6008번 [기초-출력] 출력하기08(py)"
   ]
  },
  {
   "cell_type": "markdown",
   "metadata": {},
   "source": [
    "## 문제  \n",
    "\n",
    "이번에는 다음과 같은 python프로그램의 소스코드를 출력해보자.\n",
    "\n",
    "print(\"Hello\\nWorld\")\n",
    "\n",
    "위 코드를 정확히 그대로 출력하시오.(공백문자 주의)\n",
    "\n",
    " \n",
    "\n",
    "print 명령 안에 서식 문자로 \\n을 사용하면 줄 바꿈(new line) 문자로 사용된다.\n",
    "\n",
    "그렇다면 \\n을 화면에 그대로 출력하려면 어떻게 해야될까?"
   ]
  },
  {
   "cell_type": "code",
   "execution_count": 2,
   "metadata": {},
   "outputs": [
    {
     "name": "stdout",
     "output_type": "stream",
     "text": [
      "print(\"Hello\\nWorld\")\n"
     ]
    }
   ],
   "source": [
    "print( \"print(\\\"Hello\\\\nWorld\\\")\" )"
   ]
  },
  {
   "cell_type": "markdown",
   "metadata": {},
   "source": [
    "이 문제의 함정은 *print()* 함수도 문자열로 출력해야 한다는 것이다. 그래서 print()를 한 번 더 써야한다.\n",
    "\n",
    "'\\n'은 줄 바꿈 문자인데 이것을 그대로 출력해야 하는 것이 어려웠다.\n",
    "\n",
    "그대로 출력할려면 '\\n' 앞에 백슬래시(\\\\)를 한 개 더 작성해야 한다."
   ]
  },
  {
   "cell_type": "markdown",
   "metadata": {},
   "source": [
    "**나의 오답**\n",
    "\n",
    "print(\"Hello\\nWorld\")\n",
    "\n",
    "'print('\"Hello'\\n'World\"')'\n",
    "\n",
    "'print(\"Hello\\nWorld\")'\n",
    "\n",
    "print(\"'Hello'\\n'World'\")\n",
    "\n",
    "print(\"Hello'\\n'World\")"
   ]
  }
 ],
 "metadata": {
  "kernelspec": {
   "display_name": "Python 3",
   "language": "python",
   "name": "python3"
  },
  "language_info": {
   "codemirror_mode": {
    "name": "ipython",
    "version": 3
   },
   "file_extension": ".py",
   "mimetype": "text/x-python",
   "name": "python",
   "nbconvert_exporter": "python",
   "pygments_lexer": "ipython3",
   "version": "3.8.5"
  }
 },
 "nbformat": 4,
 "nbformat_minor": 4
}
