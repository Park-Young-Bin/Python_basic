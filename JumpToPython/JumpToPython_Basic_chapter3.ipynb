{
 "cells": [
  {
   "cell_type": "markdown",
   "metadata": {},
   "source": [
    "## 4. 프로그램의 입력과 출력은 어떻게 해야 할까?\n",
    "### 4-1 함수\n",
    "#### 함수란? 입력값을 가지고 어떤 일을 수행한 다음에 그 결과물을 내놓는 것\n",
    "#### 예시: 믹서에 과일을 넣고 믹서를 사용해서 과일을 갈아 과일 주스를 만든다. 우리가 믹서에 넣는 과일은 '입력'이 되고 과일 주스는 '출력'이 된다. 믹서는 여기에서 '함수'와 같다."
   ]
  },
  {
   "cell_type": "markdown",
   "metadata": {},
   "source": [
    "#### (1) 함수를 사용하는 이유?\n",
    "#### 프로그래밍을 하다 보면 똑같은 내용을 반복해서 작성하는 경우가 있는데 이때 함수를 이용하면 편리하다.\n",
    "#### 반복되는 부분이 있을 경우 '반복적으로 사용되는 가치 있는 부분'을 한 뭉치로 묶어서 '어떤 입력값을 주었을 때 어떤 결괏값을 돌려준다'라는 식의 함수로 작성하는 것이 현명하다."
   ]
  },
  {
   "cell_type": "markdown",
   "metadata": {},
   "source": [
    "#### (2) 파이썬 함수 구조"
   ]
  },
  {
   "cell_type": "code",
   "execution_count": null,
   "metadata": {},
   "outputs": [],
   "source": [
    "# def: 함수를 만들 때 사용하는 예약어\n",
    "# 함수 이름: 사용자가 임의로 만들 수 있다.\n",
    "# 매개변수: 이 함수에 입력으로 전달되는 값을 받는 변수\n",
    "\n",
    "def add(a, b):\n",
    "    result = a + b\n",
    "    return result\n",
    "print(add(3,4))\n",
    "\n",
    "def add(a, b):\n",
    "    result = a + b\n",
    "    return result\n",
    "c = add(3, 4)\n",
    "print(c)\n",
    "\n",
    "# 이 함수의 이름은 add이고 입력으로 2개의 값을 받으며 결괏값은 2개의 입력값을 더한 값이다.\n",
    "# 두 번째 방법처럼 함수를 c로 새로 정의해서 print할 수 있다."
   ]
  },
  {
   "cell_type": "markdown",
   "metadata": {},
   "source": [
    "#### (3) 매개변수와 인수"
   ]
  },
  {
   "cell_type": "code",
   "execution_count": null,
   "metadata": {},
   "outputs": [],
   "source": [
    "def add(a, b):         # a, b는 매개변수\n",
    "    return a + b\n",
    "print(add(3, 4))        # 3, 4는 인수\n",
    "\n",
    "# 매개변수: 함수에 입력으로 전달된 값을 받는 변수\n",
    "# 인수: 함수를 호출할 때 전달하는 입력값"
   ]
  },
  {
   "cell_type": "markdown",
   "metadata": {},
   "source": [
    "#### (4) 입력값과 결괏값에 따른 함수의 형태\n",
    "#### 입력값과 출력값이 무조건 있어야 하는 것은 아니다."
   ]
  },
  {
   "cell_type": "code",
   "execution_count": null,
   "metadata": {},
   "outputs": [],
   "source": [
    "# 1. 일반적인 함수\n",
    "\n",
    "# def 함수이름(매개변수):\n",
    "#     수행할 문장\n",
    "#     ...\n",
    "#     return 결괏값\n",
    "\n",
    "def add(a, b):\n",
    "    result = a + b\n",
    "    return result    # a+b의 결괏값 반환\n",
    "\n",
    "c = add(3, 4)\n",
    "print(c)"
   ]
  },
  {
   "cell_type": "code",
   "execution_count": null,
   "metadata": {},
   "outputs": [],
   "source": [
    "# 2. 입력값이 없는 함수(출력값만 있을 수 있다.)\n",
    "\n",
    "def say():\n",
    "    return 'Hi'\n",
    "\n",
    "a = say()\n",
    "print(say())\n",
    "\n",
    "# 위 함수를 쓰기 위해서는 say()처럼 괄호 안에 아무 값도 넣지 않아야 한다.\n",
    "# 이 함수는 입력값은 없지만 결괏값으로 Hi라는 문자열을 돌려준다."
   ]
  },
  {
   "cell_type": "code",
   "execution_count": null,
   "metadata": {},
   "outputs": [],
   "source": [
    "# 3. 결괏값이 없는 함수(입력값만 있을 수 있다.)\n",
    "\n",
    "def add(a, b):\n",
    "    print('%d, %d의 합은 %d입니다.' %(a, b, a+b))\n",
    "a=add(4,3)\n",
    "print(a)\n",
    "\n",
    "# print문은 함수의 구성 요소 중 하나인 <수행할 문장>에 해당하는 부분이다. 결괏값은 당연히 없다.\n",
    "# 결괏값은 오직 return 명령어로만 돌려받을 수 있다.\n",
    "# return 값이 없기 때문에 print문을 사용해도 'None'이 나온다.\n",
    "\n",
    "myList=[1,2,3]\n",
    "print(myList.append(4))\n",
    "\n",
    "# myList에 4를 추가하지만 return값이 없는 함수이므로 'None'이 나온다.\n",
    "\n",
    "myList=[1,2,3]\n",
    "print(myList.pop())\n",
    "\n",
    "# 반면에 pop 함수는 return값이 있으므로 print 했을 때 결괏값이 출력된다."
   ]
  },
  {
   "cell_type": "code",
   "execution_count": null,
   "metadata": {},
   "outputs": [],
   "source": [
    "# 4. 입력값도 출력값도 없는 함수\n",
    "\n",
    "def say():\n",
    "    print('Hi')    \n",
    "say()\n",
    "\n",
    "# 입력 인수를 받는 매개변수도 없고 return문도 없으니 입력값도 결괏값도 없는 함수이다."
   ]
  },
  {
   "cell_type": "markdown",
   "metadata": {},
   "source": [
    "#### (5) 매개변수 지정하여 호출하기"
   ]
  },
  {
   "cell_type": "code",
   "execution_count": null,
   "metadata": {},
   "outputs": [],
   "source": [
    "def add(a, b):\n",
    "    return a + b\n",
    "\n",
    "# 아래와 같이 매개변수를 지정해서 사용할 수 있다. 순서에 상관없이 사용할 수 있다.\n",
    "\n",
    "result = add(a=3, b=7)     # a에 3, b에 7을 전달\n",
    "print(result)\n",
    "\n",
    "result = add(b=5, a=3)     # a에 3 b에 5를 전달\n",
    "print(result)"
   ]
  },
  {
   "cell_type": "markdown",
   "metadata": {},
   "source": [
    "#### (6) 입력값이 몇 개가 될지 모를 때는 어떻게 해야 할까?"
   ]
  },
  {
   "cell_type": "code",
   "execution_count": null,
   "metadata": {},
   "outputs": [],
   "source": [
    "# 입력값이 몇 개일지 모를 때는 아래와 같이 괄호 안의 매개변수 부분이 *매개변수로 바뀌었다.\n",
    "\n",
    "def 함수이름(*매개변수):\n",
    "    수행할 문장\n",
    "    ..."
   ]
  },
  {
   "cell_type": "code",
   "execution_count": null,
   "metadata": {},
   "outputs": [],
   "source": [
    "# *args는 '몇 개든 상관없다', '몇 개든 넣어라'라는 의미이다.\n",
    "\n",
    "def sum_many(*args):\n",
    "    sum = 0\n",
    "    for i in args:\n",
    "        sum = sum + i    # *args에 입력받은 모든 값을 더한다.\n",
    "    return sum\n",
    "\n",
    "sum = sum_many(1,2,3)\n",
    "print(sum)\n",
    "\n",
    "sum = sum_many(1,2,3,4,5,6,7,8,9,10)  # sum_many 함수의 결괏값을 result 변수에 대입\n",
    "print(sum)"
   ]
  },
  {
   "cell_type": "markdown",
   "metadata": {},
   "source": [
    "#### (7) 함수의 결괏값은 언제나 하나이다."
   ]
  },
  {
   "cell_type": "code",
   "execution_count": null,
   "metadata": {},
   "outputs": [],
   "source": [
    "def sum_and_mul(a, b):\n",
    "    return a+b, a*b, a-b     # 2개의 매개변수를 받아 더한 값과 곱한 값을 돌려준다.\n",
    "print(sum_and_mul(1,2))       # 튜플 형태으로 돌려준다.\n",
    "\n",
    "# 여러 개의 값을 한 번에 return한다.\n",
    "\n",
    "print(sum_and_mul(1,2)[1])     # 원하는 부분만 추출할 수 있다."
   ]
  },
  {
   "cell_type": "markdown",
   "metadata": {},
   "source": [
    "#### (8) 매개변수에 초깃값 미리 설정하기"
   ]
  },
  {
   "cell_type": "code",
   "execution_count": null,
   "metadata": {},
   "outputs": [],
   "source": [
    "def say_myself(name, old, man=True):\n",
    "    print('나의 이름은 %s입니다.' % name)\n",
    "    print('나이는 %d살입니다.' % old)\n",
    "    if man:\n",
    "        print('남자입니다.')\n",
    "    else:\n",
    "        print('여자입니다.')\n",
    "\n",
    "say_myself('박응용', 25)    # return값이 없으므로 바로 함수를 쓴다. \n",
    "say_myself('박응용', 25, False)\n",
    "\n",
    "# 위 함수를 보면 매개변수가 name, old, man=True 이렇게 3개이다.\n",
    "# 낯선 것이 있다면 man=True인데, 매개변수에 미리 값을 넣어 준 것이다. \n",
    "# 이것이 바로 함수의 매개변수 초깃값을 설정하는 방법이다.\n",
    "# 매개변수에 들어갈 값이 항상 변하는 것이 아닐 경우에는 이렇게 함수의 초깃값을 미리 설정해두면 유용하다."
   ]
  },
  {
   "cell_type": "code",
   "execution_count": null,
   "metadata": {},
   "outputs": [],
   "source": [
    "# 함수 매개변수에 초깃값 설정 시 주의사항(순서 중요!)\n",
    "\n",
    "def say_myself(name, man=True, old):\n",
    "    print('나의 이름은 %s입니다.' % name)\n",
    "    print('나이는 %d살입니다.' % old)\n",
    "    if man:\n",
    "        print('남자입니다.')\n",
    "    else:\n",
    "        print('여자입니다.')\n",
    "        \n",
    "say_myself('박응용', 25)\n",
    "\n",
    "# name의 위치는 맞지만 man=True라는 기본값을 안 쓴다고 해서 함수의 중간 위치를 비우면 오류 발생\n",
    "# 따라서 기본값으로 설정한 것은 맨 뒤에 써야 오류가 나지 않는다."
   ]
  },
  {
   "cell_type": "markdown",
   "metadata": {},
   "source": [
    "#### (9) 함수 안에서 선언한 변수의 효력 범위(중요 개념)"
   ]
  },
  {
   "cell_type": "code",
   "execution_count": null,
   "metadata": {},
   "outputs": [],
   "source": [
    "a = 1               # 함수 밖의 변수 a\n",
    "def vartest(a):     # vartest 함수 선언\n",
    "    a = a + 1\n",
    "    \n",
    "vartest(a)          # vartest 함수의 입력값으로 a를 준다.\n",
    "print(a)            # a값 출력\n",
    "\n",
    "# 당연히 2가 출력될 것 같았지만 결괏값은 1이다.\n",
    "# 그 이유는 함수 안에서 새로 만든 매개변수는 함수 안에서만 사용하는 '함수만의 변수'이기 때문이다.\n",
    "# 즉 def vartest(a)에서 입력값을 전달받는 매개변수 a는 함수 안에서만 사용하는 변수이지 함수 밖의 변수 a가 아니다."
   ]
  },
  {
   "cell_type": "code",
   "execution_count": null,
   "metadata": {},
   "outputs": [],
   "source": [
    "# 1. 함수 안에서 함수 밖의 변수를 변경하는 방법1\n",
    "\n",
    "a = 1 \n",
    "def vartest(a): \n",
    "    a = a + 1\n",
    "    return a         # 2 라는 값을 return한다.\n",
    "\n",
    "a = vartest(a)        # 2 라는 결괏값을 a에 다시 할당한다. (a = 2)\n",
    "print(a)   \n",
    "\n",
    "\n",
    "# 2. 함수 안에서 함수 밖의 변수를 변경하는 방법2\n",
    "\n",
    "a = 1\n",
    "def vartest():\n",
    "    global a\n",
    "    a = a + 1\n",
    "    \n",
    "vartest()\n",
    "print(a)\n",
    "\n",
    "# 'global'을 사용하여 전체에서 사용할 수 있는 변수로 바뀜(지역변수 -> 전역변수)"
   ]
  },
  {
   "cell_type": "markdown",
   "metadata": {},
   "source": [
    "#### (10) lambda(자주 사용)\n",
    "#### lambda는 함수를 생성할 때 사용하는 예약어로 def와 동일한 역할을 한다.\n",
    "#### 사용법 -> lambda 매개변수1, 매개변수2, ... : 매개변수를 사용한 표현식"
   ]
  },
  {
   "cell_type": "code",
   "execution_count": null,
   "metadata": {},
   "outputs": [],
   "source": [
    "add = lambda a, b: a + b\n",
    "result = add(3, 4)\n",
    "print(result)\n",
    "\n",
    "def add(a, b):\n",
    "    result = a +b\n",
    "    return result\n",
    "result = add(3, 4)\n",
    "print(result)"
   ]
  },
  {
   "cell_type": "code",
   "execution_count": null,
   "metadata": {},
   "outputs": [],
   "source": [
    "myList = [lambda a, b: a+ b, lambda a, b: a*b]\n",
    "\n",
    "myList[0]    # 이 자체가 함수이다.\n",
    "\n",
    "print(myList[0](1,3))\n",
    "print(myList[1](1,3))"
   ]
  },
  {
   "cell_type": "markdown",
   "metadata": {},
   "source": [
    "### 4-2 사용자 입력과 출력"
   ]
  },
  {
   "cell_type": "markdown",
   "metadata": {},
   "source": [
    "#### (1) 사용자 입력"
   ]
  },
  {
   "cell_type": "code",
   "execution_count": null,
   "metadata": {},
   "outputs": [],
   "source": [
    "# input의 사용\n",
    "# input은 입력되는 모든 것을 문자열로 취급한다.\n",
    "\n",
    "a = input()"
   ]
  },
  {
   "cell_type": "code",
   "execution_count": null,
   "metadata": {},
   "outputs": [],
   "source": [
    "# 안내 문구 또는 질문이 나오도록 하고 싶을 때\n",
    "\n",
    "number = input('숫자를 입력하세요:')"
   ]
  },
  {
   "cell_type": "markdown",
   "metadata": {},
   "source": [
    "#### (2) print 자세히 알기"
   ]
  },
  {
   "cell_type": "code",
   "execution_count": null,
   "metadata": {},
   "outputs": [],
   "source": [
    "# 1. 큰따옴표로 둘러싸인 문자열은 +연산과 동일하다.\n",
    "\n",
    "print(\"Life\" \"is\" \"too short\")\n",
    "print(\"Life\"+\"is\"+\"too short\")"
   ]
  },
  {
   "cell_type": "code",
   "execution_count": null,
   "metadata": {},
   "outputs": [],
   "source": [
    "# 2. 문자열 띄어쓰기는 콤마(,)로 한다.\n",
    "\n",
    "print(\"Life\", \"is\", \"too short\")"
   ]
  },
  {
   "cell_type": "code",
   "execution_count": null,
   "metadata": {},
   "outputs": [],
   "source": [
    "# 3. 한 줄에 결괏값 출력하기\n",
    "\n",
    "for i in range(10):\n",
    "    print(i, end = ' ')\n",
    "    \n",
    "# for문의 구구단 프로그램에서 보았듯이 한 줄에 여러 결괏값을 계속 이어서 출력하면 매개변수 end를 사용해 끝 문자를 지정해야 한다."
   ]
  },
  {
   "cell_type": "markdown",
   "metadata": {},
   "source": [
    "### 4-3 파일 읽고 쓰기"
   ]
  },
  {
   "cell_type": "markdown",
   "metadata": {},
   "source": [
    "#### (1) 파일 생성하기"
   ]
  },
  {
   "cell_type": "code",
   "execution_count": null,
   "metadata": {},
   "outputs": [],
   "source": [
    "f=open('newFile.txt', 'w')\n",
    "f.close()\n",
    "\n",
    "# 파일을 생성하기 위해 파이썬 내장 함수 open을 사용한다.\n",
    "# open 함수는 '파일 이름'과 '파일 열기 모드'를 입력값으로 받고 결괏값으로 파일 객체를 돌려준다.\n",
    "# 파일 객체 = open(파일 이름, 파일 열기 모드)\n",
    "\n",
    "# 파일을 쓰기 모드로 열면 해당 파일이 이미 존재할 경우 원래 있던 내용이 모두 사라지고, 해당 파일일 존재하지 않으면 새로운 파일이 생성된다.\n",
    "# f.close()는 열려 있는 파일 객체를 닫아 주는 역할을 한다."
   ]
  },
  {
   "cell_type": "markdown",
   "metadata": {},
   "source": [
    "#### (2) 파일을 쓰기 모드로 열어 출력값 적기"
   ]
  },
  {
   "cell_type": "code",
   "execution_count": 3,
   "metadata": {},
   "outputs": [
    {
     "name": "stdout",
     "output_type": "stream",
     "text": [
      "1번째 줄입니다.\n",
      "\n",
      "2번째 줄입니다.\n",
      "\n",
      "3번째 줄입니다.\n",
      "\n",
      "4번째 줄입니다.\n",
      "\n",
      "5번째 줄입니다.\n",
      "\n",
      "6번째 줄입니다.\n",
      "\n",
      "7번째 줄입니다.\n",
      "\n",
      "8번째 줄입니다.\n",
      "\n",
      "9번째 줄입니다.\n",
      "\n",
      "10번째 줄입니다.\n",
      "\n"
     ]
    }
   ],
   "source": [
    "f=open('newFile.txt', 'w')\n",
    "for i in range(1, 11):        # 1부터 10까지 i에 대입\n",
    "    data = '%d번째 줄입니다.\\n' %i\n",
    "    f.write(data)           # data를 파일 객체 f에 써라\n",
    "f.close()\n",
    "\n",
    "#-------------------------------------------------------------#\n",
    "\n",
    "for i in range(1, 11):        # 1부터 10까지 i에 대입\n",
    "    data = '%d번째 줄입니다.\\n' %i\n",
    "    print(data)\n",
    "f.close()\n",
    "\n",
    "# 두 프로그램의 다른 점은 data를 출력하는 방법이다.\n",
    "# 두 번째 방법은 우리가 계속 사용해 왔던 모니터 화면에 출력하는 방법이다.\n",
    "# 첫 번째 방법은 모니터 화면 대신 파일에 결괏값을 적는 방법이다."
   ]
  },
  {
   "cell_type": "markdown",
   "metadata": {},
   "source": [
    "#### (3) 프로그램의 외부에 저장된 파일을 읽는 여러 가지 방법"
   ]
  },
  {
   "cell_type": "code",
   "execution_count": null,
   "metadata": {},
   "outputs": [],
   "source": [
    "# 1. readline 함수 사용하기(한 줄 읽음)\n",
    "\n",
    "f=open('newFile.txt', 'r')\n",
    "line = f.readline()\n",
    "print(line)\n",
    "f.close()\n",
    "\n",
    "# 앞에서 만든 newFile.txt를 수정하거나 지우지 않았다면 위 프로그램을 실행했을 때 newFile.txt의 가장 첫 번째 줄이 화면에 출력될 것이다.\n",
    "\n",
    "# 만약 모든 줄을 읽어서 화면에 출력하고 싶다면 아래와 같이 작성한다.\n",
    "\n",
    "f=open('newFile.txt', 'r')\n",
    "while True:\n",
    "    line = f.readline()      # 첫 번째 줄을 가져와서 line에 저장\n",
    "    if not line: break      # line 값이 없다면 반복문을 빠져나와라\n",
    "    print(line)\n",
    "f.close()"
   ]
  },
  {
   "cell_type": "code",
   "execution_count": 4,
   "metadata": {},
   "outputs": [
    {
     "name": "stdout",
     "output_type": "stream",
     "text": [
      "1번째 줄입니다.\n",
      "\n",
      "2번째 줄입니다.\n",
      "\n",
      "3번째 줄입니다.\n",
      "\n",
      "4번째 줄입니다.\n",
      "\n",
      "5번째 줄입니다.\n",
      "\n",
      "6번째 줄입니다.\n",
      "\n",
      "7번째 줄입니다.\n",
      "\n",
      "8번째 줄입니다.\n",
      "\n",
      "9번째 줄입니다.\n",
      "\n",
      "10번째 줄입니다.\n",
      "\n",
      "['1번째 줄입니다.\\n', '2번째 줄입니다.\\n', '3번째 줄입니다.\\n', '4번째 줄입니다.\\n', '5번째 줄입니다.\\n', '6번째 줄입니다.\\n', '7번째 줄입니다.\\n', '8번째 줄입니다.\\n', '9번째 줄입니다.\\n', '10번째 줄입니다.\\n']\n"
     ]
    }
   ],
   "source": [
    "# 2. readlines 함수 사용하기(리스트 형식으로 한 줄씩 읽어서 출력)\n",
    "\n",
    "f=open('newFile.txt', 'r')\n",
    "lines = f.readlines()\n",
    "for line in lines:\n",
    "    print(line)\n",
    "f.close()\n",
    "\n",
    "# 한 줄씩 띄어져 있는 이유는 맨 처음 newFile.txt를 작성할 때 입력 문장 끝에 '\\n'을 붙였기 때문이다.\n",
    "\n",
    "f=open('newFile.txt', 'r')\n",
    "lines=f.readlines()\n",
    "print(lines)\n",
    "f.close()"
   ]
  },
  {
   "cell_type": "code",
   "execution_count": 1,
   "metadata": {},
   "outputs": [],
   "source": [
    "# + 한 줄 띄우는 것을 막는 방법\n",
    "\n",
    "f=open('newFile.txt', 'r')\n",
    "lines = f.readlines()\n",
    "for line in lines:\n",
    "    print(line, end = \"\")\n",
    "f.close()\n",
    "\n",
    "# 원래는 print('1번째 줄입니다\\n')이다.\n",
    "# print() 자체가 한 줄 띄우는 역할을 하고 '\\n'도 한 줄 띄우는 역할이므로 중간에 한 칸씩 띄어져 있는 것이다.\n",
    "# 이를 제거하기 위해서는 end=\"\"를 이용한다. -> 한 줄 띄어쓰기 막음"
   ]
  },
  {
   "cell_type": "code",
   "execution_count": null,
   "metadata": {},
   "outputs": [],
   "source": [
    "# 3. read 함수 사용하기(모든 것을 읽어 출력함)\n",
    "\n",
    "f=open('newFile.txt', 'r')\n",
    "data = f.read()\n",
    "print(data)\n",
    "f.close()"
   ]
  },
  {
   "cell_type": "markdown",
   "metadata": {},
   "source": [
    "#### (4) 파일에 새로운 내용 추가하기\n",
    "#### 쓰기 모드(w)로 열때 이미 존재하는 파일이라면 그 파일의 내용이 모두 사라지게 된다.\n",
    "#### 하지만 원래 있던 값을 유지하면서 단지 새로운 값만 추가하고 싶을 때는 추가 모드(a)로 열면 된다."
   ]
  },
  {
   "cell_type": "code",
   "execution_count": null,
   "metadata": {},
   "outputs": [],
   "source": [
    "f=open('newFile.txt', 'a')\n",
    "for i in range(11, 20):\n",
    "    data = '%d번째 줄입니다.\\n' % i\n",
    "    f.write(data)\n",
    "f.close()"
   ]
  },
  {
   "cell_type": "markdown",
   "metadata": {},
   "source": [
    "#### (5) with문과 함께 사용하기"
   ]
  },
  {
   "cell_type": "code",
   "execution_count": null,
   "metadata": {},
   "outputs": [],
   "source": [
    "f=open('foo.txt', 'w')\n",
    "f.write('Life is too short, you need python')\n",
    "f.close()\n",
    "\n",
    "with open('foo.txt', 'w') as f:      # 'foo.txt'을 열어서 f 라는 변수에 저장한다.\n",
    "    f.write(\"Life is too short, you need python\")\n",
    "    \n",
    "# with문을 사용하면 with 블록을 벗어나는 순간 열린 파일 객체 f가 자동으로 close되어 편리하다."
   ]
  },
  {
   "cell_type": "markdown",
   "metadata": {},
   "source": [
    "### 연습문제"
   ]
  },
  {
   "cell_type": "code",
   "execution_count": null,
   "metadata": {},
   "outputs": [],
   "source": [
    "# 1. 주어진 자연수가 홀수인지 짝수인지 판별해 주는 함수(is_odd)를 작성해보자.\n",
    "\n",
    "def is_odd(number):\n",
    "    if number % 2 == 0:\n",
    "        return True\n",
    "    else:\n",
    "        return False\n",
    "\n",
    "print(is_odd(1))"
   ]
  },
  {
   "cell_type": "code",
   "execution_count": null,
   "metadata": {},
   "outputs": [],
   "source": [
    "# 2. 입력으로 들어오는 모든 수의 평균 값을 계산해주는 함수를 작성하자.\n",
    "\n",
    "def avg_number(*args):\n",
    "    result = 0\n",
    "    for i in args:\n",
    "        result += i\n",
    "    return result/len(args)\n",
    "\n",
    "result = avg_number(1,2)\n",
    "print(result)\n",
    "result = avg_number(1,2,3,4,5)\n",
    "print(result)"
   ]
  },
  {
   "cell_type": "code",
   "execution_count": null,
   "metadata": {},
   "outputs": [],
   "source": [
    "# 6. 사용자의 입력을 파일에 저장하는 프로그램을 작성해 보자.\n",
    "\n",
    "user_input = input(\"저장할 내용을 입력하세요:\")\n",
    "f=open('test.txt', 'a')\n",
    "f.write(user_input)\n",
    "f.write('\\n')\n",
    "f.close()"
   ]
  },
  {
   "cell_type": "code",
   "execution_count": null,
   "metadata": {},
   "outputs": [],
   "source": [
    "# 7.\n",
    "\n",
    "# 1) Life is too short you need python을 작성한다.\n",
    "f=open('test.txt', 'w')\n",
    "data = 'Life is too short\\nyou need java'\n",
    "f.write(data)\n",
    "f.close()\n",
    "\n",
    "# 2) test.txt의 내용을 body에 저장\n",
    "f=open('test.txt', 'r')\n",
    "body = f.read()\n",
    "f.close()\n",
    "\n",
    "# 3) 글자 변경\n",
    "body = body.replace('java', 'python')\n",
    "\n",
    "# 4) 파일을 쓰기 모드로 다시 실행\n",
    "f=open('test.txt', 'w')\n",
    "f.write(body)\n",
    "f.close()"
   ]
  }
 ],
 "metadata": {
  "kernelspec": {
   "display_name": "Python 3",
   "language": "python",
   "name": "python3"
  },
  "language_info": {
   "codemirror_mode": {
    "name": "ipython",
    "version": 3
   },
   "file_extension": ".py",
   "mimetype": "text/x-python",
   "name": "python",
   "nbconvert_exporter": "python",
   "pygments_lexer": "ipython3",
   "version": "3.8.5"
  }
 },
 "nbformat": 4,
 "nbformat_minor": 4
}
