{
 "cells": [
  {
   "cell_type": "markdown",
   "id": "86a24170",
   "metadata": {},
   "source": [
    "# 6087번 [기초-종합] 3의 배수는 통과(설명)(py)"
   ]
  },
  {
   "cell_type": "markdown",
   "id": "dcea4724",
   "metadata": {},
   "source": [
    "## 문제\n",
    "1부터 입력한 정수까지 1씩 증가시켜 출력하는 프로그램을 작성하되, 3의 배수인 경우는 출력하지 않도록 만들어보자."
   ]
  },
  {
   "cell_type": "code",
   "execution_count": 13,
   "id": "2856c432",
   "metadata": {},
   "outputs": [
    {
     "name": "stdout",
     "output_type": "stream",
     "text": [
      "10\n",
      "1 2 4 5 7 8 10 "
     ]
    }
   ],
   "source": [
    "a = int(input())\n",
    "\n",
    "for i in range(1, a+1):\n",
    "    if i % 3 == 0:\n",
    "        continue\n",
    "    else:\n",
    "        print(i, end =' ')"
   ]
  },
  {
   "cell_type": "markdown",
   "id": "1f8e1dae",
   "metadata": {},
   "source": [
    "#### 나의 오답"
   ]
  },
  {
   "cell_type": "code",
   "execution_count": 10,
   "id": "ef210183",
   "metadata": {},
   "outputs": [
    {
     "name": "stdout",
     "output_type": "stream",
     "text": [
      "10\n",
      "1 2 4 5 7 8 10 "
     ]
    }
   ],
   "source": [
    "a = int(input())\n",
    "n = 0\n",
    "\n",
    "while n < 10:\n",
    "    n += 1\n",
    "    if n % 3 != 0:\n",
    "        pass\n",
    "        print(n, end=' ')"
   ]
  },
  {
   "cell_type": "code",
   "execution_count": null,
   "id": "948fe8cb",
   "metadata": {},
   "outputs": [],
   "source": [
    "내 풀이도 정답이랑 똑같이 나오는데 무엇이 틀린 건이 잘 모르겠다..."
   ]
  }
 ],
 "metadata": {
  "kernelspec": {
   "display_name": "Python 3",
   "language": "python",
   "name": "python3"
  },
  "language_info": {
   "codemirror_mode": {
    "name": "ipython",
    "version": 3
   },
   "file_extension": ".py",
   "mimetype": "text/x-python",
   "name": "python",
   "nbconvert_exporter": "python",
   "pygments_lexer": "ipython3",
   "version": "3.8.8"
  }
 },
 "nbformat": 4,
 "nbformat_minor": 5
}
