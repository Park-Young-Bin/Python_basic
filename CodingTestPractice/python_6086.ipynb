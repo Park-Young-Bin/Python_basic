{
 "cells": [
  {
   "cell_type": "markdown",
   "id": "a4422a95",
   "metadata": {},
   "source": [
    "# 6086번 [기초-종합] 거기까지! 이제 그만~(설명)(py)"
   ]
  },
  {
   "cell_type": "markdown",
   "id": "ba0b0e75",
   "metadata": {},
   "source": [
    "## 문제\n",
    "1, 2, 3 ... 을 순서대로 계속 더해 합을 만드는데, 그 합이 입력한 정수보다 작을 동안만 계속 더하는 프로그램을 작성해보자.\n",
    "\n",
    "즉, 1부터 n까지 정수를 하나씩 더해 합을 만드는데, 어디까지 더해야 입력한 수보다 같거나 커지는지 알아보고자 하는 문제이다.\n",
    "\n",
    "하지만, 이번에는 그 때 까지의 합을 출력해야 한다.\n",
    "\n",
    "예를 들어, 57을 입력하면\n",
    "\n",
    "1+2+3+...+8+9+10=55에서 그 다음 수인 11을 더해 66이 될 때,\n",
    "\n",
    "그 값 66이 출력되어야 한다."
   ]
  },
  {
   "cell_type": "code",
   "execution_count": 3,
   "id": "bc718ce5",
   "metadata": {},
   "outputs": [
    {
     "name": "stdout",
     "output_type": "stream",
     "text": [
      "57\n",
      "66\n"
     ]
    }
   ],
   "source": [
    "a = int(input())\n",
    "n = 0\n",
    "s = 0\n",
    "\n",
    "while True:\n",
    "    s = s + n\n",
    "    n = n + 1\n",
    "    if s >= a:\n",
    "        break\n",
    "print(s)"
   ]
  },
  {
   "cell_type": "markdown",
   "id": "b5f65d04",
   "metadata": {},
   "source": [
    "#### 나의 오답"
   ]
  },
  {
   "cell_type": "code",
   "execution_count": 4,
   "id": "9bcc8bb4",
   "metadata": {},
   "outputs": [
    {
     "name": "stdout",
     "output_type": "stream",
     "text": [
      "57\n",
      "66\n"
     ]
    }
   ],
   "source": [
    "a = int(input())\n",
    "num = 0\n",
    "result = 0\n",
    "while True:\n",
    "    num += 1\n",
    "    result += num\n",
    "    if result > a:\n",
    "        print(result)\n",
    "        break"
   ]
  },
  {
   "cell_type": "markdown",
   "id": "422177bb",
   "metadata": {},
   "source": [
    "위의 코드는 print(result) 구문을 if 문 내부가 아닌 while 문이 끝나는 쪽에 작성해야 맞다."
   ]
  }
 ],
 "metadata": {
  "kernelspec": {
   "display_name": "Python 3",
   "language": "python",
   "name": "python3"
  },
  "language_info": {
   "codemirror_mode": {
    "name": "ipython",
    "version": 3
   },
   "file_extension": ".py",
   "mimetype": "text/x-python",
   "name": "python",
   "nbconvert_exporter": "python",
   "pygments_lexer": "ipython3",
   "version": "3.8.8"
  }
 },
 "nbformat": 4,
 "nbformat_minor": 5
}
