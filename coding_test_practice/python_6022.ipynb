{
 "cells": [
  {
   "cell_type": "markdown",
   "metadata": {},
   "source": [
    "## 6022번 [기초-입출력] 연월일 입력받아 나누어 출력하기(설명)(py)"
   ]
  },
  {
   "cell_type": "markdown",
   "metadata": {},
   "source": [
    "### 문제\n",
    "\n",
    "6자리의 연월일(YYMMDD)을 입력받아 나누어 출력해보자.\n",
    "\n",
    "**[참고]**\n",
    "\n",
    "s = input()\n",
    "\n",
    "print(s[0:2])\n",
    "\n",
    "를 실행하면 0번째 문자부터 1번째 문자까지 잘라 출력한다.\n",
    "\n",
    "s[a:b] 라고 하면, s라는 단어에서 a번째 문자부터 b-1번째 문자까지 잘라낸 부분을 의미한다.\n",
    "\n",
    "다른 자르기 방법도 있다."
   ]
  },
  {
   "cell_type": "code",
   "execution_count": 10,
   "metadata": {},
   "outputs": [
    {
     "name": "stdout",
     "output_type": "stream",
     "text": [
      "971219\n",
      "97 12 19 "
     ]
    }
   ],
   "source": [
    "s=input()\n",
    "arr=[s[0:2], s[2:4], s[4:6]]\n",
    "for s in arr:\n",
    "    print(s, end = ' ')"
   ]
  },
  {
   "cell_type": "markdown",
   "metadata": {},
   "source": [
    "**end = ' '** or **end = \" \"** 은 다음 줄로 넘어가지 않고 *띄어쓰기*하면서 한 줄로 출력되는 방식이다."
   ]
  },
  {
   "cell_type": "code",
   "execution_count": 13,
   "metadata": {},
   "outputs": [
    {
     "name": "stdout",
     "output_type": "stream",
     "text": [
      "971219\n",
      "971219"
     ]
    }
   ],
   "source": [
    "s=input()\n",
    "arr=[s[0:2], s[2:4], s[4:6]]\n",
    "for s in arr:\n",
    "    print(s, end = '')"
   ]
  },
  {
   "cell_type": "markdown",
   "metadata": {},
   "source": [
    "**end = ' '** or **end = \" \"** 은 띄어쓰기 없이 입력한 그대로 출력된다."
   ]
  },
  {
   "cell_type": "code",
   "execution_count": 1,
   "metadata": {},
   "outputs": [
    {
     "name": "stdout",
     "output_type": "stream",
     "text": [
      "971219\n",
      "97\n",
      "12\n",
      "19\n"
     ]
    }
   ],
   "source": [
    "a = input()\n",
    "print(a[0:2])\n",
    "print(a[2:4])\n",
    "print(a[4:6])"
   ]
  },
  {
   "cell_type": "markdown",
   "metadata": {},
   "source": [
    "인덱싱을 해서 한 줄로 나누어서 입력할 수 있다."
   ]
  }
 ],
 "metadata": {
  "kernelspec": {
   "display_name": "Python 3",
   "language": "python",
   "name": "python3"
  },
  "language_info": {
   "codemirror_mode": {
    "name": "ipython",
    "version": 3
   },
   "file_extension": ".py",
   "mimetype": "text/x-python",
   "name": "python",
   "nbconvert_exporter": "python",
   "pygments_lexer": "ipython3",
   "version": "3.8.5"
  }
 },
 "nbformat": 4,
 "nbformat_minor": 4
}
