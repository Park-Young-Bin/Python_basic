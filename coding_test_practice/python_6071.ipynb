{
 "cells": [
  {
   "cell_type": "markdown",
   "id": "cfb0e115",
   "metadata": {},
   "source": [
    "# 6071번 [기초-반복실행구조] 0 입력될 때까지 무한 출력하기(설명)(py)"
   ]
  },
  {
   "cell_type": "markdown",
   "id": "a0ee6ff1",
   "metadata": {},
   "source": [
    "## 문제\n",
    "\n",
    "0이 아니면 입력된 정수를 출력하고, 0이 입력되면 출력을 중단해보자.\n",
    "\n",
    "**예시**\n",
    "\n",
    "n = 1      #처음 조건 검사를 통과하기 위해 0 아닌 값을 임의로 저장  \n",
    "while n!=0 :  \n",
    "  n = int(input())  \n",
    "  if n!=0 :  \n",
    "    print(n)  \n",
    "...\n",
    "\n",
    "**참고**\n",
    "\n",
    "if 조건식 :  \n",
    "  ...  \n",
    "  ...\n",
    "\n",
    "\n",
    "구조를 사용하면, 주어진 조건식의 평가 결과가 True 인 경우에만, 들여쓰기로 구분된 코드블록이 실행된다.\n",
    "\n",
    "if 를 while 로 바꾸면?\n",
    "\n",
    "while 조건식 :  \n",
    "  ...  \n",
    "  ...  \n",
    "\n",
    "와 같은 방법으로 반복해서 실행시킬 수 있다.\n",
    "\n",
    "실행되는 과정은\n",
    "1. 조건식을 평가한다.\n",
    "2. True 인 경우 코드블록을 실행한다.\n",
    "3. 다시 조건식을 평가한다.\n",
    "4. True 인 경우 코드블록을 실행한다.\n",
    "...  \n",
    "... 조건식의 평가 값이 False 인 경우 반복을 중단하고, 그 다음 명령을 실행한다.\n",
    "\n",
    "조건식의 평가 결과가 True 동안만 반복 실행된다. \n",
    "\n",
    "반복실행구조 안에 다른 조건/선택실행구조를 넣을 수도 있고...  \n",
    "조건/선택실행구조 안에 다른 반복실행구조를 넣을 수도 있다."
   ]
  },
  {
   "cell_type": "markdown",
   "id": "ee6d9f09",
   "metadata": {},
   "source": [
    "### 풀이1"
   ]
  },
  {
   "cell_type": "code",
   "execution_count": 1,
   "id": "472c723b",
   "metadata": {},
   "outputs": [
    {
     "name": "stdout",
     "output_type": "stream",
     "text": [
      "1\n",
      "1\n",
      "2\n",
      "2\n",
      "3\n",
      "3\n",
      "4\n",
      "4\n",
      "5\n",
      "5\n",
      "6\n",
      "6\n",
      "7\n",
      "7\n",
      "8\n",
      "8\n",
      "9\n",
      "9\n",
      "0\n"
     ]
    }
   ],
   "source": [
    "n = 1 # 처음 조건 검사를 통과하기 위해 0 아닌 값을 임의로 저장\n",
    "while n != 0:\n",
    "    n = int(input())\n",
    "    if n !=0:\n",
    "        print(n)"
   ]
  },
  {
   "cell_type": "markdown",
   "id": "e638a120",
   "metadata": {},
   "source": [
    "### 풀이2"
   ]
  },
  {
   "cell_type": "code",
   "execution_count": 4,
   "id": "337fa769",
   "metadata": {},
   "outputs": [
    {
     "name": "stdout",
     "output_type": "stream",
     "text": [
      "1\n",
      "1\n",
      "2\n",
      "2\n",
      "3\n",
      "3\n",
      "4\n",
      "4\n",
      "5\n",
      "5\n",
      "6\n",
      "6\n",
      "0\n"
     ]
    }
   ],
   "source": [
    "while True:\n",
    "    a = int(input())\n",
    "    if a == 0:\n",
    "        break\n",
    "    print(a)"
   ]
  }
 ],
 "metadata": {
  "kernelspec": {
   "display_name": "Python 3",
   "language": "python",
   "name": "python3"
  },
  "language_info": {
   "codemirror_mode": {
    "name": "ipython",
    "version": 3
   },
   "file_extension": ".py",
   "mimetype": "text/x-python",
   "name": "python",
   "nbconvert_exporter": "python",
   "pygments_lexer": "ipython3",
   "version": "3.8.8"
  }
 },
 "nbformat": 4,
 "nbformat_minor": 5
}
