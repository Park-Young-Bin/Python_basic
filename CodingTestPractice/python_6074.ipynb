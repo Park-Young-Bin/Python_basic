{
 "cells": [
  {
   "cell_type": "markdown",
   "id": "db1daa75",
   "metadata": {},
   "source": [
    "# 6074번 [기초-반복실행구조] 문자 1개 입력받아 알파벳 출력하기(설명)(py)"
   ]
  },
  {
   "cell_type": "markdown",
   "id": "db90c193",
   "metadata": {},
   "source": [
    "## 문제\n",
    "\n",
    "영문 소문자(a ~ z) 1개가 입력되었을 때, a부터 그 문자까지의 알파벳을 순서대로 출력해보자.\n",
    "\n",
    "**참고**\n",
    "\n",
    "알파벳 문자 a의 정수값은 ord('a')로 알아낼 수 있다.\n",
    "\n",
    "chr(정수값)을 이용하면 유니코드 문자로 출력할 수 있다.\n",
    "\n",
    "print(..., end=' ') 와 같이 작성하면 값 출력 후 공백문자 ' '를 출력한다. 즉, 마지막에 줄을 바꾸지 않고 빈칸만 띄운다.\n",
    "\n",
    "(end='\\n'로 작성하거나 생략하면, 값을 출력한 후 마지막(end)에 줄바꿈(newline)이 된다.)"
   ]
  },
  {
   "cell_type": "markdown",
   "id": "741f438b",
   "metadata": {},
   "source": [
    "### ord() 함수\n",
    "ord(c)는 문자의 유니코드 값을 돌려주는 함수이다. chr() 함수와 서로 반대이다."
   ]
  },
  {
   "cell_type": "code",
   "execution_count": 1,
   "id": "7fd33b90",
   "metadata": {},
   "outputs": [
    {
     "data": {
      "text/plain": [
       "97"
      ]
     },
     "execution_count": 1,
     "metadata": {},
     "output_type": "execute_result"
    }
   ],
   "source": [
    "ord('a')"
   ]
  },
  {
   "cell_type": "code",
   "execution_count": 2,
   "id": "e4283cae",
   "metadata": {},
   "outputs": [
    {
     "data": {
      "text/plain": [
       "98"
      ]
     },
     "execution_count": 2,
     "metadata": {},
     "output_type": "execute_result"
    }
   ],
   "source": [
    "ord('b')"
   ]
  },
  {
   "cell_type": "code",
   "execution_count": 3,
   "id": "57b64adb",
   "metadata": {},
   "outputs": [
    {
     "data": {
      "text/plain": [
       "122"
      ]
     },
     "execution_count": 3,
     "metadata": {},
     "output_type": "execute_result"
    }
   ],
   "source": [
    "ord('z')"
   ]
  },
  {
   "cell_type": "markdown",
   "id": "8134f6a2",
   "metadata": {},
   "source": [
    "### chr() 함수\n",
    "chr() 함수는 유니코드(Unicode) 값을 입력받아 그 코드에 해당하는 문자를 출력하는 함수이다. ord() 함수와 서로 반대이다."
   ]
  },
  {
   "cell_type": "code",
   "execution_count": 9,
   "id": "d9055270",
   "metadata": {},
   "outputs": [
    {
     "data": {
      "text/plain": [
       "'a'"
      ]
     },
     "execution_count": 9,
     "metadata": {},
     "output_type": "execute_result"
    }
   ],
   "source": [
    "chr(97)"
   ]
  },
  {
   "cell_type": "code",
   "execution_count": 7,
   "id": "320280c1",
   "metadata": {},
   "outputs": [
    {
     "data": {
      "text/plain": [
       "'d'"
      ]
     },
     "execution_count": 7,
     "metadata": {},
     "output_type": "execute_result"
    }
   ],
   "source": [
    "chr(100)"
   ]
  },
  {
   "cell_type": "code",
   "execution_count": 6,
   "id": "53ccce40",
   "metadata": {},
   "outputs": [
    {
     "data": {
      "text/plain": [
       "'z'"
      ]
     },
     "execution_count": 6,
     "metadata": {},
     "output_type": "execute_result"
    }
   ],
   "source": [
    "chr(122)"
   ]
  },
  {
   "cell_type": "code",
   "execution_count": 5,
   "id": "a8d8b883",
   "metadata": {},
   "outputs": [
    {
     "name": "stdout",
     "output_type": "stream",
     "text": [
      "f\n",
      "a b c d e f "
     ]
    }
   ],
   "source": [
    "text1 = ord(input()) # 입력한 문자를 유니코드 값으로 반환\n",
    "text2 = ord('a') # 'a'의 유니코드 값을 출력 (97)\n",
    "\n",
    "while text2 <= text1:# 97 <= 입력한 문자의 유니코드 값 (참 조건)\n",
    "    # text2 <= text1일 때까지 반복한다.\n",
    "    # text2 > text1이면 거짓이므로 반복문 종료\n",
    "    print(chr(text2), end= ' ') # a를 출력하고 공백 문자를 입력\n",
    "    text2 += 1 # 98, 99, 100, ..."
   ]
  },
  {
   "cell_type": "code",
   "execution_count": 10,
   "id": "8521be4b",
   "metadata": {},
   "outputs": [
    {
     "name": "stdout",
     "output_type": "stream",
     "text": [
      "h\n",
      "a b c d e f g h "
     ]
    }
   ],
   "source": [
    "text1 = ord(input())\n",
    "text2 = ord('a')\n",
    "\n",
    "while text2 <= text1:\n",
    "    print(chr(text2), end= ' ')\n",
    "    text2 += 1"
   ]
  },
  {
   "cell_type": "code",
   "execution_count": 11,
   "id": "e584e7e5",
   "metadata": {},
   "outputs": [
    {
     "name": "stdout",
     "output_type": "stream",
     "text": [
      "z\n",
      "a b c d e f g h i j k l m n o p q r s t u v w x y z "
     ]
    }
   ],
   "source": [
    "text1 = ord(input())\n",
    "text2 = ord('a')\n",
    "\n",
    "while text2 <= text1:\n",
    "    print(chr(text2), end= ' ')\n",
    "    text2 += 1"
   ]
  }
 ],
 "metadata": {
  "kernelspec": {
   "display_name": "Python 3",
   "language": "python",
   "name": "python3"
  },
  "language_info": {
   "codemirror_mode": {
    "name": "ipython",
    "version": 3
   },
   "file_extension": ".py",
   "mimetype": "text/x-python",
   "name": "python",
   "nbconvert_exporter": "python",
   "pygments_lexer": "ipython3",
   "version": "3.8.8"
  }
 },
 "nbformat": 4,
 "nbformat_minor": 5
}
