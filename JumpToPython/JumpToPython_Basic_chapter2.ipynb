{
 "cells": [
  {
   "cell_type": "markdown",
   "metadata": {},
   "source": [
    "## 3. 프로그래밍의 구조를 쌓는다! 제어문\n",
    "### 3-1 if 문\n",
    "#### 프로그래밍에서 조건을 판단하여 해당 조건에 맞는 상황을 수행하는데 사용한다."
   ]
  },
  {
   "cell_type": "markdown",
   "metadata": {},
   "source": [
    "#### (1) 조건문이란 무엇인가?"
   ]
  },
  {
   "cell_type": "code",
   "execution_count": null,
   "metadata": {},
   "outputs": [],
   "source": [
    "# 돈이 있으면 택시를 타고, 돈이 없으면 걸어 간다.\n",
    "\n",
    "money = True\n",
    "if money:\n",
    "    print('택시를 탄다')\n",
    "else:\n",
    "    print('걸어 간다')\n",
    "    \n",
    "# money는 True이기 때문에 조건이 참이 되어 if문 다음 문장을 수행한다.\n",
    "# 조건문 다음에 콜론(:)을 잊지 않는다."
   ]
  },
  {
   "cell_type": "code",
   "execution_count": null,
   "metadata": {},
   "outputs": [],
   "source": [
    "# 만약 3000원 이상의 돈을 가지고 있으면 택시를 타고 그렇지 않으면 걸어 간다.\n",
    "\n",
    "money = 2000\n",
    "if money >= 3000:\n",
    "    print('택시를 탄다')\n",
    "else:\n",
    "    print('걸어 간다')\n",
    "    \n",
    "# 조건이 거짓이므로 else문 다음 문장을 수행한다."
   ]
  },
  {
   "cell_type": "code",
   "execution_count": null,
   "metadata": {},
   "outputs": [],
   "source": [
    "# 돈이 3000원 이상 있거나 카드가 있다면 택시를 타고 그렇지 않으면 걸어 가라.\n",
    "\n",
    "money = 2000\n",
    "card = True\n",
    "if money >= 3000 or card:\n",
    "    print('택시를 탄다')\n",
    "else:\n",
    "    print('걸어 간다')\n",
    "\n",
    "# money는 2000이지만 card가 True이기 때문에 조건문이 참이 된다. 따라서 '택시를 탄다' 문장이 출력된다."
   ]
  },
  {
   "cell_type": "code",
   "execution_count": null,
   "metadata": {},
   "outputs": [],
   "source": [
    "# [in 연산자 이용]\n",
    "# 1) 만약 주머니에 돈이 있으면 택시를 타고, 없으면 걸어 가라.\n",
    "\n",
    "pocket = ['paper', 'money', 'cellphone']\n",
    "if 'money' in pocket:\n",
    "    print('택시를 타라')\n",
    "else:\n",
    "    print('걸어 가라')\n",
    "\n",
    "# pocket 안에 money가 있으므로 조건은 참이 된다.\n",
    "\n",
    "# 2) 주머니에 카드가 없다면 걸어가고, 있다면 버스를 타고 가라.\n",
    "\n",
    "pocket = ['paper', 'money', 'cellphone']\n",
    "if 'card' not in pocket:\n",
    "     print('걸어 가라')\n",
    "else:\n",
    "    print('버스를 타라')"
   ]
  },
  {
   "cell_type": "code",
   "execution_count": null,
   "metadata": {},
   "outputs": [],
   "source": [
    "# + 조건문에서 아무 일도 하지 않게 설정하고 싶다면?\n",
    "\n",
    "# 주머니에 돈이 있으면 가만히 있고, 주머니에 돈이 없으면 카드를 꺼내라.\n",
    "\n",
    "pocket = ['paper', 'money', 'cellphone']\n",
    "if 'money' in pocket:\n",
    "    pass\n",
    "else:\n",
    "    print('카드를 꺼내라')\n",
    "\n",
    "# pocket 리스트 안에 money 문자열이 있기 때문에 if문 다음 문장인 pass가 수행되고 아무 결괏값도 보여 주지 않는다."
   ]
  },
  {
   "cell_type": "markdown",
   "metadata": {},
   "source": [
    "#### (2) 다양한 조건을 판단하는 elif"
   ]
  },
  {
   "cell_type": "code",
   "execution_count": null,
   "metadata": {},
   "outputs": [],
   "source": [
    "# 주머니에 돈이 있으면 택시를 타고, 주머니에 돈은 없지만 카드가 있으면 택시를 타고, 돈도 없고 카드도 없으면 걸어 가라.\n",
    "\n",
    "pocket = ['paper', 'cellphone']\n",
    "card = True\n",
    "if 'money' in pocket:       # 주머니에 돈이 있으면\n",
    "    print('택시를 타라')\n",
    "elif card:                  # 주머니에 돈이 없고 카드가 있으면\n",
    "    print('택시를 타라')\n",
    "else:                       # 주머니에 돈도 없고 카드도 없으면\n",
    "    print('걸어 가라')"
   ]
  },
  {
   "cell_type": "code",
   "execution_count": null,
   "metadata": {},
   "outputs": [],
   "source": [
    "# if문 한 줄로 작성하기\n",
    "# 주머니에 돈이 있으면 가만히 있고, 없으면 카드를 꺼내라.\n",
    "\n",
    "pocket = ['paper', 'money', 'cellphone']\n",
    "if 'money' in pocket: pass\n",
    "else: print('카드를 꺼내라')\n",
    "    \n",
    "# if문 다음 수행할 문장을 콜론(:) 뒤에 바로 적어 주었다. else문 역시 마찬가지이다."
   ]
  },
  {
   "cell_type": "markdown",
   "metadata": {},
   "source": [
    "#### (3) 조건부 표현식"
   ]
  },
  {
   "cell_type": "code",
   "execution_count": null,
   "metadata": {},
   "outputs": [],
   "source": [
    "# score가 60점 이상이면 'success', 아니면 'failure'\n",
    "\n",
    "score = 90\n",
    "if score >= 60:\n",
    "    message = 'success'\n",
    "else:\n",
    "    message = 'failure'\n",
    "print(message)\n",
    "\n",
    "# 파이썬의 조건부 표현식을 사용하면 위 코드를 다음과 같이 간단히 표현할 수 있다.\n",
    "# 조건부 표현식은 다음과 같이 정의한다."
   ]
  },
  {
   "cell_type": "markdown",
   "metadata": {},
   "source": [
    "#### 조건문이 참인 경우 if 조건문 else 조건문이 거짓인 경우"
   ]
  },
  {
   "cell_type": "code",
   "execution_count": null,
   "metadata": {},
   "outputs": [],
   "source": [
    "score = 90\n",
    "message = 'success' if score >= 60 else 'failure'\n",
    "print(message)"
   ]
  },
  {
   "cell_type": "markdown",
   "metadata": {},
   "source": [
    "### 3-2. while문\n",
    "#### 반복해서 문장을 수행해야 할 경우 while문을 사용한다. 그래서 while문을 반복문이라고도 부른다."
   ]
  },
  {
   "cell_type": "code",
   "execution_count": null,
   "metadata": {},
   "outputs": [],
   "source": [
    "# 열 번 찍어 안 넘어가는 나무 없다.\n",
    "\n",
    "treeHit = 0         # 나무를 찍은 횟수\n",
    "while treeHit < 10:    # 나무를 찍은 횟수가 10보다 작은 동안 반복(while의 조건이 true면 계속 반복)\n",
    "    treeHit = treeHit + 1      # 나무를 찍은 횟수 1씩 증가\n",
    "    print(\"나무를 %d번 찍었습니다.\" % treeHit)     # %s도 가능\n",
    "    if treeHit == 10:\n",
    "        print('나무가 넘어갑니다.')\n",
    "        \n",
    "# while문의 조건문은 treeHit < 10이다.\n",
    "# 즉 treeHit가 10보다 작은 동안에 while문 안의 문장을 계속 수행한다.\n",
    "# treeHit가 10이 되면 treeHit < 10 조건문이 거짓이 되므로 while문을 빠져나가게 된다."
   ]
  },
  {
   "cell_type": "markdown",
   "metadata": {},
   "source": [
    "#### (1) while문 만들기"
   ]
  },
  {
   "cell_type": "code",
   "execution_count": null,
   "metadata": {},
   "outputs": [],
   "source": [
    "coffee = 10    # 자판기에 커피가 10개 있다.\n",
    "money = 300    # 자판기에 넣을 돈은 300원이다.(0이 아니기에 항상 True)\n",
    "while money:\n",
    "    print('돈을 받았으니 커피를 줍니다.')\n",
    "    coffee = coffee - 1      # while문\n",
    "    print('남은 커피의 양은 %d개입니다.' % coffee)\n",
    "    if coffee == 0:\n",
    "        print('커피가 다 떨어졌습니다. 판매를 중지합니다.')\n",
    "        break\n",
    "        \n",
    "# coffee가 0이 되면 if coffee == 0: 문장에서 coffee == 0:이 참이 되므로 \n",
    "# if문 다음 문장 \"커피가 다 떨어졌습니다. 판매를 중지합니다.\"가 수행되고\n",
    "# break문이 호출되어 while문을 빠져나가게 된다."
   ]
  },
  {
   "cell_type": "code",
   "execution_count": null,
   "metadata": {},
   "outputs": [],
   "source": [
    "# 실제 자판기의 작동 과정 예시\n",
    "\n",
    "coffee = 10\n",
    "while True:\n",
    "    money = int(input('돈을 넣어 주세요: '))\n",
    "    if money == 300:\n",
    "        print('커피를 줍니다.')\n",
    "        coffee = coffee - 1\n",
    "    elif money > 300:\n",
    "        print('거스름돈 %d를 주고 커피를 줍니다.' % (money - 300))\n",
    "        coffee = coffee - 1\n",
    "    else:\n",
    "        print('돈을 다시 돌려주고 커피를 주지 않습니다.')\n",
    "        print('남은 커피의 양은 %d개입니다.' % coffee)\n",
    "    if coffee == 0:\n",
    "        print('커피가 다 떨어졌습니다. 판매를 중지합니다.')\n",
    "        break"
   ]
  },
  {
   "cell_type": "markdown",
   "metadata": {},
   "source": [
    "#### (2) while문의 맨 처음으로 돌아가기\n",
    "#### continue: while문 안 쪽의 문장을 쭉 수행하다가 continue을 만나면 다시 while문의 맨 처음으로 돌아간다. \n",
    "#### continue는 while문을 빠져나가지 않고 while문의 맨 처음(조건문)으로 다시 돌아가게 만들고 싶을 때 사용한다."
   ]
  },
  {
   "cell_type": "code",
   "execution_count": null,
   "metadata": {},
   "outputs": [],
   "source": [
    "a = 0\n",
    "while a < 10:\n",
    "    a = a + 1\n",
    "    if a % 2 == 0:\n",
    "        continue\n",
    "    print(a)\n",
    "    \n",
    "# 위의 예시는 홀수만 출력하는 예이다."
   ]
  },
  {
   "cell_type": "code",
   "execution_count": null,
   "metadata": {},
   "outputs": [],
   "source": [
    "# 1부터 10까지의 숫자 중에서 3의 배수를 뺀 나머지 값을 출력하시오.\n",
    "\n",
    "a = 0\n",
    "while a < 10:\n",
    "    a = a + 1\n",
    "    if a % 3 == 0:\n",
    "        continue\n",
    "    print(a)"
   ]
  },
  {
   "cell_type": "markdown",
   "metadata": {},
   "source": [
    "#### (3) 무한 루프\n",
    "#### 무한 루프란 무한히 반복한다는 의미이다."
   ]
  },
  {
   "cell_type": "code",
   "execution_count": null,
   "metadata": {},
   "outputs": [],
   "source": [
    "while True:\n",
    "    print('안녕하세요')\n",
    "    \n",
    "# 주피터 노트북에서는 정지 버튼을 누르지만 다른 프로그램에서는 ctrl + c를 눌러서 빠져나갈 수 있다."
   ]
  },
  {
   "cell_type": "markdown",
   "metadata": {},
   "source": [
    "### 3-3. for문"
   ]
  },
  {
   "cell_type": "markdown",
   "metadata": {},
   "source": [
    "#### (1) for문의 기본 구조"
   ]
  },
  {
   "cell_type": "code",
   "execution_count": null,
   "metadata": {},
   "outputs": [],
   "source": [
    "# 1) 전형적인 for문\n",
    "test_list = ['one', 'two', 'three']\n",
    "for i in test_list:\n",
    "    print(i)\n",
    "    \n",
    "# one, two, three를 순서대로 i에 대입한다.\n",
    "\n",
    "# 2) 다양한 for문의 사용\n",
    "a = [(1,2), (3,4), (5,6)]\n",
    "for (first, last) in a:\n",
    "    print(first + last)\n",
    "    \n",
    "# a 리스트의 요솟값이 튜플이기 때문에 각각의 요소가 자동으로 (first, last) 변수에 대입된다."
   ]
  },
  {
   "cell_type": "code",
   "execution_count": null,
   "metadata": {},
   "outputs": [],
   "source": [
    "# 3) for문의 응용\n",
    "# 시험 점수가 60점 이상이면 합격이고 그렇지 않으면 불합격이다. 합격인지 불합격인지 결과를 보여 주시오.\n",
    "\n",
    "marks = [90, 25, 67, 45, 80]      # 학생들의 시험 점수 리스트\n",
    "number = 0         # 학생들에게 붙여 줄 번호\n",
    "for i in marks:    # 시험 점수를 순서대로 i에 대입\n",
    "    number = number + 1\n",
    "    if i >= 60:\n",
    "        print('%d번째 학생은 합격입니다.' % number)\n",
    "    else:\n",
    "        print('%d번째 학생은 불합격입니다.' % number)\n"
   ]
  },
  {
   "cell_type": "markdown",
   "metadata": {},
   "source": [
    "#### (2) for문과 continue문"
   ]
  },
  {
   "cell_type": "code",
   "execution_count": null,
   "metadata": {},
   "outputs": [],
   "source": [
    "# 60점 이상인 사람에게는 축하 메시지를 보내고 나머지 사람에게는 아무 메시지도 전하지 않는다.\n",
    "\n",
    "marks = [90, 25, 67, 45, 80]\n",
    "number = 0\n",
    "for i in marks:\n",
    "    number = number + 1\n",
    "    if i < 60: continue\n",
    "    print('%d번 학생 축하합니다. 합격입니다' % number)"
   ]
  },
  {
   "cell_type": "markdown",
   "metadata": {},
   "source": [
    "#### (3) for문과 함께 자주 사용하는 range 함수 (자주 사용)"
   ]
  },
  {
   "cell_type": "code",
   "execution_count": null,
   "metadata": {},
   "outputs": [],
   "source": [
    "# for문은 숫자 리스트를 자동으로 만들어주는 range 함수와 함께 사용한다.\n",
    "a = range(10)\n",
    "print(a)\n",
    "\n",
    "# range(10)은 0부터 10 미만의 숫자를 포함하는 range 객체를 만든다.\n",
    "\n",
    "a = range(1,11)\n",
    "print(a)\n",
    "\n",
    "# 시작 숫자와 끝 숫자를 지정하려면 range(시작 숫자, 끝 숫자)형태를 사용하는데, 이때 끝 숫자는 포함X"
   ]
  },
  {
   "cell_type": "code",
   "execution_count": null,
   "metadata": {},
   "outputs": [],
   "source": [
    "# 1) range 함수의 예시 살펴보기\n",
    "\n",
    "add = 0\n",
    "for i in range(1, 11):\n",
    "    add = add + i\n",
    "print(add)\n",
    "\n",
    "# i 변수에 리스트의 숫자가 1부터 10까지 하나씩 차례로 대입되면서 add = add + i 문장을 반복적으로 수행한다."
   ]
  },
  {
   "cell_type": "code",
   "execution_count": null,
   "metadata": {},
   "outputs": [],
   "source": [
    "marks = [90, 25, 67, 45, 80]\n",
    "for number in range(len(marks)):\n",
    "    if marks[number] < 60: continue       # 점수가 60점 미만이면 맨 처음으로 돌아간다.\n",
    "    print('%d번 학생 축하합니다. 합격입니다.' % (number + 1))\n",
    "    \n",
    "# len 함수: 리스트 안의 요소의 개수를 출력\n",
    "# len(marks)는 5가 되고 range(len(marks))는 range(5)가 된다.\n",
    "# number 변수에는 차례로 0부터 4까지의 숫자가 대입될 것이고, marks[number]는 차례로 90, 25, 67, 45, 80 값을 같게 된다."
   ]
  },
  {
   "cell_type": "code",
   "execution_count": null,
   "metadata": {},
   "outputs": [],
   "source": [
    "# for문과 range 함수를 사용하여 1부터 100까지 더해 보자.\n",
    "\n",
    "number = 0\n",
    "for i in range(1, 101):\n",
    "    number = number + i\n",
    "print(number)"
   ]
  },
  {
   "cell_type": "code",
   "execution_count": null,
   "metadata": {},
   "outputs": [],
   "source": [
    "# 2) for와 range를 사용한 구구단(들여쓰기 주의)\n",
    "\n",
    "for i in range(2, 10):         # 바깥쪽 for문\n",
    "    for j in range(1, 10):     # 안쪽 for문\n",
    "        print(i*j, end =\" \")   # 다음 줄로 넘어가지 않고 띄어쓰기(print 함수의 옵션 중 하나)\n",
    "    print('')\n",
    "    \n",
    "# 안쪽 for문이 다 끝나야 바깥쪽 for문으로 돌아온다.\n",
    "# print('')는 2단, 3단 등을 구분하기 위해 두 번째 for문이 끝나면 결괏값을 다음 줄부터 줄력하게 해주는 문장이다."
   ]
  },
  {
   "cell_type": "markdown",
   "metadata": {},
   "source": [
    "#### (4) 리스트 내포 사용하기"
   ]
  },
  {
   "cell_type": "code",
   "execution_count": null,
   "metadata": {},
   "outputs": [],
   "source": [
    "# a 리스트의 각 항목에 3을 곱한 결과를 result 리스트에 담아라.\n",
    "\n",
    "a = [1,2,3,4]\n",
    "result = []\n",
    "for num in a:\n",
    "    result.append(num*3)\n",
    "print(result)\n",
    "\n",
    "#  이것을 리스트 내포를 사용하면 아래와 같이 간단히 해결할 수 있다.\n",
    "\n",
    "a = [1,2,3,4]\n",
    "result = [num * 3 for num in a]\n",
    "print(result)"
   ]
  },
  {
   "cell_type": "code",
   "execution_count": null,
   "metadata": {},
   "outputs": [],
   "source": [
    "# a 리스트에서 짝수에만 3을 곱해 담아라(리스트 내포 사용)\n",
    "\n",
    "a = [1,2,3,4]\n",
    "result = [num * 3 for num in a if num % 2 == 0]\n",
    "print(result)"
   ]
  },
  {
   "cell_type": "markdown",
   "metadata": {},
   "source": [
    "### 연습문제(p.146~148)"
   ]
  },
  {
   "cell_type": "code",
   "execution_count": null,
   "metadata": {},
   "outputs": [],
   "source": [
    "# (1)\n",
    "\n",
    "a = \"Life is too shor, you need python\"\n",
    "\n",
    "if 'wife' in a: print('wife')\n",
    "elif 'python' in a and 'you' not in a: print('python')\n",
    "elif 'shirt' not in a: print('shirt')\n",
    "elif 'need' in a: print('need')\n",
    "else: print('none')"
   ]
  },
  {
   "cell_type": "code",
   "execution_count": 2,
   "metadata": {},
   "outputs": [
    {
     "name": "stdout",
     "output_type": "stream",
     "text": [
      "166833\n"
     ]
    }
   ],
   "source": [
    "# (2) while 문을 사용해서 1부터 100까지의 자연수 중 3의 배수의 합을 구하자.\n",
    "\n",
    "result = 0\n",
    "i = 1\n",
    "while i <= 1000:\n",
    "    if i % 3 == 0:\n",
    "        result = result + i\n",
    "    i = i + 1\n",
    "print(result)"
   ]
  },
  {
   "cell_type": "code",
   "execution_count": 4,
   "metadata": {},
   "outputs": [
    {
     "name": "stdout",
     "output_type": "stream",
     "text": [
      "*\n",
      "**\n",
      "***\n",
      "****\n",
      "*****\n"
     ]
    }
   ],
   "source": [
    "# (3)\n",
    "\n",
    "i = 0\n",
    "while True:\n",
    "    i += 1\n",
    "    if i > 5: break\n",
    "    print('*'*i)"
   ]
  },
  {
   "cell_type": "code",
   "execution_count": 5,
   "metadata": {
    "collapsed": true
   },
   "outputs": [
    {
     "name": "stdout",
     "output_type": "stream",
     "text": [
      "1\n",
      "2\n",
      "3\n",
      "4\n",
      "5\n",
      "6\n",
      "7\n",
      "8\n",
      "9\n",
      "10\n",
      "11\n",
      "12\n",
      "13\n",
      "14\n",
      "15\n",
      "16\n",
      "17\n",
      "18\n",
      "19\n",
      "20\n",
      "21\n",
      "22\n",
      "23\n",
      "24\n",
      "25\n",
      "26\n",
      "27\n",
      "28\n",
      "29\n",
      "30\n",
      "31\n",
      "32\n",
      "33\n",
      "34\n",
      "35\n",
      "36\n",
      "37\n",
      "38\n",
      "39\n",
      "40\n",
      "41\n",
      "42\n",
      "43\n",
      "44\n",
      "45\n",
      "46\n",
      "47\n",
      "48\n",
      "49\n",
      "50\n",
      "51\n",
      "52\n",
      "53\n",
      "54\n",
      "55\n",
      "56\n",
      "57\n",
      "58\n",
      "59\n",
      "60\n",
      "61\n",
      "62\n",
      "63\n",
      "64\n",
      "65\n",
      "66\n",
      "67\n",
      "68\n",
      "69\n",
      "70\n",
      "71\n",
      "72\n",
      "73\n",
      "74\n",
      "75\n",
      "76\n",
      "77\n",
      "78\n",
      "79\n",
      "80\n",
      "81\n",
      "82\n",
      "83\n",
      "84\n",
      "85\n",
      "86\n",
      "87\n",
      "88\n",
      "89\n",
      "90\n",
      "91\n",
      "92\n",
      "93\n",
      "94\n",
      "95\n",
      "96\n",
      "97\n",
      "98\n",
      "99\n",
      "100\n"
     ]
    }
   ],
   "source": [
    "# (4)\n",
    "\n",
    "for i in range(1, 101):\n",
    "    print(i)"
   ]
  },
  {
   "cell_type": "code",
   "execution_count": 11,
   "metadata": {},
   "outputs": [
    {
     "name": "stdout",
     "output_type": "stream",
     "text": [
      "79.0\n"
     ]
    }
   ],
   "source": [
    "# (5) for문을 이용해서 a 학급의 평균 점수를 구하라.\n",
    "\n",
    "a = [70, 60, 55, 75, 95, 90, 80, 80, 85, 100]\n",
    "tot = 0\n",
    "\n",
    "for score in a:\n",
    "    tot = tot + score\n",
    "average = tot/len(a)\n",
    "print(average)"
   ]
  },
  {
   "cell_type": "code",
   "execution_count": 17,
   "metadata": {},
   "outputs": [
    {
     "name": "stdout",
     "output_type": "stream",
     "text": [
      "[2, 6, 10]\n",
      "[2, 6, 10]\n"
     ]
    }
   ],
   "source": [
    "# (6)\n",
    "\n",
    "numbers=[1,2,3,4,5]\n",
    "\n",
    "result = []\n",
    "for n in numbers:\n",
    "    if n % 2 == 1:\n",
    "        result.append(n*2)\n",
    "print(result)\n",
    "\n",
    "result = [n*2 for n in numbers if n % 2 == 1]\n",
    "print(result)"
   ]
  },
  {
   "cell_type": "code",
   "execution_count": null,
   "metadata": {},
   "outputs": [],
   "source": []
  }
 ],
 "metadata": {
  "kernelspec": {
   "display_name": "Python 3",
   "language": "python",
   "name": "python3"
  },
  "language_info": {
   "codemirror_mode": {
    "name": "ipython",
    "version": 3
   },
   "file_extension": ".py",
   "mimetype": "text/x-python",
   "name": "python",
   "nbconvert_exporter": "python",
   "pygments_lexer": "ipython3",
   "version": "3.8.5"
  }
 },
 "nbformat": 4,
 "nbformat_minor": 4
}
