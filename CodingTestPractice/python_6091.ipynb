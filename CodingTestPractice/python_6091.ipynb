{
 "cells": [
  {
   "cell_type": "markdown",
   "id": "58753980",
   "metadata": {},
   "source": [
    "# 6091번 [기초-종합] 함께 문제 푸는 날(설명)(py)"
   ]
  },
  {
   "cell_type": "markdown",
   "id": "5b9933b3",
   "metadata": {},
   "source": [
    "온라인 채점시스템에는 초등학생, 중고등학생, 대학생, 대학원생,\n",
    "\n",
    "일반인, 군인, 프로그래머, 탑코더 등 아주 많은 사람들이 들어와 문제를 풀고 있는데,\n",
    "\n",
    "실시간 채점 정보는 메뉴의 채점기록(Judge Status)을 통해 살펴볼 수 있다.\n",
    "\n",
    "자! 여기서...잠깐..\n",
    "\n",
    "같은 날 동시에 가입한 3명의 사람들이 온라인 채점시스템에 들어와 문제를 푸는 날짜가\n",
    "\n",
    "매우 규칙적이라고 할 때, 다시 모두 함께 문제를 풀게 되는 그날은 언제일까?\n",
    "\n",
    "예를 들어 3명이 같은 날 가입/등업하고, 각각 3일마다, 7일마다, 9일마다\n",
    "\n",
    "한 번씩 들어온다면, 처음 가입하고 63일 만에 다시 3명이 함께 문제를 풀게 된다.\n",
    "\n",
    "\n",
    "아래의 코드를 읽고 이해한 후 도전해 보자.\n",
    "\n",
    "day는 날 수, a/b/c는 방문 주기이다.\n",
    "\n",
    "...\n",
    "\n",
    "d = 1\n",
    "\n",
    "while d%a!=0 or d%b!=0 or d%c!=0 :\n",
    "\n",
    "  d += 1\n",
    "  \n",
    "print(d)\n",
    "\n",
    "...\n"
   ]
  },
  {
   "cell_type": "code",
   "execution_count": 1,
   "id": "c3b54070",
   "metadata": {},
   "outputs": [
    {
     "name": "stdout",
     "output_type": "stream",
     "text": [
      "3 7 9\n",
      "63\n"
     ]
    }
   ],
   "source": [
    "a,b,c = map(int,input().split())\n",
    "d=1\n",
    "while d%a!=0 or d%b!=0 or d%c!=0:\n",
    "    d+=1\n",
    "print(d)"
   ]
  }
 ],
 "metadata": {
  "kernelspec": {
   "display_name": "Python 3",
   "language": "python",
   "name": "python3"
  },
  "language_info": {
   "codemirror_mode": {
    "name": "ipython",
    "version": 3
   },
   "file_extension": ".py",
   "mimetype": "text/x-python",
   "name": "python",
   "nbconvert_exporter": "python",
   "pygments_lexer": "ipython3",
   "version": "3.8.8"
  }
 },
 "nbformat": 4,
 "nbformat_minor": 5
}
