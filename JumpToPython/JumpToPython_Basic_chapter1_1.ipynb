{
 "cells": [
  {
   "cell_type": "markdown",
   "metadata": {},
   "source": [
    "## 2. 파이썬 프로그래밍 기초, 자료형\n",
    "### 2-1. 숫자형\n",
    "#### int: 정수형 >> 123, -123, 0\n",
    "#### float: 실수형 >> 123.54, -12.345"
   ]
  },
  {
   "cell_type": "code",
   "execution_count": 2,
   "metadata": {},
   "outputs": [
    {
     "name": "stdout",
     "output_type": "stream",
     "text": [
      "5\n",
      "9\n",
      "3\n",
      "3\n"
     ]
    }
   ],
   "source": [
    "a = 3\n",
    "b = 2\n",
    "print(a + b)\n",
    "print(a ** b)     # 제곱을 나타내는 연산자\n",
    "print(3 % 7)      # 나눗셈 후 나머지를 반환하는 연산자\n",
    "print(10 // 3)    # 나눗셈 후 몫을 반환하는 연산자"
   ]
  },
  {
   "cell_type": "markdown",
   "metadata": {},
   "source": [
    "### 2-2. 문자형 자료형"
   ]
  },
  {
   "cell_type": "code",
   "execution_count": 49,
   "metadata": {},
   "outputs": [
    {
     "name": "stdout",
     "output_type": "stream",
     "text": [
      "Life is too short, You need Python\n",
      "My name is LEE\n",
      "A\n",
      "123\n"
     ]
    }
   ],
   "source": [
    "a = \"Life is too short, You need Python\"\n",
    "b = '''My name is LEE'''\n",
    "c = 'A'\n",
    "d = \"\"\"123\"\"\"\n",
    "print(a)\n",
    "print(b)\n",
    "print(c)\n",
    "print(d)"
   ]
  },
  {
   "cell_type": "markdown",
   "metadata": {},
   "source": [
    "#### (1) 문자열 안에 작은따옴표나 큰따옴표를 포함시키고 싶을 때"
   ]
  },
  {
   "cell_type": "code",
   "execution_count": 56,
   "metadata": {},
   "outputs": [
    {
     "name": "stdout",
     "output_type": "stream",
     "text": [
      "Python's favorite food is perl\n",
      "\"Python is very easy.\" he says.\n"
     ]
    }
   ],
   "source": [
    "food = \"Python's favorite food is perl\"\n",
    "print(food)\n",
    "\n",
    "say = '\"Python is very easy.\" he says.'\n",
    "print(say)\n",
    "\n",
    "# 1) 오류 발생       \n",
    "# food = 'Python's favorite food is perl'\n",
    "# print(food)     # SyntaxError: invalid syntax >> 틀린 문법이다."
   ]
  },
  {
   "cell_type": "code",
   "execution_count": 25,
   "metadata": {},
   "outputs": [
    {
     "name": "stdout",
     "output_type": "stream",
     "text": [
      "Python's favorite food is peral\n",
      "\"Python is very easy.\" he says.\n"
     ]
    }
   ],
   "source": [
    "# 2) 백슬래시(\\)를 사용해서 작은따옴표(')와 큰따옴표(\")를 문자열에 포함시키기\n",
    "# 백슬래시(\\) 뒤의 작은따옴표나 큰따옴표는 문자열을 둘러싸는 의미가 아니라 문자('),(\") 그 자체를 의미한다.\n",
    "food = 'Python\\'s favorite food is peral'\n",
    "say = \"\\\"Python is very easy.\\\" he says.\"\n",
    "print(food)\n",
    "print(say)"
   ]
  },
  {
   "cell_type": "markdown",
   "metadata": {},
   "source": [
    "#### (2) 여러 줄인 문자열을 변수에 대입하고 싶을 때"
   ]
  },
  {
   "cell_type": "code",
   "execution_count": 23,
   "metadata": {},
   "outputs": [
    {
     "name": "stdout",
     "output_type": "stream",
     "text": [
      "Life is too short\n",
      "You need Python\n",
      "Life is too short\n",
      "You need python\n"
     ]
    }
   ],
   "source": [
    "# 1) '\\n' 코드 사용\n",
    "a = \"Life is too short\\nYou need Python\"\n",
    "print(a)\n",
    "\n",
    "# 2) 연속된 작은따옴표(') 3개 또는 큰따옴표(\") 3개 사용하기\n",
    "b = \"\"\"My name is LEE\n",
    "So I am happy\"\"\"\n",
    "print(b)"
   ]
  },
  {
   "cell_type": "markdown",
   "metadata": {},
   "source": [
    "#### (3) 문자열 연결하기"
   ]
  },
  {
   "cell_type": "code",
   "execution_count": 57,
   "metadata": {},
   "outputs": [
    {
     "name": "stdout",
     "output_type": "stream",
     "text": [
      "Python is fun!\n",
      "pythonpython\n",
      "17\n"
     ]
    }
   ],
   "source": [
    "# 1) 문자열 더해서 연결하기(Concatenation)\n",
    "head = 'Python'\n",
    "tail = \" is fun!\"\n",
    "print(head + tail)\n",
    "\n",
    "# 2) 문자열 곱하기\n",
    "a = \"python\"\n",
    "print(a * 2)\n",
    "\n",
    "# 3) 문자열 길이 구하기\n",
    "a = \"Life is too short\"\n",
    "print(len(a))           # 17(공백도 포함)"
   ]
  },
  {
   "cell_type": "markdown",
   "metadata": {},
   "source": [
    "#### (4) 문자열 인덱싱과 슬라이싱 (★파이썬은 0부터 숫자를 센다★)"
   ]
  },
  {
   "cell_type": "code",
   "execution_count": 26,
   "metadata": {},
   "outputs": [
    {
     "name": "stdout",
     "output_type": "stream",
     "text": [
      "f\n",
      "n\n"
     ]
    }
   ],
   "source": [
    "# 1) 인덱싱\n",
    "a = \"Life is too short, You nedd python\"\n",
    "print(a[2])\n",
    "print(a[-1]) # 맨 마지막 글자"
   ]
  },
  {
   "cell_type": "code",
   "execution_count": 27,
   "metadata": {},
   "outputs": [
    {
     "name": "stdout",
     "output_type": "stream",
     "text": [
      "Life\n",
      "Life if too short, You need Python\n",
      "e if too short, You need Python\n",
      "Life if to\n",
      "You need\n"
     ]
    }
   ],
   "source": [
    "# 2) 슬라이싱\n",
    "a = \"Life if too short, You need Python\"\n",
    "b = a[0:4] # 인덱스 0부터 4미만까지 출력함(0 ~ 3)\n",
    "c = a[:]\n",
    "d = a[3:]\n",
    "e = a[:10]\n",
    "f = a[19:-7] # a[19]에서 a[-8]까지를 말한다. a[-7]은 포함하지 않는다.\n",
    "print(b)\n",
    "print(c)\n",
    "print(d)\n",
    "print(e)\n",
    "print(f)"
   ]
  },
  {
   "cell_type": "code",
   "execution_count": 3,
   "metadata": {},
   "outputs": [
    {
     "name": "stdout",
     "output_type": "stream",
     "text": [
      "20010331\n",
      "Rainy\n",
      "12345678\n",
      "1357\n",
      "87654321\n",
      "8642\n"
     ]
    }
   ],
   "source": [
    "# 3) 슬라이싱으로 문자열 나누기(1)\n",
    "a = \"20010331Rainy\"\n",
    "date = a[:8]\n",
    "weather = a[8:]\n",
    "print(date)\n",
    "print(weather)\n",
    "\n",
    "# 4) 슬라이싱으로 문자열 나누기(2)\n",
    "a = '12345678'\n",
    "print(a[::1])      # [이상:미만:간격]\n",
    "print(a[::2])\n",
    "print(a[::-1])\n",
    "print(a[::-2])"
   ]
  },
  {
   "cell_type": "markdown",
   "metadata": {},
   "source": [
    "#### (5) 문자열 포매팅\n",
    "##### 포매팅 기법: 문자열 안의 특정한 값을 바꿔야할 경우가 있을 때 이것을 가능하게 해주는 것"
   ]
  },
  {
   "cell_type": "code",
   "execution_count": 8,
   "metadata": {},
   "outputs": [
    {
     "name": "stdout",
     "output_type": "stream",
     "text": [
      "I eat 3 apples.\n"
     ]
    }
   ],
   "source": [
    "# 1) 숫자 바로 대입\n",
    "print(\"I eat %d apples.\" %3)\n",
    "\n",
    "# 문자열 안에 정수 3을 삽입하는 방법이다.\n",
    "# 문자열 안에서 숫자를 넣고 싶은 자리에 %d 문자를 넣어 주고, 삽입할 숫자 3은 가장 뒤에 있는 % 문자 다음에 써준다.\n",
    "# 여기에서 '%d'는 '문자열 포맷 코드'라고 부른다."
   ]
  },
  {
   "cell_type": "code",
   "execution_count": 5,
   "metadata": {},
   "outputs": [
    {
     "name": "stdout",
     "output_type": "stream",
     "text": [
      "I eat five apples.\n"
     ]
    }
   ],
   "source": [
    "# 2) 문자열 바로 대입\n",
    "print(\"I eat %s apples.\" % 'five')\n",
    "\n",
    "# 숫자를 넣기 위해서는 %d가 아닌 %s를 이용한다."
   ]
  },
  {
   "cell_type": "code",
   "execution_count": 6,
   "metadata": {
    "scrolled": true
   },
   "outputs": [
    {
     "name": "stdout",
     "output_type": "stream",
     "text": [
      "I eat 3 apples.\n"
     ]
    }
   ],
   "source": [
    "# 3) 숫자 값을 나타내는 변수로 대입\n",
    "number = 3\n",
    "print(\"I eat %d apples.\" %number)"
   ]
  },
  {
   "cell_type": "code",
   "execution_count": 9,
   "metadata": {},
   "outputs": [
    {
     "name": "stdout",
     "output_type": "stream",
     "text": [
      "I ate 10 apples. so I was sick for three days.\n"
     ]
    }
   ],
   "source": [
    "# 4) 두 개 이상의 값 넣기\n",
    "number = 10\n",
    "day = \"three\"\n",
    "print(\"I ate %d apples. so I was sick for %s days.\" % (number, day))\n",
    "\n",
    "# 2개 이상의 값을 넣으려면 마지막 % 다음 괄호 안에 콤마(,)로 구분하여 각각의 값을 넣어준다."
   ]
  },
  {
   "cell_type": "markdown",
   "metadata": {},
   "source": [
    "##### ※ 참고로 문자열 포맷 코드는 %s가 만능이다. 어떤 형태의 값이든 변환해서 넣을 수 있다.\n",
    "##### 예를 들어, 숫자를 대입할 때 '%d'말고 '%s'를 사용할 수 있다."
   ]
  },
  {
   "cell_type": "code",
   "execution_count": 11,
   "metadata": {},
   "outputs": [
    {
     "name": "stdout",
     "output_type": "stream",
     "text": [
      "I have 3 apples\n",
      "rate is 3.24\n"
     ]
    }
   ],
   "source": [
    "print(\"I have %s apples\" %3)\n",
    "print(\"rate is %s\" %3.24)"
   ]
  },
  {
   "cell_type": "code",
   "execution_count": 59,
   "metadata": {},
   "outputs": [
    {
     "name": "stdout",
     "output_type": "stream",
     "text": [
      "Error is 98%\n"
     ]
    }
   ],
   "source": [
    "# 퍼센트(%) 기호는 어떻게 나타낼까?\n",
    "# print(\"Error is %d%\" %98)     >> 오류 발생    # ValueError: incomplete format\n",
    "# 올바른 방법:\n",
    "print(\"Error is %d%%\" % 98)"
   ]
  },
  {
   "cell_type": "code",
   "execution_count": 19,
   "metadata": {},
   "outputs": [
    {
     "name": "stdout",
     "output_type": "stream",
     "text": [
      "        hi\n",
      "hi        jane\n",
      "3.2413\n",
      "    3.4213\n"
     ]
    }
   ],
   "source": [
    "# 5) 포맷 코드와 숫자 함께 사용하기\n",
    "# 1. 정렬과 공백\n",
    "print(\"%10s\" % \"hi\")\n",
    "\n",
    "# 2. 왼쪽 정렬과 공백\n",
    "print(\"%-10sjane\" % 'hi')\n",
    "\n",
    "# 3. 소수점 표현하기\n",
    "print(\"%0.4f\" % 3.24134234)\n",
    "print(\"%10.4f\" % 3.42134234)\n",
    "\n",
    "# '.'의 의미는 소수점 포인트를 나타내고 그 뒤의 숫자 4는 소수점 뒤에 나올 숫자의 개수를 의미한다.\n",
    "# 맨 아래의 예는 소수점 네 번째 자리만 표시하고 전체 길이가 10개인 문자열 공간에서 오른쪽으로 정렬하는 예를 보여준다."
   ]
  },
  {
   "cell_type": "code",
   "execution_count": 30,
   "metadata": {},
   "outputs": [
    {
     "name": "stdout",
     "output_type": "stream",
     "text": [
      "I eat 3 apples.\n",
      "I eat five apples.\n",
      "I eat 5 apples.\n",
      "I ate 10 apples. so I was sick for four days.\n",
      "I ate 8 apples. so I was sick for 3 days.\n",
      "I ate 6 apples. so I was sick for 2 days.\n"
     ]
    }
   ],
   "source": [
    "# 6) format 함수를 사용한 포매팅\n",
    "# 문자열의 format 함수를 사용하면 좀 더 발전된 스타일로 문자열 포맷을 지정할 수 있다.\n",
    "# 앞에 살펴본 예제를 format 함수를 사용해서 바꾸면 다음과 같다.\n",
    "# 1. 인덱스 이용\n",
    "print(\"I eat {0} apples.\".format(3))\n",
    "print(\"I eat {0} apples.\".format('five'))\n",
    "number = 5\n",
    "print(\"I eat {0} apples.\".format(number))\n",
    "number = 10\n",
    "day = \"four\"\n",
    "print(\"I ate {0} apples. so I was sick for {1} days.\".format(number, day))\n",
    "\n",
    "# 2개 이상의 값을 넣을 경우 문자열의 {0}, {1}과 같은 인덱스 항목이 format 함수의 입력값으로 순서에 맞게 바뀐다.\n",
    "# 즉, 위에서 {0}은 format 함수의 첫 번째 입력값으로, {1}은 format 함수의 두 번째 입력값으로 바뀐다.\n",
    "\n",
    "# 2. 이름 이용\n",
    "print(\"I ate {number} apples. so I was sick for {day} days.\".format(number=8, day=3))\n",
    "\n",
    "# 3. 인덱스와 이름 혼용\n",
    "print(\"I ate {0} apples. so I was sick for {day} days.\".format(6, day=2))"
   ]
  },
  {
   "cell_type": "code",
   "execution_count": 33,
   "metadata": {},
   "outputs": [
    {
     "name": "stdout",
     "output_type": "stream",
     "text": [
      "나의 이름은 홍길동입니다. 나이는 24입니다.\n",
      "나는 내년이면 25살이 된다.\n"
     ]
    }
   ],
   "source": [
    "# 7) f 문자열 포맷팅\n",
    "# 문자열 앞에 f접두사를 붙이면 f문자열 포맷팅 기능을 사용할 수 있다.\n",
    "name = '홍길동'\n",
    "age = 24\n",
    "print(f'나의 이름은 {name}입니다. 나이는 {age}입니다.')\n",
    "print(f'나는 내년이면 {age+1}살이 된다.')"
   ]
  },
  {
   "cell_type": "markdown",
   "metadata": {},
   "source": [
    "#### (6) ★문자열 관련 함수★"
   ]
  },
  {
   "cell_type": "code",
   "execution_count": 36,
   "metadata": {},
   "outputs": [
    {
     "name": "stdout",
     "output_type": "stream",
     "text": [
      "2\n",
      "0\n"
     ]
    }
   ],
   "source": [
    "# 1) 문자 개수 세기(count)\n",
    "a = \"hobby\"\n",
    "print(a.count('b'))\n",
    "print(a.count('x'))\n",
    "\n",
    "# 없는 문자열인 경우 0 반환"
   ]
  },
  {
   "cell_type": "code",
   "execution_count": 63,
   "metadata": {},
   "outputs": [
    {
     "name": "stdout",
     "output_type": "stream",
     "text": [
      "14\n",
      "-1\n",
      "1\n",
      "2\n"
     ]
    },
    {
     "ename": "ValueError",
     "evalue": "substring not found",
     "output_type": "error",
     "traceback": [
      "\u001b[1;31m---------------------------------------------------------------------------\u001b[0m",
      "\u001b[1;31mValueError\u001b[0m                                Traceback (most recent call last)",
      "\u001b[1;32m<ipython-input-63-32e71981222f>\u001b[0m in \u001b[0;36m<module>\u001b[1;34m\u001b[0m\n\u001b[0;32m      9\u001b[0m \u001b[1;33m\u001b[0m\u001b[0m\n\u001b[0;32m     10\u001b[0m \u001b[1;31m# 없는 문자열인 경우 오류 발생\u001b[0m\u001b[1;33m\u001b[0m\u001b[1;33m\u001b[0m\u001b[1;33m\u001b[0m\u001b[0m\n\u001b[1;32m---> 11\u001b[1;33m \u001b[0mprint\u001b[0m\u001b[1;33m(\u001b[0m\u001b[0ma\u001b[0m\u001b[1;33m.\u001b[0m\u001b[0mindex\u001b[0m\u001b[1;33m(\u001b[0m\u001b[1;34m'p'\u001b[0m\u001b[1;33m)\u001b[0m\u001b[1;33m)\u001b[0m\u001b[1;33m\u001b[0m\u001b[1;33m\u001b[0m\u001b[0m\n\u001b[0m",
      "\u001b[1;31mValueError\u001b[0m: substring not found"
     ]
    }
   ],
   "source": [
    "# 2) 위치 알려주기(find, index)\n",
    "a = \"Python is the best choice\"\n",
    "print(a.find('b'))       # 문자열 중 b가 처음 나온 위치 반환\n",
    "print(a.find('x'))\n",
    "\n",
    "a = \"Life is too short\"\n",
    "print(a.index('i'))\n",
    "print(a.index('f'))\n",
    "\n",
    "# 없는 문자열인 경우 오류 발생 \n",
    "# print(a.index('p'))     >> 오류 발생    # ValueError: substring not found"
   ]
  },
  {
   "cell_type": "code",
   "execution_count": 43,
   "metadata": {},
   "outputs": [
    {
     "name": "stdout",
     "output_type": "stream",
     "text": [
      "Your leg is too short\n"
     ]
    }
   ],
   "source": [
    "# 3) 문자열 바꾸기(replace)\n",
    "a = \"Life is too short\"\n",
    "print(a.replace('Life', 'Your leg'))"
   ]
  },
  {
   "cell_type": "code",
   "execution_count": 48,
   "metadata": {},
   "outputs": [
    {
     "name": "stdout",
     "output_type": "stream",
     "text": [
      "['Life', 'is', 'too', 'short']\n",
      "['a', ' b', 'c', 'd']\n"
     ]
    }
   ],
   "source": [
    "# 4) 문자열 나누기(split)\n",
    "a = \"Life is too short\"\n",
    "print(a.split())         # 공백을 기준으로 문자열 나눔\n",
    "\n",
    "b = \"a: b:c:d\"\n",
    "print(b.split(':'))         # : 기호를 기준으로 문자열 나눔"
   ]
  },
  {
   "cell_type": "code",
   "execution_count": null,
   "metadata": {},
   "outputs": [],
   "source": []
  }
 ],
 "metadata": {
  "kernelspec": {
   "display_name": "Python 3",
   "language": "python",
   "name": "python3"
  },
  "language_info": {
   "codemirror_mode": {
    "name": "ipython",
    "version": 3
   },
   "file_extension": ".py",
   "mimetype": "text/x-python",
   "name": "python",
   "nbconvert_exporter": "python",
   "pygments_lexer": "ipython3",
   "version": "3.8.5"
  }
 },
 "nbformat": 4,
 "nbformat_minor": 4
}
