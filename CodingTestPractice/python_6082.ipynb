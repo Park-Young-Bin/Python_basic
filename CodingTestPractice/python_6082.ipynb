{
 "cells": [
  {
   "cell_type": "markdown",
   "id": "59493af8",
   "metadata": {},
   "source": [
    "# 6082번 [기초-종합] 3 6 9 게임의 왕이 되자(설명)(py)"
   ]
  },
  {
   "cell_type": "markdown",
   "id": "982470ad",
   "metadata": {},
   "source": [
    "## 문제\n",
    "\n",
    "친구들과 함께 3 6 9 게임을 하던 영일이는 잦은 실수 때문에 계속해서 벌칙을 받게 되었다.\n",
    "\n",
    "3 6 9 게임의 왕이 되기 위한 369 마스터 프로그램을 작성해 보자.\n",
    "\n",
    "** 3 6 9 게임은?\n",
    "\n",
    "여러 사람이 순서를 정한 후, 순서대로 수를 부르는 게임이다.\n",
    "\n",
    "만약 3, 6, 9 가 들어간 수를 자신이 불러야 하는 상황이라면, 수를 부르는 대신 \"박수(X)\" 를 쳐야 한다.\n",
    "\n",
    "33과 같이 3,6,9가 두 번 들어간 수 일때, \"짝짝\"과 같이 박수를 두 번 치는 형태도 있다. "
   ]
  },
  {
   "cell_type": "markdown",
   "id": "3d3fe7e2",
   "metadata": {},
   "source": [
    "### 정답"
   ]
  },
  {
   "cell_type": "code",
   "execution_count": 15,
   "id": "b08fe658",
   "metadata": {},
   "outputs": [
    {
     "name": "stdout",
     "output_type": "stream",
     "text": [
      "16\n",
      "1 2 X 4 5 X 7 8 X 10 11 12 X 14 15 X "
     ]
    }
   ],
   "source": [
    "n = int(input())\n",
    "\n",
    "for i in range(1, n+1) :\n",
    "    if (i%10==3 or i%10==6 or i%10==9):\n",
    "        print(\"X\", end=' ') # end에 빈 문자열을 지정하면 다음 번 출력이 바로 뒤에 오게 됨\n",
    "    else:\n",
    "        print(i, end =' ')"
   ]
  },
  {
   "cell_type": "markdown",
   "id": "4c70cbb2",
   "metadata": {},
   "source": [
    "그런데 이렇게 된다면 30, 60, 90과 같은 숫자는 X로 반환되지 않는 오류가 있다.\n",
    "\n",
    "이 부분은 3의 배수, 6의 배수, 9의 배수 라는 조건을 추가로 넣어서 해결할 수 있지만\n",
    "\n",
    "12와 같은 3의 배수이지만 3, 6, 9가 포함되지 않는 숫자도 X로 반환되므로 섣불리 넣을 수 없다."
   ]
  },
  {
   "cell_type": "markdown",
   "id": "55893a92",
   "metadata": {},
   "source": [
    "### 나의 오답"
   ]
  },
  {
   "cell_type": "code",
   "execution_count": 11,
   "id": "7e9b7b89",
   "metadata": {},
   "outputs": [
    {
     "name": "stdout",
     "output_type": "stream",
     "text": [
      "13\n",
      "1\n",
      "2\n",
      "X\n",
      "4\n",
      "5\n",
      "X\n",
      "7\n",
      "8\n",
      "X\n",
      "10\n",
      "11\n",
      "12\n",
      "13\n"
     ]
    }
   ],
   "source": [
    "a = int(input())\n",
    "num = [3, 6, 9]\n",
    "\n",
    "for i in range(1, 1+a):\n",
    "    if i in num:\n",
    "        print(len(i)*'X')\n",
    "    else:\n",
    "        print(i)"
   ]
  }
 ],
 "metadata": {
  "kernelspec": {
   "display_name": "Python 3",
   "language": "python",
   "name": "python3"
  },
  "language_info": {
   "codemirror_mode": {
    "name": "ipython",
    "version": 3
   },
   "file_extension": ".py",
   "mimetype": "text/x-python",
   "name": "python",
   "nbconvert_exporter": "python",
   "pygments_lexer": "ipython3",
   "version": "3.8.8"
  }
 },
 "nbformat": 4,
 "nbformat_minor": 5
}
