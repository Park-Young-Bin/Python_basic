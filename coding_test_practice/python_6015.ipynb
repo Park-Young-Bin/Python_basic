{
 "cells": [
  {
   "cell_type": "markdown",
   "metadata": {},
   "source": [
    "## 6015번 [기초-입출력] 정수 2개 입력받아 그대로 출력하기2(설명)(py)"
   ]
  },
  {
   "cell_type": "markdown",
   "metadata": {},
   "source": [
    "### 문제\n",
    "\n",
    "공백을 두고 입력된정수(integer) 2개를 입력받아 줄을 바꿔 출력해보자.\n",
    "\n",
    "(예시)\n",
    "\n",
    "a, b = input().split()  \n",
    "print(a)  \n",
    "print(b)  \n",
    "과 같은 방법으로 두 정수를 입력받아 출력할 수 있다.\n",
    "\n",
    "\n",
    "**[참고]**\n",
    "\n",
    "python의 input()은 한 줄 단위로 입력을 받는다.\n",
    "\n",
    "input().**split()** 를 사용하면, 공백을 기준으로 입력된 값들을 나누어(**split**) 자른다.\n",
    "\n",
    "a, b = 1, 2\n",
    "\n",
    "를 실행하면, a에는 1 b에는 2가 저장된다.\n",
    "\n",
    "(주의 : 하지만, 다른 일반적인 프로그래밍언어에서는 이러한 방법을 지원하지 않기 때문에 a=1, b=2 를 한 번에 하나씩 따로 실행시켜야 한다.)"
   ]
  },
  {
   "cell_type": "code",
   "execution_count": 3,
   "metadata": {},
   "outputs": [
    {
     "name": "stdout",
     "output_type": "stream",
     "text": [
      "1 2\n",
      "1\n",
      "2\n"
     ]
    }
   ],
   "source": [
    "a, b = input().split()\n",
    "print(a)\n",
    "print(b)"
   ]
  }
 ],
 "metadata": {
  "kernelspec": {
   "display_name": "Python 3",
   "language": "python",
   "name": "python3"
  },
  "language_info": {
   "codemirror_mode": {
    "name": "ipython",
    "version": 3
   },
   "file_extension": ".py",
   "mimetype": "text/x-python",
   "name": "python",
   "nbconvert_exporter": "python",
   "pygments_lexer": "ipython3",
   "version": "3.8.5"
  }
 },
 "nbformat": 4,
 "nbformat_minor": 4
}
