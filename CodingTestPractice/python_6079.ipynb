{
 "cells": [
  {
   "cell_type": "markdown",
   "id": "839cd7d4",
   "metadata": {},
   "source": [
    "# 6079번 [기초-종합] 언제까지 더해야 할까?(py)"
   ]
  },
  {
   "cell_type": "markdown",
   "id": "7c9459f4",
   "metadata": {},
   "source": [
    "## 문제 \n",
    "\n",
    "1, 2, 3 ... 을 계속 더해 나갈 때, 그 합이 입력한 정수(0 ~ 1000)보다 같거나 작을 때까지만 계속 더하는 프로그램을 작성해보자.\n",
    "\n",
    "즉, 1부터 n까지 정수를 계속 더해 나간다고 할 때, 어디까지 더해야 입력한 수보다 같거나 커지는 지를 알아보고자하는 문제이다."
   ]
  },
  {
   "cell_type": "code",
   "execution_count": 29,
   "id": "8d84d68f",
   "metadata": {},
   "outputs": [
    {
     "name": "stdout",
     "output_type": "stream",
     "text": [
      "55\n",
      "11\n"
     ]
    }
   ],
   "source": [
    "n = int(input())\n",
    "add = 0\n",
    "t = 0\n",
    "\n",
    "while add < n : \n",
    "    t = t + 1 \n",
    "    add = add + t \n",
    "print(t)"
   ]
  },
  {
   "cell_type": "markdown",
   "id": "56ba2540",
   "metadata": {},
   "source": [
    "나의 오답"
   ]
  },
  {
   "cell_type": "code",
   "execution_count": 23,
   "id": "f9e77bb0",
   "metadata": {},
   "outputs": [
    {
     "name": "stdout",
     "output_type": "stream",
     "text": [
      "55\n"
     ]
    }
   ],
   "source": [
    "a = int(input())\n",
    "b = 1\n",
    "num = 0\n",
    "\n",
    "while a >= num:\n",
    "    b = b + 1\n",
    "    num = num + b\n",
    "    if num > a:\n",
    "        break"
   ]
  }
 ],
 "metadata": {
  "kernelspec": {
   "display_name": "Python 3",
   "language": "python",
   "name": "python3"
  },
  "language_info": {
   "codemirror_mode": {
    "name": "ipython",
    "version": 3
   },
   "file_extension": ".py",
   "mimetype": "text/x-python",
   "name": "python",
   "nbconvert_exporter": "python",
   "pygments_lexer": "ipython3",
   "version": "3.8.8"
  }
 },
 "nbformat": 4,
 "nbformat_minor": 5
}
