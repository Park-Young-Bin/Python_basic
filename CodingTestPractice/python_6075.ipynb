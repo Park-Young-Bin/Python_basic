{
 "cells": [
  {
   "cell_type": "markdown",
   "id": "96a73843",
   "metadata": {},
   "source": [
    "# 6075번 [기초-반복실행구조] 정수 1개 입력받아 그 수까지 출력하기1(py)"
   ]
  },
  {
   "cell_type": "markdown",
   "id": "7b6f2a4d",
   "metadata": {},
   "source": [
    "## 문제\n",
    "\n",
    "정수(0 ~ 100) 1개를 입력받아 0부터 그 수까지 순서대로 출력해보자."
   ]
  },
  {
   "cell_type": "code",
   "execution_count": 11,
   "id": "7051042d",
   "metadata": {},
   "outputs": [
    {
     "name": "stdout",
     "output_type": "stream",
     "text": [
      "5\n",
      "0\n",
      "1\n",
      "2\n",
      "3\n",
      "4\n",
      "5\n"
     ]
    }
   ],
   "source": [
    "n = int(input())\n",
    "a = n\n",
    "while n >= 0:\n",
    "    print(a - n)\n",
    "    n -= 1"
   ]
  },
  {
   "cell_type": "markdown",
   "id": "7cb6e7c0",
   "metadata": {},
   "source": [
    "**해설**\n",
    "\n",
    "1. n을 입력한다.\n",
    "1. a에 n을 할당한다. (a와 n은 같은 값인 상태이다.)\n",
    "1. n >= 0일 때까지 반복문을 실행한다. (n = -1이 되면 반복문이 종료된다.)\n",
    "    - 첫 번째 실행은 a - n으로 0이 출력된다.(a = n이기 때문이다.) 그리고 n = n-1이 된다.\n",
    "    - 다시 반복문이 실행된다. n = n-1이므로 a - (n-1)은 1이 출력된다. (a는 n과 같은 값이고 값의 변화가 없다.)\n",
    "    - 다시 반복문이 실행된다. n = n-2가 되므로 a - (n-2)은 2이 출력된다.\n",
    "    - 계속 반복문이 실행되고 n = -1이 되는 순간에 반복문이 종료된다."
   ]
  }
 ],
 "metadata": {
  "kernelspec": {
   "display_name": "Python 3",
   "language": "python",
   "name": "python3"
  },
  "language_info": {
   "codemirror_mode": {
    "name": "ipython",
    "version": 3
   },
   "file_extension": ".py",
   "mimetype": "text/x-python",
   "name": "python",
   "nbconvert_exporter": "python",
   "pygments_lexer": "ipython3",
   "version": "3.8.8"
  }
 },
 "nbformat": 4,
 "nbformat_minor": 5
}
