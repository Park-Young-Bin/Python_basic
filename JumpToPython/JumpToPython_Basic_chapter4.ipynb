{
 "cells": [
  {
   "cell_type": "markdown",
   "metadata": {},
   "source": [
    "### 5-1 클래스\n",
    "#### 클래스: 반복되는 변수&메서드(함수)를 미리 정해 놓은 틀"
   ]
  },
  {
   "cell_type": "code",
   "execution_count": 25,
   "metadata": {},
   "outputs": [
    {
     "output_type": "stream",
     "name": "stdout",
     "text": [
      "3\n7\n3\n10\n"
     ]
    }
   ],
   "source": [
    "# 앞에서 익힌 함수를 이용하여 2대의 계산기에 '더하기'기능 구현\n",
    "\n",
    "result1 = 0\n",
    "result2 = 0\n",
    "\n",
    "# 계산기1\n",
    "def add1(num):\n",
    "    global result1\n",
    "    result1 += num\n",
    "    return result1\n",
    "\n",
    "# 계산기2\n",
    "def add2(num):\n",
    "    global result2\n",
    "    result2 += num\n",
    "    return result2\n",
    "\n",
    "print(add1(3))\n",
    "print(add1(4))\n",
    "print(add2(3))\n",
    "print(add2(7))\n",
    "\n",
    "# 하지만 계신기가 여러 개가 필요하거나 다른 기능이 추가된다면 복합해질 것이다. > 클래스 사용"
   ]
  },
  {
   "cell_type": "markdown",
   "metadata": {},
   "source": [
    "#### (1) 클래스와 객체\n",
    "#### 클래스: 과자를 만드는 과자 틀(똑같이 무엇인가를 계속해서 만들 수 있는 설계 도면)\n",
    "#### 객체: 과자 틀로 만든 과자(클래스로 만든 피조물)"
   ]
  },
  {
   "cell_type": "code",
   "execution_count": 26,
   "metadata": {},
   "outputs": [],
   "source": [
    "class Cookie:\n",
    "    pass\n",
    "\n",
    "# 위의 클래스는 아무 기능도 갖고 있지 않은 '클래스'이다.\n",
    "\n",
    "a = Cookie()\n",
    "b = Cookie()\n",
    "\n",
    "# Cookie의 결괏값을 돌려받은 a와 b가 '객체'이다."
   ]
  },
  {
   "cell_type": "markdown",
   "metadata": {},
   "source": [
    "#### (2) 사칙연산 클래스 만들기"
   ]
  },
  {
   "cell_type": "code",
   "execution_count": 27,
   "metadata": {},
   "outputs": [
    {
     "output_type": "stream",
     "name": "stdout",
     "text": [
      "<class '__main__.Fourcal'>\n"
     ]
    }
   ],
   "source": [
    "# 1. 클래스 구조 만들기\n",
    "\n",
    "class Fourcal:\n",
    "    pass\n",
    "\n",
    "a = Fourcal()       # a: 설계도로 만든 과자(객체)\n",
    "print(type(a))\n",
    "\n",
    "# 객체 a의 타입은 Fourcal() 클래스이다."
   ]
  },
  {
   "cell_type": "code",
   "execution_count": 28,
   "metadata": {},
   "outputs": [
    {
     "output_type": "stream",
     "name": "stdout",
     "text": [
      "4\n2\n"
     ]
    }
   ],
   "source": [
    "# 2. 객체에 숫자 지정할 수 있게 만들기\n",
    "# 위에서 만든 객체 a는 아직 아무런 기능도 하지 못한다. 따라서 아래 코드처럼 작성한다.\n",
    "# 클래스(FourCal) 안에 구현된 함수(setdata)를 '메서드'라고 한다.(클래스 내부 함수는 항상 '메서드'라고 한다.)\n",
    "\n",
    "class FourCal:\n",
    "    def setdata(self, first, second):   # 메서드의 매개변수\n",
    "        self.first = first              # 메서드의 수행문\n",
    "        self.second = second            # 메서드의 수행문\n",
    "         \n",
    "a = FourCal()       # a: 설계도로 만든 과자(객체)\n",
    "a.setdata(4, 2)\n",
    "print(a.first)      # a가 갖고 있는 first 라는 변수 출력\n",
    "print(a.second)     # a가 갖고 있는 second 라는 변수 출력\n",
    "\n",
    "# setdata 메서드에는 총 3개의 매개변수가 있는데 실제로는 a.setdata(4, 2)처럼 2개만 전달했다.\n",
    "# 이유: 메서드의 첫 번째 매개변수 self에는 setdata메서드를 호출한 객체 a가 자동으로 전달되기 때문이다. \n",
    "# 객체를 호출할 때 호출한 객체 자신이 전달되기 때문에 self라고 적는다.(관례)\n",
    "# '객체.메서드' 형태로 호출할 때는 self를 반드시 생략해서 호출해야 한다."
   ]
  },
  {
   "cell_type": "code",
   "execution_count": 29,
   "metadata": {},
   "outputs": [
    {
     "output_type": "stream",
     "name": "stdout",
     "text": [
      "6\n2\n24\n0.375\n"
     ]
    }
   ],
   "source": [
    "# 3. 사칙연산 함수 만들기\n",
    "\n",
    "class FourCal():\n",
    "    def setdata(self, first, second):\n",
    "        self.first = first\n",
    "        self.second = second\n",
    "    def add(self):\n",
    "        result = self.first + self.second\n",
    "        return result\n",
    "    def mul(self):\n",
    "        result = self.first * self.second\n",
    "        return result\n",
    "    def sub(self):\n",
    "        result = self.first - self.second\n",
    "        return result\n",
    "    def div(self):\n",
    "        result = self.first / self.second\n",
    "        return result\n",
    "    \n",
    "a = FourCal()\n",
    "b = FourCal()\n",
    "a.setdata(4, 2)\n",
    "b.setdata(3, 8)\n",
    "print(a.add())\n",
    "print(a.sub())\n",
    "print(b.mul())\n",
    "print(b.div())"
   ]
  },
  {
   "cell_type": "markdown",
   "metadata": {},
   "source": [
    "#### (3) 생성자(Constructor)\n",
    "#### 생성자: 객체가 생성될 때 자동으로 호출되는 메서드, 맨 처음 실행된다.\n",
    "#### __init__ 메서드는 setdata 메서드와 이름만 다르고 모든게 동일하다. 단 __init__ 은 객체가 생성되는 시점에 자동으로 호출된다."
   ]
  },
  {
   "cell_type": "code",
   "execution_count": 30,
   "metadata": {},
   "outputs": [
    {
     "output_type": "stream",
     "name": "stdout",
     "text": [
      "6\n"
     ]
    }
   ],
   "source": [
    "# 오류\n",
    "class FourCal():\n",
    "    def __init__(self, first, second):\n",
    "        self.first = first\n",
    "        self.second = second\n",
    "    def setdata(self, first, second):\n",
    "        self.first = first\n",
    "        self.second = second\n",
    "    def add(self):\n",
    "        result = self.first + self.second\n",
    "        return result\n",
    "    \n",
    "# a = FourCal()      # 오류발생: TypeError: __init__() missing 2 required positional arguments: 'first' and 'second'\n",
    "\n",
    "a = FourCal(4, 2)\n",
    "print(a.add())\n",
    "# [오류발생]\n",
    "# 위의 코드가 자동으로 맨 처음 시작되는데(생성자) 생성자를 실행하려면 a = FourCal() 안에 first, second 값을 넣어야 한다."
   ]
  },
  {
   "cell_type": "markdown",
   "metadata": {},
   "source": [
    "#### (4) 클래스 상속\n",
    "#### 어떤 클래스(자식)를 만들 때 다른 클래스(부모)의 기능을 물려받을 수 있게 만드는 것이다.\n",
    "#### 사용 이유: 기존 클래스(부모)를 그대로 활용하고 변형하기 위함이다.\n",
    "#### 자식 클래스는 부모 클래스의 속성을 똑같이 사용할 수 있다.\n",
    "#### 자식에게도 __init__ 메서드가 동일하게 동작한다."
   ]
  },
  {
   "cell_type": "code",
   "execution_count": 31,
   "metadata": {},
   "outputs": [
    {
     "output_type": "stream",
     "name": "stdout",
     "text": [
      "11\n16\n"
     ]
    }
   ],
   "source": [
    "class MoreFourCal(FourCal):\n",
    "    pass\n",
    "\n",
    "a = MoreFourCal(4, 7)    # 부모 클래스의 메서드 그대로 이용 가능\n",
    "print(a.add())\n",
    "\n",
    "# 바로 위 코드에서 __init__ 메서드를 사용했으므로 객체 a에 first와 second 값을 전달해야한다.\n",
    "# pass를 써서 추가된 내용은 없지만 이 상태에서 부모 클래스의 생성자 혹은 메서드를 사용할 수 있다.\n",
    "\n",
    "class MoreFourCal(FourCal):\n",
    "    def pow(self):\n",
    "        result = self.first ** self.second\n",
    "        return result\n",
    "    \n",
    "a = MoreFourCal(4, 2)\n",
    "print(a.pow())"
   ]
  },
  {
   "cell_type": "code",
   "execution_count": 32,
   "metadata": {},
   "outputs": [
    {
     "output_type": "error",
     "ename": "AttributeError",
     "evalue": "'FourCal' object has no attribute 'div'",
     "traceback": [
      "\u001b[1;31m---------------------------------------------------------------------------\u001b[0m",
      "\u001b[1;31mAttributeError\u001b[0m                            Traceback (most recent call last)",
      "\u001b[1;32m<ipython-input-32-5cdc735457fe>\u001b[0m in \u001b[0;36m<module>\u001b[1;34m\u001b[0m\n\u001b[0;32m      4\u001b[0m \u001b[1;31m# 1) 부모 클래스 > 오류 발생\u001b[0m\u001b[1;33m\u001b[0m\u001b[1;33m\u001b[0m\u001b[1;33m\u001b[0m\u001b[0m\n\u001b[0;32m      5\u001b[0m \u001b[0ma\u001b[0m \u001b[1;33m=\u001b[0m \u001b[0mFourCal\u001b[0m\u001b[1;33m(\u001b[0m\u001b[1;36m4\u001b[0m\u001b[1;33m,\u001b[0m \u001b[1;36m0\u001b[0m\u001b[1;33m)\u001b[0m\u001b[1;33m\u001b[0m\u001b[1;33m\u001b[0m\u001b[0m\n\u001b[1;32m----> 6\u001b[1;33m \u001b[0mprint\u001b[0m\u001b[1;33m(\u001b[0m\u001b[0ma\u001b[0m\u001b[1;33m.\u001b[0m\u001b[0mdiv\u001b[0m\u001b[1;33m(\u001b[0m\u001b[1;33m)\u001b[0m\u001b[1;33m)\u001b[0m\u001b[1;33m\u001b[0m\u001b[1;33m\u001b[0m\u001b[0m\n\u001b[0m",
      "\u001b[1;31mAttributeError\u001b[0m: 'FourCal' object has no attribute 'div'"
     ]
    }
   ],
   "source": [
    "# 1. 메서드 오버라이딩(덮어쓰기)\n",
    "# 부모 클래스에 있는 메서드를 동일한 이름으로 다시 만드는 것을 메서드 오버라이딩이라고 한다.\n",
    "\n",
    "# 1) 부모 클래스 > 오류 발생\n",
    "a = FourCal(4, 0)\n",
    "print(a.div())"
   ]
  },
  {
   "cell_type": "code",
   "execution_count": null,
   "metadata": {},
   "outputs": [],
   "source": [
    "# 2 자식 클래스\n",
    "class SafeFourCal(FourCal):\n",
    "    def div(self):\n",
    "        if self.second == 0:\n",
    "            return 0\n",
    "        else:\n",
    "            return self.first / self.second\n",
    "\n",
    "a = SafeFourCal(4, 0)\n",
    "print(a.div())\n",
    "\n",
    "# 부모 클래스에는 0으로 나눴다는 오류가 발생했지만, 자식 클래스에서 이를 수정하여 오류가 발생하지 않았다."
   ]
  },
  {
   "cell_type": "markdown",
   "metadata": {},
   "source": [
    "#### (5) 클래스 변수\n",
    "#### 클래스에 미리 선언해 놓은 변수\n",
    "#### 객체 변수는 다른 객체들에 영향받지 않고 독립적으로 그 값을 유지한다.\n",
    "#### 공통으로 쓸 때는 클래스 변수를 사용하고 각각 객체마다 다르게 줘야할 때는 객체 변수를 사용한다."
   ]
  },
  {
   "cell_type": "code",
   "execution_count": null,
   "metadata": {},
   "outputs": [],
   "source": [
    "class Family:\n",
    "    lastname = '김'    # 클래스 변수에 '김'을 입력\n",
    "    \n",
    "print(Family.lastname)\n",
    "\n",
    "# Family 클래스에 선언한 lastname이 바로 클래스 변수이다.\n",
    "\n",
    "# 아래와 같이 클래스 변수 값을 바꿀 수 있다\n",
    "class Family:\n",
    "    lastname = '박'\n",
    "    \n",
    "print(Family.lastname)"
   ]
  },
  {
   "cell_type": "markdown",
   "metadata": {},
   "source": [
    "### 5-2 모듈\n",
    "#### 모듈: 미리 만들어 놓은 파이썬 파일(.py)"
   ]
  },
  {
   "cell_type": "markdown",
   "metadata": {},
   "source": [
    "#### (1) 모듈 만들기"
   ]
  },
  {
   "cell_type": "code",
   "execution_count": 3,
   "metadata": {},
   "outputs": [],
   "source": [
    "# mod1.py\n",
    "def add(a, b):\n",
    "    return a + b\n",
    "\n",
    "def sub(a, b):\n",
    "    return a - b\n",
    "\n",
    "# mod1.py를 주피터 노트북에서 만들 수 있다."
   ]
  },
  {
   "cell_type": "markdown",
   "metadata": {},
   "source": [
    "#### 주피터 노트북으로 파이썬 파일 만들기\n",
    "#### 1. 주피터 노트북 메인화면에서 우측 상단에 있는 [New] > [Text File] 누른다.\n",
    "#### 2. 작성하고자 하는 코드를 입력하고 \"파일명.py\"으로 저장한다."
   ]
  },
  {
   "cell_type": "markdown",
   "metadata": {},
   "source": [
    "#### (2) 모듈 불러오기\n",
    "#### mod1.py에 저장된 함수를 \"import 모듈명\"을 통해 다른 파일에서 이용할 수 있다."
   ]
  },
  {
   "cell_type": "code",
   "execution_count": null,
   "metadata": {},
   "outputs": [],
   "source": [
    "import mod1\n",
    "print(mod1.add(1, 3))\n",
    "print(mod1.sub(3, 8))"
   ]
  },
  {
   "cell_type": "markdown",
   "metadata": {},
   "source": [
    "#### (3) if __name__==\"__main__\": 의 의미"
   ]
  },
  {
   "cell_type": "code",
   "execution_count": null,
   "metadata": {},
   "outputs": [],
   "source": [
    "# 이번에는 mod1.py 파일을 다음과 같이 변경해 보자.\n",
    "\n",
    "# mod1.py\n",
    "def add(a, b):\n",
    "    return a + b\n",
    "\n",
    "def sub(a, b):\n",
    "    return a - b\n",
    "\n",
    "print(add(1, 4))\n",
    "print(sub(4, 2))"
   ]
  },
  {
   "cell_type": "code",
   "execution_count": 1,
   "metadata": {},
   "outputs": [
    {
     "name": "stdout",
     "output_type": "stream",
     "text": [
      "5\n",
      "2\n"
     ]
    }
   ],
   "source": [
    "# 그 후에 import mod1을 수행하면...\n",
    "\n",
    "import mod1\n",
    "\n",
    "# import mod1만 수행했는데도 순간 mod1.py가 실행이 되어 결괏값을 출력한다.\n",
    "# 단지 mod1.py 파일의 add와 sub 함수만 사용하려고 했는데 말이다.\n",
    "# 이러한 문제를 방지하기 위해 if __name__==\"__main__\"를 사용한다."
   ]
  },
  {
   "cell_type": "code",
   "execution_count": null,
   "metadata": {},
   "outputs": [],
   "source": [
    "# mod1.py 파일을 다음과 같이 변경한다.\n",
    "\n",
    "# mod1.py\n",
    "def add(a, b):\n",
    "    return a + b\n",
    "\n",
    "def sub(a, b):\n",
    "    return a - b\n",
    "\n",
    "if __name__==\"__main__\":\n",
    "    print(add(1, 4))\n",
    "    print(sub(4, 2))"
   ]
  },
  {
   "cell_type": "code",
   "execution_count": 2,
   "metadata": {},
   "outputs": [],
   "source": [
    "# 그 후에 import mod1을 수행하면...\n",
    "\n",
    "import mod1\n",
    "\n",
    "# 아무 것도 실행이 안된다.\n",
    "# if __name__==\"__main__\": 를 통해 다른 파일에서 실행이 안 되게 막을 수 있다."
   ]
  },
  {
   "cell_type": "markdown",
   "metadata": {},
   "source": [
    "#### (4) 다른 파일에서 모듈 불러오기\n",
    "#### 지금까지는 같은 경로에 모듈과 작업 중인 파일이 있었지만 이번에는 다른 폴더에 모듈이 있는 경우 모듈을 불러오는 방법이다.\n",
    "#### 모듈이 다른 경로에 있을 때는 path에 추가해야 한다.\n",
    "#### 즉, 경로에 내가 가져올려는 모듈이 ~~ 폴더 안에 있다고 알려줘야 한다."
   ]
  },
  {
   "cell_type": "code",
   "execution_count": 3,
   "metadata": {},
   "outputs": [
    {
     "name": "stdout",
     "output_type": "stream",
     "text": [
      "7\n"
     ]
    }
   ],
   "source": [
    "# mod1.py 파일이 subFolder에 있다고 하자.\n",
    "# () 안에는 mod1.py 파일이 있는 경로를 입력한다. 백슬래시(\\)는 두 번 작성한다.\n",
    "\n",
    "import sys\n",
    "sys.path.append(\"C:\\\\Users\\\\user\\\\Desktop\\\\Python\\\\점프투파이썬\\\\subFolder\")\n",
    "import mod1\n",
    "print(mod1.add(3,4))"
   ]
  },
  {
   "source": [
    "### 5-3 패키지\n",
    "#### 패키지 = 라이브러리: 모듈 여러 개를 모아 놓은 것\n",
    "#### 여러 개의 모듈(__init__ 을 껴서 파일 구조를 만듦)에서 골라서 가져오는 것"
   ],
   "cell_type": "markdown",
   "metadata": {}
  },
  {
   "source": [
    "#### (1) 패키지 만들기\n",
    "#### 본인이 현재 작업하고 있는 폴더 안에 game 폴더와 __init__.py 파일을 만든다. \n",
    "#### game 폴더 안에 sound, echo, reneder 하위폴더를 만들고, 각각의 파이썬 파일을 만든다."
   ],
   "cell_type": "markdown",
   "metadata": {}
  },
  {
   "cell_type": "code",
   "execution_count": 19,
   "metadata": {},
   "outputs": [
    {
     "output_type": "stream",
     "name": "stdout",
     "text": [
      "echo\n"
     ]
    }
   ],
   "source": [
    "# 1. game 패키지 안에 sound 폴더 안에 ehco파일의 echo_test()함수를 import한다.\n",
    "\n",
    "import game.sound.echo\n",
    "game.sound.echo.echo_test()"
   ]
  },
  {
   "cell_type": "code",
   "execution_count": 20,
   "metadata": {},
   "outputs": [
    {
     "output_type": "stream",
     "name": "stdout",
     "text": [
      "echo\n"
     ]
    }
   ],
   "source": [
    "# 2. game 패키지 안에 sound 폴더 안에 echo 모듈만 import한다.\n",
    "from game.sound import echo\n",
    "echo.echo_test()"
   ]
  },
  {
   "cell_type": "code",
   "execution_count": 2,
   "metadata": {},
   "outputs": [
    {
     "output_type": "stream",
     "name": "stdout",
     "text": [
      "echo\necho\n"
     ]
    }
   ],
   "source": [
    "# 3. game 패키지 안에 sound 폴더 안에 echo 모듈의 echo_test만 import한다.\n",
    "from game.sound.echo import echo_test\n",
    "echo_test()\n",
    "\n",
    "## \"as 별칭\"으로 불러올 수 있다.\n",
    "from game.sound.echo import echo_test as e\n",
    "e()"
   ]
  },
  {
   "source": [
    "#### (2) __init__.py의 용도"
   ],
   "cell_type": "markdown",
   "metadata": {}
  },
  {
   "cell_type": "code",
   "execution_count": 45,
   "metadata": {},
   "outputs": [
    {
     "output_type": "stream",
     "name": "stdout",
     "text": [
      "echo\n"
     ]
    }
   ],
   "source": [
    "from game.sound import *\n",
    "echo.echo_test()\n",
    "\n",
    "# gam.sound 패키지에서 모든 것(*)을 import하였으므로 echo 모듈을 사용할 수 있어야 하는데 오류가 발생한다.\n",
    "# echo라는 이름이 정의되지 않았다는 이름 오류(NameError)가 발생했다.\n",
    "# 이렇게 특정 디렉터리의 모듈을 *를 사용하여 import할 때는 해당 디렉터리의 __init__.py파일에 __all__변수를 설정하고 import할 수 있는 모듈을 리스트 안에 정의해 주어야 한다."
   ]
  },
  {
   "source": [
    "#### (3) relative 패키지\n",
    "#### 만약 graphic 디렉터리의 render.py 모듈이 sound 디렉터리의 echo.py 모듈을 사용하고 싶다면 어떻게 할까?\n",
    "#### 즉 render.py 파일 안에서 echo_test() 함수를 사용하고 싶다."
   ],
   "cell_type": "markdown",
   "metadata": {}
  },
  {
   "source": [
    "# render.py를 수정한다.\n",
    "## \"from ..sound.echo import echo_test\"를 추가하여 수정한다.\n",
    "## \"from ..sound.echo import echo_test\": 이전 폴더(game)로 돌아가서 sound 폴더의 echo.py 모듈을 가져온다.\n",
    "### 오류발생으로 제외..."
   ],
   "cell_type": "code",
   "metadata": {},
   "execution_count": 13,
   "outputs": []
  },
  {
   "source": [
    "### 5-4 예외 처리\n",
    "#### 오류가 발생했을 때 어떻게 할지 미리 정해 놓은 것\n",
    "#### 어레가 나타날 수 있는 구문에서 사용한다."
   ],
   "cell_type": "markdown",
   "metadata": {}
  },
  {
   "source": [
    "#### (1) 오류는 어떨 때 발생하는 가?"
   ],
   "cell_type": "markdown",
   "metadata": {}
  },
  {
   "cell_type": "code",
   "execution_count": 46,
   "metadata": {},
   "outputs": [
    {
     "output_type": "error",
     "ename": "FileNotFoundError",
     "evalue": "[Errno 2] No such file or directory: '나없는파일'",
     "traceback": [
      "\u001b[1;31m---------------------------------------------------------------------------\u001b[0m",
      "\u001b[1;31mFileNotFoundError\u001b[0m                         Traceback (most recent call last)",
      "\u001b[1;32m<ipython-input-46-74b7d105cddb>\u001b[0m in \u001b[0;36m<module>\u001b[1;34m\u001b[0m\n\u001b[0;32m      1\u001b[0m \u001b[1;31m# 디렉터리 안에 없는 파일을 열려고 시도했을 때 발생하는 오류\u001b[0m\u001b[1;33m\u001b[0m\u001b[1;33m\u001b[0m\u001b[1;33m\u001b[0m\u001b[0m\n\u001b[1;32m----> 2\u001b[1;33m \u001b[0mf\u001b[0m\u001b[1;33m=\u001b[0m\u001b[0mopen\u001b[0m\u001b[1;33m(\u001b[0m\u001b[1;34m'나없는파일'\u001b[0m\u001b[1;33m,\u001b[0m \u001b[1;34m'r'\u001b[0m\u001b[1;33m)\u001b[0m\u001b[1;33m\u001b[0m\u001b[1;33m\u001b[0m\u001b[0m\n\u001b[0m",
      "\u001b[1;31mFileNotFoundError\u001b[0m: [Errno 2] No such file or directory: '나없는파일'"
     ]
    }
   ],
   "source": [
    "# 1. 디렉터리 안에 없는 파일을 열려고 시도했을 때 발생하는 오류\n",
    "f=open('나없는파일', 'r')\n",
    "\n",
    "# 없는 파일을 열려고 시도하면 FileNotFoundError 오류가 발생한다."
   ]
  },
  {
   "cell_type": "code",
   "execution_count": 47,
   "metadata": {},
   "outputs": [
    {
     "output_type": "error",
     "ename": "ZeroDivisionError",
     "evalue": "division by zero",
     "traceback": [
      "\u001b[1;31m---------------------------------------------------------------------------\u001b[0m",
      "\u001b[1;31mZeroDivisionError\u001b[0m                         Traceback (most recent call last)",
      "\u001b[1;32m<ipython-input-47-4434577c6a85>\u001b[0m in \u001b[0;36m<module>\u001b[1;34m\u001b[0m\n\u001b[0;32m      1\u001b[0m \u001b[1;31m# 2. 0으로 다른 숫자를 나누는 경우 발생하는 오류\u001b[0m\u001b[1;33m\u001b[0m\u001b[1;33m\u001b[0m\u001b[1;33m\u001b[0m\u001b[0m\n\u001b[1;32m----> 2\u001b[1;33m \u001b[1;36m4\u001b[0m \u001b[1;33m/\u001b[0m \u001b[1;36m0\u001b[0m\u001b[1;33m\u001b[0m\u001b[1;33m\u001b[0m\u001b[0m\n\u001b[0m",
      "\u001b[1;31mZeroDivisionError\u001b[0m: division by zero"
     ]
    }
   ],
   "source": [
    "# 2. 0으로 다른 숫자를 나누는 경우 발생하는 오류\n",
    "4 / 0\n",
    "\n",
    "# division by zero 오류가 발생한다."
   ]
  },
  {
   "cell_type": "code",
   "execution_count": 48,
   "metadata": {},
   "outputs": [
    {
     "output_type": "error",
     "ename": "IndexError",
     "evalue": "list index out of range",
     "traceback": [
      "\u001b[1;31m---------------------------------------------------------------------------\u001b[0m",
      "\u001b[1;31mIndexError\u001b[0m                                Traceback (most recent call last)",
      "\u001b[1;32m<ipython-input-48-1c9293e2bb93>\u001b[0m in \u001b[0;36m<module>\u001b[1;34m\u001b[0m\n\u001b[0;32m      1\u001b[0m \u001b[1;31m# 3. 인덱싱 오류\u001b[0m\u001b[1;33m\u001b[0m\u001b[1;33m\u001b[0m\u001b[1;33m\u001b[0m\u001b[0m\n\u001b[0;32m      2\u001b[0m \u001b[0ma\u001b[0m \u001b[1;33m=\u001b[0m \u001b[1;33m[\u001b[0m\u001b[1;36m1\u001b[0m\u001b[1;33m,\u001b[0m\u001b[1;36m2\u001b[0m\u001b[1;33m,\u001b[0m\u001b[1;36m3\u001b[0m\u001b[1;33m]\u001b[0m\u001b[1;33m\u001b[0m\u001b[1;33m\u001b[0m\u001b[0m\n\u001b[1;32m----> 3\u001b[1;33m \u001b[0mprint\u001b[0m\u001b[1;33m(\u001b[0m\u001b[0ma\u001b[0m\u001b[1;33m[\u001b[0m\u001b[1;36m4\u001b[0m\u001b[1;33m]\u001b[0m\u001b[1;33m)\u001b[0m\u001b[1;33m\u001b[0m\u001b[1;33m\u001b[0m\u001b[0m\n\u001b[0m",
      "\u001b[1;31mIndexError\u001b[0m: list index out of range"
     ]
    }
   ],
   "source": [
    "# 3. 인덱싱 오류\n",
    "a = [1,2,3]\n",
    "print(a[4])\n",
    "\n",
    "# a 리스트에서 얻을 수 없는 값이므로 IndexError 오류가 발생한다."
   ]
  },
  {
   "source": [
    "#### (2) 오류 예외 처리 기법\n",
    "try:\n",
    "    # 오류가 발생할 수 있는 구문\n",
    "except Exception as e:\n",
    "    # 오류 발생\n",
    "else:\n",
    "    # 오류 발생하지 않음\n",
    "finally:\n",
    "    # 무조건 마지막에 실행"
   ],
   "cell_type": "markdown",
   "metadata": {}
  },
  {
   "source": [],
   "cell_type": "markdown",
   "metadata": {}
  },
  {
   "cell_type": "code",
   "execution_count": 14,
   "metadata": {},
   "outputs": [
    {
     "output_type": "stream",
     "name": "stdout",
     "text": [
      "division by zero\n"
     ]
    }
   ],
   "source": [
    "# 1. try, except만 쓰는 방법\n",
    "try:\n",
    "    4/0\n",
    "except ZeroDivisionError as e:\n",
    "    print(e)\n",
    "\n",
    "# 오류가 발생하면 except 블록이 실행되고 변수 e에 담기는 오류 메시지를 출력한다."
   ]
  },
  {
   "cell_type": "code",
   "execution_count": 15,
   "metadata": {},
   "outputs": [
    {
     "output_type": "stream",
     "name": "stdout",
     "text": [
      "[Errno 2] No such file or directory: '없는파일.txt'\n"
     ]
    }
   ],
   "source": [
    "# 2. try ~ else 문을 쓰는 방법\n",
    "try:\n",
    "    f=open('없는파일.txt', 'r')\n",
    "except FileNotFoundError as e:\n",
    "    print(str(e))\n",
    "else:\n",
    "    data = f.read()\n",
    "    print(data)\n",
    "    f.close()\n",
    "\n",
    "# else: try 구문이 성공했을 때 else 구문을 실행한다."
   ]
  },
  {
   "cell_type": "code",
   "execution_count": 9,
   "metadata": {},
   "outputs": [
    {
     "output_type": "stream",
     "name": "stdout",
     "text": [
      "not readable\n"
     ]
    }
   ],
   "source": [
    "# 3. try ~ finally 문을 쓰는 방법\n",
    "# finally절은 try문 수행 도중 예외 발생 여부에 상관없이 항상 수행된다.\n",
    "f = open('foo.txt', 'w')\n",
    "try:\n",
    "    # 무언가를 수행한다.\n",
    "    data = f.read()\n",
    "    print(data)\n",
    "except Exception as e:\n",
    "    print(e)\n",
    "finally:\n",
    "    f.close()"
   ]
  },
  {
   "cell_type": "code",
   "execution_count": 10,
   "metadata": {},
   "outputs": [
    {
     "output_type": "stream",
     "name": "stdout",
     "text": [
      "인덱싱 할 수 없습니다.\n"
     ]
    }
   ],
   "source": [
    "# 4. 여러 개의 오류 처리하기\n",
    "try:\n",
    "    a = [1,2]\n",
    "    print(a[3])\n",
    "    4/0\n",
    "except ZeroDivisionError:\n",
    "    print(\"0으로 나눌 수 없습니다.\")\n",
    "except IndexError:\n",
    "    print(\"인덱싱 할 수 없습니다.\")\n",
    "\n",
    " # 인덱싱 오류가 먼저 발생했으므로 4/0으로 발생되는 ZeroDivisionError 오류는 발생하지 않았다."
   ]
  },
  {
   "source": [
    "#### (3) 오류 회피하기\n",
    "#### 특정 오류를 그냥 통과시킨다."
   ],
   "cell_type": "markdown",
   "metadata": {}
  },
  {
   "cell_type": "code",
   "execution_count": 3,
   "metadata": {},
   "outputs": [],
   "source": [
    "try:\n",
    "    f = open('나없는파일.txt', 'r')\n",
    "except FileNotFoundError:       # 파일이 없더라도 오류를 발생시키지 않고 통과한다.\n",
    "    pass"
   ]
  },
  {
   "source": [
    "#### (4) 오류 일부러 발생시키기\n",
    "#### 오류를 일부러 발생시켜야 할 경우 raise 명령어를 사용해 오류를 강제로 발생시킬 수 있다."
   ],
   "cell_type": "markdown",
   "metadata": {}
  },
  {
   "cell_type": "code",
   "execution_count": 12,
   "metadata": {},
   "outputs": [
    {
     "output_type": "error",
     "ename": "NotImplementedError",
     "evalue": "",
     "traceback": [
      "\u001b[1;31m---------------------------------------------------------------------------\u001b[0m",
      "\u001b[1;31mNotImplementedError\u001b[0m                       Traceback (most recent call last)",
      "\u001b[1;32m<ipython-input-12-f8909ebc69dd>\u001b[0m in \u001b[0;36m<module>\u001b[1;34m\u001b[0m\n\u001b[0;32m      6\u001b[0m     \u001b[1;32mpass\u001b[0m\u001b[1;33m\u001b[0m\u001b[1;33m\u001b[0m\u001b[0m\n\u001b[0;32m      7\u001b[0m \u001b[0meagle\u001b[0m \u001b[1;33m=\u001b[0m \u001b[0mEagle\u001b[0m\u001b[1;33m(\u001b[0m\u001b[1;33m)\u001b[0m\u001b[1;33m\u001b[0m\u001b[1;33m\u001b[0m\u001b[0m\n\u001b[1;32m----> 8\u001b[1;33m \u001b[0meagle\u001b[0m\u001b[1;33m.\u001b[0m\u001b[0mfly\u001b[0m\u001b[1;33m(\u001b[0m\u001b[1;33m)\u001b[0m\u001b[1;33m\u001b[0m\u001b[1;33m\u001b[0m\u001b[0m\n\u001b[0m",
      "\u001b[1;32m<ipython-input-12-f8909ebc69dd>\u001b[0m in \u001b[0;36mfly\u001b[1;34m(self)\u001b[0m\n\u001b[0;32m      1\u001b[0m \u001b[1;32mclass\u001b[0m \u001b[0mBird\u001b[0m\u001b[1;33m:\u001b[0m     \u001b[1;31m# 부모 클래스\u001b[0m\u001b[1;33m\u001b[0m\u001b[1;33m\u001b[0m\u001b[0m\n\u001b[0;32m      2\u001b[0m     \u001b[1;32mdef\u001b[0m \u001b[0mfly\u001b[0m\u001b[1;33m(\u001b[0m\u001b[0mself\u001b[0m\u001b[1;33m)\u001b[0m\u001b[1;33m:\u001b[0m\u001b[1;33m\u001b[0m\u001b[1;33m\u001b[0m\u001b[0m\n\u001b[1;32m----> 3\u001b[1;33m         \u001b[1;32mraise\u001b[0m \u001b[0mNotImplementedError\u001b[0m\u001b[1;33m\u001b[0m\u001b[1;33m\u001b[0m\u001b[0m\n\u001b[0m\u001b[0;32m      4\u001b[0m \u001b[1;33m\u001b[0m\u001b[0m\n\u001b[0;32m      5\u001b[0m \u001b[1;32mclass\u001b[0m \u001b[0mEagle\u001b[0m\u001b[1;33m(\u001b[0m\u001b[0mBird\u001b[0m\u001b[1;33m)\u001b[0m\u001b[1;33m:\u001b[0m      \u001b[1;31m# 자식 클래스\u001b[0m\u001b[1;33m\u001b[0m\u001b[1;33m\u001b[0m\u001b[0m\n",
      "\u001b[1;31mNotImplementedError\u001b[0m: "
     ]
    }
   ],
   "source": [
    "# Eagle 클래스는 Bird 클래스를 상속받는다. 그런데 Eagle 클래스에서 fly 함수를 구현하지 않았기 때문에 Bird 클래스의 fly 함수가 호출된다.\n",
    "# 그리고 raise문에 의해 NotImplemented Error가 발생할 것이다.\n",
    "\n",
    "class Bird:     # 부모 클래스\n",
    "    def fly(self):\n",
    "        raise NotImplementedError\n",
    "\n",
    "class Eagle(Bird):      # 자식 클래스(Bird 클래스를 상속받음)\n",
    "    pass\n",
    "eagle = Eagle()\n",
    "eagle.fly()"
   ]
  },
  {
   "cell_type": "code",
   "execution_count": 11,
   "metadata": {},
   "outputs": [
    {
     "output_type": "stream",
     "name": "stdout",
     "text": [
      "very fast\n"
     ]
    }
   ],
   "source": [
    "# NotImplemented Error가 발생되지 않게 하려면 다음과 같이 Eagle 클래스에 fly 함수를 반드시 구현해야 한다.\n",
    "\n",
    "class Bird:     # 부모 클래스\n",
    "    def fly(self):\n",
    "        raise NotImplementedError\n",
    "\n",
    "class Eagle(Bird):      # 자식 클래스\n",
    "    def fly(self):\n",
    "        print(\"very fast\")\n",
    "eagle = Eagle()\n",
    "eagle.fly()"
   ]
  },
  {
   "source": [
    "### 5-5 내장 함수\n",
    "#### 파이썬에 이미 저장된 함수"
   ],
   "cell_type": "markdown",
   "metadata": {}
  },
  {
   "cell_type": "code",
   "execution_count": 16,
   "metadata": {},
   "outputs": [
    {
     "output_type": "stream",
     "name": "stdout",
     "text": [
      "True\n"
     ]
    }
   ],
   "source": [
    "# any\n",
    "# any(x)는 어느 하나라도 참이 있으면 True를 돌려주고, x가 모두 거짓일 때에만 False를 돌려준다.\n",
    "\n",
    "a = any([1,2,3,0])\n",
    "print(a)"
   ]
  },
  {
   "cell_type": "code",
   "execution_count": 21,
   "metadata": {},
   "outputs": [
    {
     "output_type": "stream",
     "name": "stdout",
     "text": [
      "0 body\n1 foo\n2 bar\n"
     ]
    }
   ],
   "source": [
    "# enumerate\n",
    "# enumerate는 '열거하다'라는 뜻이다. 자료형(튜플, 리스트, 문자열)을 입력으로 받아 인덱스 값을 포함하는 enumerate 객체를 돌려준다.\n",
    "for i, name in enumerate(['body', 'foo', 'bar']):\n",
    "    print(i, name)"
   ]
  },
  {
   "cell_type": "code",
   "execution_count": 22,
   "metadata": {},
   "outputs": [
    {
     "output_type": "stream",
     "name": "stdout",
     "text": [
      "[1, 2, 6]\n"
     ]
    }
   ],
   "source": [
    "# filter\n",
    "# 무엇인가를 걸러낸다는 뜻이다.\n",
    "\n",
    "def positive(l):\n",
    "    result = []     # 반환 값이 참인 것만 걸러내서 저장할 변수\n",
    "    for i in l:\n",
    "        if i > 0:   # i가 0보다 클 때\n",
    "            result.append(i)    # 리스트에 i 추가\n",
    "    return result\n",
    "\n",
    "print(positive([1, -3, 2, 0, -5, 6]))\n",
    "\n",
    "# positive 함수는 리스트를 입력값으로 받아 각각의 요소를 판별해서 양수 값만 돌려준다."
   ]
  },
  {
   "cell_type": "code",
   "execution_count": 19,
   "metadata": {},
   "outputs": [
    {
     "output_type": "stream",
     "name": "stdout",
     "text": [
      "[2, 4, 6, 8]\n[2, 4, 6, 8]\n"
     ]
    },
    {
     "output_type": "execute_result",
     "data": {
      "text/plain": [
       "[2, 4, 6, 8]"
      ]
     },
     "metadata": {},
     "execution_count": 19
    }
   ],
   "source": [
    "# map\n",
    "# map은 함수(f)와 반복 수행 가능한 자료형을 입력으로 받는다.\n",
    "\n",
    "## two_time 함수는 리스트 요소를 입력받아 각 요소에 2를 곱한 결괏값을 돌려준다.\n",
    "def two_times(numberList):\n",
    "    result = []\n",
    "    for number in numberList:\n",
    "        result.append(number*2)\n",
    "    return result\n",
    "\n",
    "result = two_times([1,2,3,4])\n",
    "print(result)\n",
    "\n",
    "## 위 예제는 map 함수를 사용하면 다음과 같다.\n",
    "def two_time(x): return x*2\n",
    "a = list(map(two_time, [1,2,3,4]))\n",
    "print(a)\n",
    "\n",
    "## lambda를 사용하면 다음처럼 간략하게 만들 수 있다.\n",
    "list(map(lambda a: a*2, [1,2,3,4]))"
   ]
  },
  {
   "source": [
    "### 5-6 라이브러리(외장 함수)\n",
    "#### import해서 사용한다."
   ],
   "cell_type": "markdown",
   "metadata": {}
  },
  {
   "cell_type": "code",
   "execution_count": 4,
   "metadata": {},
   "outputs": [
    {
     "output_type": "error",
     "ename": "ValueError",
     "evalue": "binary mode doesn't take an encoding argument",
     "traceback": [
      "\u001b[1;31m---------------------------------------------------------------------------\u001b[0m",
      "\u001b[1;31mValueError\u001b[0m                                Traceback (most recent call last)",
      "\u001b[1;32m<ipython-input-4-227e57bc7be8>\u001b[0m in \u001b[0;36m<module>\u001b[1;34m\u001b[0m\n\u001b[0;32m      3\u001b[0m \u001b[1;33m\u001b[0m\u001b[0m\n\u001b[0;32m      4\u001b[0m \u001b[1;32mimport\u001b[0m \u001b[0mpickle\u001b[0m\u001b[1;33m\u001b[0m\u001b[1;33m\u001b[0m\u001b[0m\n\u001b[1;32m----> 5\u001b[1;33m \u001b[0mf\u001b[0m \u001b[1;33m=\u001b[0m \u001b[0mopen\u001b[0m\u001b[1;33m(\u001b[0m\u001b[1;34m\"test.txt\"\u001b[0m\u001b[1;33m,\u001b[0m \u001b[1;34m'wb'\u001b[0m\u001b[1;33m,\u001b[0m \u001b[0mencoding\u001b[0m\u001b[1;33m=\u001b[0m\u001b[1;34m'UTF-8'\u001b[0m\u001b[1;33m)\u001b[0m\u001b[1;33m\u001b[0m\u001b[1;33m\u001b[0m\u001b[0m\n\u001b[0m\u001b[0;32m      6\u001b[0m \u001b[0mdata\u001b[0m \u001b[1;33m=\u001b[0m \u001b[1;33m{\u001b[0m\u001b[1;36m1\u001b[0m\u001b[1;33m:\u001b[0m \u001b[1;34m'python'\u001b[0m\u001b[1;33m,\u001b[0m \u001b[1;36m2\u001b[0m\u001b[1;33m:\u001b[0m \u001b[1;34m'you need'\u001b[0m\u001b[1;33m}\u001b[0m\u001b[1;33m\u001b[0m\u001b[1;33m\u001b[0m\u001b[0m\n\u001b[0;32m      7\u001b[0m \u001b[0mpickle\u001b[0m\u001b[1;33m.\u001b[0m\u001b[0mdump\u001b[0m\u001b[1;33m(\u001b[0m\u001b[0mdata\u001b[0m\u001b[1;33m,\u001b[0m \u001b[0mf\u001b[0m\u001b[1;33m)\u001b[0m\u001b[1;33m\u001b[0m\u001b[1;33m\u001b[0m\u001b[0m\n",
      "\u001b[1;31mValueError\u001b[0m: binary mode doesn't take an encoding argument"
     ]
    }
   ],
   "source": [
    "# pickle\n",
    "# 객체의 형태를 그대로 유지하면서 파일에 저장하고 불러올 수 있게 하는 모듈\n",
    "\n",
    "import pickle\n",
    "f = open(\"test.txt\", 'wb', encoding='UTF-8')\n",
    "data = {1: 'python', 2: 'you need'}\n",
    "pickle.dump(data, f)\n",
    "f.close()\n",
    "\n",
    "## 오류 발생: \"ValueError: binary mode doesn't take an encoding argument\""
   ]
  },
  {
   "cell_type": "code",
   "execution_count": 5,
   "metadata": {},
   "outputs": [
    {
     "output_type": "execute_result",
     "data": {
      "text/plain": [
       "(5, 'C:\\\\Users\\\\user\\\\AppData\\\\Local\\\\Temp\\\\tmpro5nbgr3')"
      ]
     },
     "metadata": {},
     "execution_count": 5
    }
   ],
   "source": [
    "# tempfile\n",
    "# 파일을 임시로 만들어서 사용할 때 유용한 모듈이다.\n",
    "# tempfile.mkstemp()는 중복되지 않는 임시 파일의 이름을 무작위로 돌려준다.\n",
    "import tempfile\n",
    "filename = tempfile.mkstemp()\n",
    "filename"
   ]
  },
  {
   "cell_type": "code",
   "execution_count": 28,
   "metadata": {},
   "outputs": [
    {
     "output_type": "stream",
     "name": "stdout",
     "text": [
      "0\n",
      "1\n",
      "2\n",
      "3\n",
      "4\n",
      "5\n",
      "6\n"
     ]
    },
    {
     "output_type": "error",
     "ename": "KeyboardInterrupt",
     "evalue": "",
     "traceback": [
      "\u001b[1;31m---------------------------------------------------------------------------\u001b[0m",
      "\u001b[1;31mKeyboardInterrupt\u001b[0m                         Traceback (most recent call last)",
      "\u001b[1;32m<ipython-input-28-a63f2d1d7899>\u001b[0m in \u001b[0;36m<module>\u001b[1;34m\u001b[0m\n\u001b[0;32m     30\u001b[0m \u001b[1;32mfor\u001b[0m \u001b[0mi\u001b[0m \u001b[1;32min\u001b[0m \u001b[0mrange\u001b[0m\u001b[1;33m(\u001b[0m\u001b[1;36m10\u001b[0m\u001b[1;33m)\u001b[0m\u001b[1;33m:\u001b[0m\u001b[1;33m\u001b[0m\u001b[1;33m\u001b[0m\u001b[0m\n\u001b[0;32m     31\u001b[0m     \u001b[0mprint\u001b[0m\u001b[1;33m(\u001b[0m\u001b[0mi\u001b[0m\u001b[1;33m)\u001b[0m\u001b[1;33m\u001b[0m\u001b[1;33m\u001b[0m\u001b[0m\n\u001b[1;32m---> 32\u001b[1;33m     \u001b[0mtime\u001b[0m\u001b[1;33m.\u001b[0m\u001b[0msleep\u001b[0m\u001b[1;33m(\u001b[0m\u001b[0mi\u001b[0m\u001b[1;33m)\u001b[0m\u001b[1;33m\u001b[0m\u001b[1;33m\u001b[0m\u001b[0m\n\u001b[0m",
      "\u001b[1;31mKeyboardInterrupt\u001b[0m: "
     ]
    }
   ],
   "source": [
    "# time(시간과 관련된 모듈)\n",
    "\n",
    "# time.time: 현재 시간을 실수 형태로 돌려주는 함수\n",
    "# 1970년 1월 1일 0시 0분 0초를 기준으로 지난 시간을 초 단위로 돌려준다.\n",
    "import time\n",
    "time.time()\n",
    "\n",
    "# time.localtime\n",
    "# time.localtime은 time.time이 돌려준 실수값을 사용해서 연도, 월, 일, 시, 분, 초, ...의 형태로 바꾸어 준다.\n",
    "time.localtime(time.time())\n",
    "\n",
    "## time.asctime\n",
    "## 위 time.localtime에 의해서 반환된 튜플 형태의 값을 인수로 받아서 날짜와 시간을 알라보기 쉬운 형태로 돌려주는 함수이다.\n",
    "time.asctime(time.localtime(time.time()))\n",
    "\n",
    "## time.ctime\n",
    "## time.ctime(time.asctime(time.localtime(time.time())))은 time.ctime()을 사용해 간편하게 표시할 수 있다.\n",
    "time.ctime()\n",
    "\n",
    "## time. strftime\n",
    "## 시간에 관계된 것을 세밀하게 표현하는 여러 가지 포맷 코드를 제공한다.\n",
    "import time\n",
    "time.strftime('%x', time.localtime(time.time()))\n",
    "\n",
    "import time\n",
    "time.strftime('%c', time.localtime(time.time()))\n",
    "\n",
    "## time.sleep\n",
    "## 일정한 시간 간격을 두고 루프를 실행할 수 있다.\n",
    "import time\n",
    "for i in range(10):\n",
    "    print(i)\n",
    "    time.sleep(i)"
   ]
  },
  {
   "cell_type": "code",
   "execution_count": 32,
   "metadata": {},
   "outputs": [
    {
     "output_type": "execute_result",
     "data": {
      "text/plain": [
       "[4, 5, 2, 1, 3]"
      ]
     },
     "metadata": {},
     "execution_count": 32
    }
   ],
   "source": [
    "# random\n",
    "# 난수를 발생시키는 모듈이다.\n",
    "\n",
    "## 0.0에서 1.0사이의 실수 중에서 난수 값을 돌려준다.\n",
    "# import random\n",
    "# random.random()\n",
    "\n",
    "## 1에서 10 사이의 정수 중에서 난수 값을 돌려준다.\n",
    "# random.randint(1, 10)\n",
    "\n",
    "## 리스트 항목을 무작위로 섞고 싶을 때는 random.shuffle 함수를 이용한다.\n",
    "import random\n",
    "data= [1,2,3,4,5]\n",
    "random.shuffle(data)\n",
    "data"
   ]
  },
  {
   "cell_type": "code",
   "execution_count": null,
   "metadata": {},
   "outputs": [],
   "source": []
  },
  {
   "cell_type": "code",
   "execution_count": null,
   "metadata": {},
   "outputs": [],
   "source": []
  },
  {
   "cell_type": "code",
   "execution_count": null,
   "metadata": {},
   "outputs": [],
   "source": []
  }
 ],
 "metadata": {
  "kernelspec": {
   "name": "python392jvsc74a57bd0ac59ebe37160ed0dfa835113d9b8498d9f09ceb179beaac4002f036b9467c963",
   "display_name": "Python 3.9.2 64-bit"
  },
  "language_info": {
   "codemirror_mode": {
    "name": "ipython",
    "version": 3
   },
   "file_extension": ".py",
   "mimetype": "text/x-python",
   "name": "python",
   "nbconvert_exporter": "python",
   "pygments_lexer": "ipython3",
   "version": "3.9.2"
  },
  "metadata": {
   "interpreter": {
    "hash": "ac59ebe37160ed0dfa835113d9b8498d9f09ceb179beaac4002f036b9467c963"
   }
  }
 },
 "nbformat": 4,
 "nbformat_minor": 4
}