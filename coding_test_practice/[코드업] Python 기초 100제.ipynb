{
 "cells": [
  {
   "cell_type": "markdown",
   "id": "62438df8-c68b-48cc-bc67-a4ea0315095c",
   "metadata": {},
   "source": [
    "# [[코드업] Python 기초 100제](https://codeup.kr/problemsetsol.php?psid=33)"
   ]
  },
  {
   "cell_type": "markdown",
   "id": "3cb08833-4232-448a-89aa-bcea5d9933a9",
   "metadata": {},
   "source": [
    "#### 6006"
   ]
  },
  {
   "cell_type": "code",
   "execution_count": 7,
   "id": "50861e18-2135-4824-91a1-2a7b34c580c4",
   "metadata": {},
   "outputs": [
    {
     "name": "stdout",
     "output_type": "stream",
     "text": [
      "\"!@#$%^&*()'\n"
     ]
    }
   ],
   "source": [
    "print('\\\"!@#$%^&*()\\'')"
   ]
  },
  {
   "cell_type": "markdown",
   "id": "5317f1d7-990f-4dfa-aa14-18cfa2b59e11",
   "metadata": {},
   "source": [
    "#### 6007\n",
    "\n",
    "\"C:\\Download\\'hello'.py\"  \n",
    "(단, 따옴표도 함께 출력한다.)"
   ]
  },
  {
   "cell_type": "code",
   "execution_count": 13,
   "id": "bd1dc7c5-2ee5-47ab-b6bb-1c0cb8cc2e7a",
   "metadata": {},
   "outputs": [
    {
     "name": "stdout",
     "output_type": "stream",
     "text": [
      "\"C:\\Download\\'hello'.py\"\n"
     ]
    }
   ],
   "source": [
    "print(\"\\\"C:\\Download\\\\'hello'.py\\\"\")"
   ]
  },
  {
   "cell_type": "markdown",
   "id": "7f9aea66-643a-465b-87bf-6c158d996fe8",
   "metadata": {},
   "source": [
    "#### 6008\n",
    "\n",
    "print(\"Hello\\nWorld\")  \n",
    "위 코드를 정확히 그대로 출력하시오."
   ]
  },
  {
   "cell_type": "code",
   "execution_count": 15,
   "id": "872e6609-f47e-49a3-9b99-b4212e749e47",
   "metadata": {},
   "outputs": [
    {
     "name": "stdout",
     "output_type": "stream",
     "text": [
      "print(\"Hello\\nWorld\")\n"
     ]
    }
   ],
   "source": [
    "print('print(\"Hello\\\\nWorld\")')"
   ]
  },
  {
   "cell_type": "markdown",
   "id": "a83b4f32-4612-49a9-a436-11b2188fa3c1",
   "metadata": {},
   "source": [
    "#### 6009"
   ]
  },
  {
   "cell_type": "code",
   "execution_count": 17,
   "id": "d73e4526-4319-4f59-9780-8a80557280aa",
   "metadata": {},
   "outputs": [
    {
     "name": "stdin",
     "output_type": "stream",
     "text": [
      " ed\n"
     ]
    },
    {
     "name": "stdout",
     "output_type": "stream",
     "text": [
      "ed\n"
     ]
    }
   ],
   "source": [
    "c = input()\n",
    "print(c)"
   ]
  },
  {
   "cell_type": "markdown",
   "id": "1f7f6926-bf5a-400f-b378-2aa17f72d047",
   "metadata": {},
   "source": [
    "#### 6010"
   ]
  },
  {
   "cell_type": "code",
   "execution_count": 18,
   "id": "c203b85a-06df-4bec-8e74-bfadaaa9f9d4",
   "metadata": {},
   "outputs": [
    {
     "name": "stdin",
     "output_type": "stream",
     "text": [
      " -1\n"
     ]
    },
    {
     "name": "stdout",
     "output_type": "stream",
     "text": [
      "-1\n"
     ]
    }
   ],
   "source": [
    "c = input()\n",
    "c = int(c)\n",
    "print(c)"
   ]
  },
  {
   "cell_type": "markdown",
   "id": "8e965764-84ca-45cc-9007-4307f10d7eb8",
   "metadata": {},
   "source": [
    "#### 6012"
   ]
  },
  {
   "cell_type": "code",
   "execution_count": 19,
   "id": "a4591787-2f49-42ed-ab64-9ce4d4afde3b",
   "metadata": {},
   "outputs": [
    {
     "name": "stdin",
     "output_type": "stream",
     "text": [
      " 2\n",
      " 3\n"
     ]
    },
    {
     "name": "stdout",
     "output_type": "stream",
     "text": [
      "2\n",
      "3\n"
     ]
    }
   ],
   "source": [
    "a = input()\n",
    "b = input()\n",
    "print(a)\n",
    "print(b)"
   ]
  },
  {
   "cell_type": "markdown",
   "id": "a5539187-a483-488c-b129-cbba33e32a32",
   "metadata": {},
   "source": [
    "#### 6013"
   ]
  },
  {
   "cell_type": "code",
   "execution_count": 21,
   "id": "fb748d0d-51bf-4c19-ac08-5f132bffe7b2",
   "metadata": {},
   "outputs": [
    {
     "name": "stdin",
     "output_type": "stream",
     "text": [
      " a\n",
      " b\n"
     ]
    },
    {
     "name": "stdout",
     "output_type": "stream",
     "text": [
      "b\n",
      "a\n"
     ]
    }
   ],
   "source": [
    "a = input()\n",
    "b = input()\n",
    "print(b)\n",
    "print(a)"
   ]
  },
  {
   "cell_type": "markdown",
   "id": "399fec2c-385e-4414-92ed-9b489eb631af",
   "metadata": {},
   "source": [
    "#### 6014"
   ]
  },
  {
   "cell_type": "code",
   "execution_count": 22,
   "id": "a7a14202-1b0f-46c5-ba3d-f215149dd1a4",
   "metadata": {},
   "outputs": [
    {
     "name": "stdin",
     "output_type": "stream",
     "text": [
      " 3.14\n"
     ]
    },
    {
     "name": "stdout",
     "output_type": "stream",
     "text": [
      "3.14\n",
      "3.14\n",
      "3.14\n"
     ]
    }
   ],
   "source": [
    "a = float(input())\n",
    "print(a)\n",
    "print(a)\n",
    "print(a)"
   ]
  },
  {
   "cell_type": "markdown",
   "id": "780fd4d3-6235-458b-b513-c0960a28060b",
   "metadata": {},
   "source": [
    "#### 6015\n",
    "공백을 두고 입력된정수(integer) 2개를 입력받아 줄을 바꿔 출력해보자."
   ]
  },
  {
   "cell_type": "code",
   "execution_count": 27,
   "id": "67fb26d6-bf45-4da3-8040-c98e8e1cbfba",
   "metadata": {},
   "outputs": [
    {
     "name": "stdin",
     "output_type": "stream",
     "text": [
      " a 2\n"
     ]
    },
    {
     "name": "stdout",
     "output_type": "stream",
     "text": [
      "a\n",
      "2\n"
     ]
    }
   ],
   "source": [
    "a, b = input().split()\n",
    "print(a)\n",
    "print(b)"
   ]
  },
  {
   "cell_type": "markdown",
   "id": "4cd2aef5-2b92-4af9-898b-717e2d84d7b9",
   "metadata": {},
   "source": [
    "#### 6016\n",
    "공백을 두고 문자(character) 2개를 입력받아 순서를 바꿔 출력해보자."
   ]
  },
  {
   "cell_type": "code",
   "execution_count": 32,
   "id": "e342b7f2-d2d2-4106-81d5-c09d2eeeef8e",
   "metadata": {},
   "outputs": [
    {
     "name": "stdin",
     "output_type": "stream",
     "text": [
      " qkr dud\n"
     ]
    },
    {
     "name": "stdout",
     "output_type": "stream",
     "text": [
      "dud\n",
      "qkr\n"
     ]
    }
   ],
   "source": [
    "a, b = str(input()).split()\n",
    "print(b)\n",
    "print(a)"
   ]
  },
  {
   "cell_type": "markdown",
   "id": "eeb9cfa4-112d-4064-b8ad-2f51bcb844cc",
   "metadata": {},
   "source": [
    "#### 6017\n",
    "정수(integer), 실수, 문자(character), 문자열(string) 등 1개만 입력받아 한 줄로 3번 출력해보자."
   ]
  },
  {
   "cell_type": "code",
   "execution_count": 37,
   "id": "83cfb6a6-5b6b-4790-a05a-44e02cf2be45",
   "metadata": {},
   "outputs": [
    {
     "name": "stdin",
     "output_type": "stream",
     "text": [
      " 1\n"
     ]
    },
    {
     "name": "stdout",
     "output_type": "stream",
     "text": [
      "1 1 1\n"
     ]
    }
   ],
   "source": [
    "c = input()\n",
    "print(c, c, c)"
   ]
  },
  {
   "cell_type": "markdown",
   "id": "f8a3bee7-a43c-40ab-8d32-6e87220368db",
   "metadata": {},
   "source": [
    "#### 6018\n",
    "24시간 **시:분 형식으로 시간이 입력**될 때, 그대로 출력하는 연습을 해보자."
   ]
  },
  {
   "cell_type": "code",
   "execution_count": 41,
   "id": "7b2aa936-45c4-452f-a90f-f1ddd3e7dc4f",
   "metadata": {},
   "outputs": [
    {
     "name": "stdin",
     "output_type": "stream",
     "text": [
      " 3:16\n"
     ]
    },
    {
     "name": "stdout",
     "output_type": "stream",
     "text": [
      "3:16\n"
     ]
    }
   ],
   "source": [
    "a, b = input().split(':')\n",
    "print(a, b, sep = ':')"
   ]
  },
  {
   "cell_type": "markdown",
   "id": "dcfd48be-e8b1-459f-8113-8f0fd0fb4c19",
   "metadata": {},
   "source": [
    "#### 6019\n",
    "\n",
    "\"연도.월.일\"을 입력받아 \"일-월-연도\" 순서로 바꿔 출력해보자."
   ]
  },
  {
   "cell_type": "code",
   "execution_count": 43,
   "id": "d74ed4ea-1a8f-4dc8-be6f-7b42a0baf4b6",
   "metadata": {},
   "outputs": [
    {
     "name": "stdin",
     "output_type": "stream",
     "text": [
      " 2021.02.04\n"
     ]
    },
    {
     "name": "stdout",
     "output_type": "stream",
     "text": [
      "04-02-2021\n"
     ]
    }
   ],
   "source": [
    "a, b, c = input().split('.')\n",
    "print(c, b, a, sep='-')"
   ]
  },
  {
   "cell_type": "markdown",
   "id": "2228297c-1000-4ca8-b269-be1af929eed2",
   "metadata": {},
   "source": [
    "#### *6020*\n",
    "주민번호를 입력받아 형태를 바꿔 출력해보자.  \n",
    "'-'를 제외한 주민번호 13자리를 모두 붙여 출력한다."
   ]
  },
  {
   "cell_type": "code",
   "execution_count": 45,
   "id": "e4b8f4a9-390f-4c69-9110-b798c5702e68",
   "metadata": {},
   "outputs": [
    {
     "name": "stdin",
     "output_type": "stream",
     "text": [
      " 000907-1121112\n"
     ]
    },
    {
     "name": "stdout",
     "output_type": "stream",
     "text": [
      "0009071121112\n"
     ]
    }
   ],
   "source": [
    "a, b = input().split('-')\n",
    "print(a, b, sep=\"\")"
   ]
  },
  {
   "cell_type": "markdown",
   "id": "40e04e33-96ef-4753-b97c-1e0ee649366c",
   "metadata": {},
   "source": [
    "#### 6021\n",
    "알파벳과 숫자로 이루어진 단어 1개가 입력된다.  \n",
    "입력받은 단어의 각 문자를 한 줄에 한 문자씩 분리해 출력한다."
   ]
  },
  {
   "cell_type": "code",
   "execution_count": 50,
   "id": "4e96c255-d0b5-440f-9ccd-8e521ad7f8ab",
   "metadata": {},
   "outputs": [
    {
     "name": "stdin",
     "output_type": "stream",
     "text": [
      " Hello\n"
     ]
    },
    {
     "name": "stdout",
     "output_type": "stream",
     "text": [
      "H\n",
      "e\n",
      "l\n",
      "l\n",
      "o\n"
     ]
    }
   ],
   "source": [
    "a = str(input())\n",
    "for i in range(len(a)):\n",
    "    print(a[i])"
   ]
  },
  {
   "cell_type": "markdown",
   "id": "91207864-32ab-43f6-8b28-768fc6286baa",
   "metadata": {},
   "source": [
    "#### 6022\n",
    "6자리의 연월일(YYMMDD)을 입력받아 나누어 출력해보자.  \n",
    "년도(YY) 월(MM) 일(DD)을 공백으로 구분해 한 줄로 출력한다."
   ]
  },
  {
   "cell_type": "code",
   "execution_count": 53,
   "id": "42e1ef7b-191d-429d-9c87-d0fef6307da6",
   "metadata": {},
   "outputs": [
    {
     "name": "stdin",
     "output_type": "stream",
     "text": [
      " 971219\n"
     ]
    },
    {
     "name": "stdout",
     "output_type": "stream",
     "text": [
      "97 12 19\n"
     ]
    }
   ],
   "source": [
    "a = input()\n",
    "print(a[0:2], a[2:4], a[4:6], sep=\" \")"
   ]
  },
  {
   "cell_type": "markdown",
   "id": "89323912-92f4-46b3-80fa-0b3ef259b88b",
   "metadata": {},
   "source": [
    "#### 6023\n",
    "시:분:초 형식으로 시간이 입력될 때 분만 출력해보자."
   ]
  },
  {
   "cell_type": "code",
   "execution_count": 58,
   "id": "18740135-d10a-4e4b-ad1b-062ec5688adb",
   "metadata": {},
   "outputs": [
    {
     "name": "stdin",
     "output_type": "stream",
     "text": [
      " 17:23:57\n"
     ]
    },
    {
     "name": "stdout",
     "output_type": "stream",
     "text": [
      "23\n"
     ]
    }
   ],
   "source": [
    "a=input().split(':')\n",
    "print(a[1])"
   ]
  },
  {
   "cell_type": "markdown",
   "id": "5b4f396a-b800-42e4-8509-c2808b0e4f8e",
   "metadata": {},
   "source": [
    "#### 6024\n",
    "알파벳 문자와 숫자로 이루어진 단어 2개를 입력받아  \n",
    "순서대로 붙여 출력하는 프로그램을 작성해보자."
   ]
  },
  {
   "cell_type": "code",
   "execution_count": 59,
   "id": "d9807059-190a-47a4-a18b-533c42ee7991",
   "metadata": {},
   "outputs": [
    {
     "name": "stdin",
     "output_type": "stream",
     "text": [
      " hello world\n"
     ]
    },
    {
     "name": "stdout",
     "output_type": "stream",
     "text": [
      "helloworld\n"
     ]
    }
   ],
   "source": [
    "a, b = input().split(' ')\n",
    "print(a, b, sep='')"
   ]
  },
  {
   "cell_type": "markdown",
   "id": "2fb30788-538b-4d1f-bf41-3ae79b1347da",
   "metadata": {},
   "source": [
    "#### 6025\n",
    "정수 2개를 입력받아 합을 출력하는 프로그램을 작성해보자."
   ]
  },
  {
   "cell_type": "code",
   "execution_count": 64,
   "id": "a144b9af-03b5-4d5c-abed-ac487aac34a7",
   "metadata": {},
   "outputs": [
    {
     "name": "stdin",
     "output_type": "stream",
     "text": [
      " 123 -123\n"
     ]
    },
    {
     "name": "stdout",
     "output_type": "stream",
     "text": [
      "0\n"
     ]
    }
   ],
   "source": [
    "a, b = input().split(' ')\n",
    "print(int(a) + int(b))"
   ]
  },
  {
   "cell_type": "markdown",
   "id": "db2a2e2b-3d97-4f4f-93f5-620209a59e8c",
   "metadata": {},
   "source": [
    "#### 6026\n",
    "실수 2개를 입력받아 합을 출력하는 프로그램을 작성해보자."
   ]
  },
  {
   "cell_type": "code",
   "execution_count": 67,
   "id": "f8ad18da-0bb0-440d-ad30-9d325ea148f7",
   "metadata": {},
   "outputs": [
    {
     "name": "stdin",
     "output_type": "stream",
     "text": [
      " 0.1\n",
      " 0.9\n"
     ]
    },
    {
     "name": "stdout",
     "output_type": "stream",
     "text": [
      "1.0\n"
     ]
    }
   ],
   "source": [
    "a = input()\n",
    "b = input()\n",
    "c = float(a) + float(b)\n",
    "print(c)"
   ]
  },
  {
   "cell_type": "markdown",
   "id": "56adbae2-c658-4ca8-b8b0-abba635b9c15",
   "metadata": {},
   "source": [
    "#### *6027*\n",
    "10진수를 입력받아 16진수(hexadecimal)로 출력해보자."
   ]
  },
  {
   "cell_type": "code",
   "execution_count": 70,
   "id": "e86a8ff3-8a9e-4f54-b560-7a26b7d5db0c",
   "metadata": {},
   "outputs": [
    {
     "name": "stdin",
     "output_type": "stream",
     "text": [
      " 255\n"
     ]
    },
    {
     "name": "stdout",
     "output_type": "stream",
     "text": [
      "ff\n"
     ]
    }
   ],
   "source": [
    "a = input()\n",
    "n = int(a)\n",
    "print('%x'%n) # 16진수(hexadecimal)"
   ]
  },
  {
   "cell_type": "markdown",
   "id": "6fc583e9-c927-40e2-b2fc-c05bd1e87b92",
   "metadata": {},
   "source": [
    "#### *6028*\n",
    "10진수를 입력받아 16진수(hexadecimal)로 출력해보자.  \n",
    "print('%X' % n)  #n에 저장되어있는 값을 16진수 **대문자** 형태 문자열로 출력"
   ]
  },
  {
   "cell_type": "code",
   "execution_count": 5,
   "id": "fbe16c0a-c3a4-4ecb-9bd7-c840b6bb911f",
   "metadata": {},
   "outputs": [
    {
     "name": "stdin",
     "output_type": "stream",
     "text": [
      " 255\n"
     ]
    },
    {
     "name": "stdout",
     "output_type": "stream",
     "text": [
      "FF\n"
     ]
    }
   ],
   "source": [
    "a = input()\n",
    "n = int(a)\n",
    "print('%X'%n)"
   ]
  },
  {
   "cell_type": "markdown",
   "id": "47f3a0db-3aae-443d-8a58-6aa7e047314f",
   "metadata": {},
   "source": [
    "#### *6029*\n",
    "16진수를 입력받아 8진수(octal)로 출력해보자."
   ]
  },
  {
   "cell_type": "code",
   "execution_count": 6,
   "id": "5fb0c3bf-7b83-4cf4-8d7f-b053b967b4b9",
   "metadata": {},
   "outputs": [
    {
     "name": "stdin",
     "output_type": "stream",
     "text": [
      " f\n"
     ]
    },
    {
     "name": "stdout",
     "output_type": "stream",
     "text": [
      "17\n"
     ]
    }
   ],
   "source": [
    "a = input()\n",
    "n = int(a, 16)\n",
    "print('%o'%n) # 8진주(octal)"
   ]
  },
  {
   "cell_type": "markdown",
   "id": "45a1743d-c198-442d-924a-0f4bb31d4cca",
   "metadata": {},
   "source": [
    "#### *6030*\n",
    "영문자 1개 입력받아 10진수로 변환하기"
   ]
  },
  {
   "cell_type": "code",
   "execution_count": 7,
   "id": "e1077fec-af2a-47b2-9443-f39795a53e84",
   "metadata": {},
   "outputs": [
    {
     "name": "stdin",
     "output_type": "stream",
     "text": [
      " A\n"
     ]
    },
    {
     "name": "stdout",
     "output_type": "stream",
     "text": [
      "65\n"
     ]
    }
   ],
   "source": [
    "a = ord(input())\n",
    "print(a)"
   ]
  },
  {
   "cell_type": "markdown",
   "id": "f429e513-2f23-4be0-836d-dc942209154d",
   "metadata": {},
   "source": [
    "#### *6031*\n",
    "10진 정수 1개를 입력받아 유니코드 문자로 출력해보자."
   ]
  },
  {
   "cell_type": "code",
   "execution_count": 10,
   "id": "7eac4b9a-7f52-43ba-aa3e-b27afb15e6fa",
   "metadata": {},
   "outputs": [
    {
     "name": "stdin",
     "output_type": "stream",
     "text": [
      " 65\n"
     ]
    },
    {
     "name": "stdout",
     "output_type": "stream",
     "text": [
      "A\n"
     ]
    }
   ],
   "source": [
    "a = int(input())\n",
    "print(chr(a))"
   ]
  },
  {
   "cell_type": "markdown",
   "id": "91fffefb-484f-4270-ae96-1d625ae413c1",
   "metadata": {},
   "source": [
    "#### *6033*\n",
    "문자 1개를 입력받아 그 다음 문자를 출력해보자.  \n",
    "영문자 'A'의 다음 문자는 'B'이고, 숫자 '0'의 다음 문자는 '1'이다."
   ]
  },
  {
   "cell_type": "code",
   "execution_count": 15,
   "id": "5f322113-31d2-4ae4-a105-199d08f82ce2",
   "metadata": {},
   "outputs": [
    {
     "name": "stdin",
     "output_type": "stream",
     "text": [
      " a\n"
     ]
    },
    {
     "name": "stdout",
     "output_type": "stream",
     "text": [
      "b\n"
     ]
    }
   ],
   "source": [
    "a = input()\n",
    "b = ord(a)\n",
    "print(chr(b + 1))"
   ]
  },
  {
   "cell_type": "markdown",
   "id": "2dbc388b-c241-4a0c-ba8b-cc95d94b08fa",
   "metadata": {},
   "source": [
    "#### 6036\n",
    "단어와 반복 횟수를 입력받아 여러 번 출력해보자."
   ]
  },
  {
   "cell_type": "code",
   "execution_count": 18,
   "id": "67110411-a108-4672-a406-f49dcdc736aa",
   "metadata": {},
   "outputs": [
    {
     "name": "stdin",
     "output_type": "stream",
     "text": [
      " love 3\n"
     ]
    },
    {
     "name": "stdout",
     "output_type": "stream",
     "text": [
      "lovelovelove\n"
     ]
    }
   ],
   "source": [
    "a, b = input().split()\n",
    "print(a*int(b))"
   ]
  },
  {
   "cell_type": "markdown",
   "id": "ffaf83ac-17d5-47ea-8b05-8409ab7ef81a",
   "metadata": {},
   "source": [
    "#### 6037\n",
    "반복 횟수와 문장을 입력받아 여러 번 출력해보자."
   ]
  },
  {
   "cell_type": "code",
   "execution_count": 19,
   "id": "3cb74289-c511-4601-8971-9f948102ca9a",
   "metadata": {},
   "outputs": [
    {
     "name": "stdin",
     "output_type": "stream",
     "text": [
      " 3\n",
      " I love CS\n"
     ]
    },
    {
     "name": "stdout",
     "output_type": "stream",
     "text": [
      "I love CSI love CSI love CS\n"
     ]
    }
   ],
   "source": [
    "a = int(input())\n",
    "b = input()\n",
    "print(a*b)"
   ]
  },
  {
   "cell_type": "markdown",
   "id": "d6a26983-a0bf-4bf8-a51b-6210172a7df6",
   "metadata": {},
   "source": [
    "#### 6038\n",
    "정수 2개(a, b)를 입력받아\n",
    "a를 b번 곱한 거듭제곱을 출력하는 프로그램을 작성해보자."
   ]
  },
  {
   "cell_type": "code",
   "execution_count": 26,
   "id": "3087e6b4-9886-4f31-979d-4a525fa63b56",
   "metadata": {},
   "outputs": [
    {
     "name": "stdin",
     "output_type": "stream",
     "text": [
      " 2 10\n"
     ]
    },
    {
     "name": "stdout",
     "output_type": "stream",
     "text": [
      "1024\n"
     ]
    }
   ],
   "source": [
    "a, b = input().split()\n",
    "a = int(a)\n",
    "b = int(b)\n",
    "print(a**b)"
   ]
  },
  {
   "cell_type": "markdown",
   "id": "bb5813d7-e7bd-47b5-b01b-4513ede9abbf",
   "metadata": {},
   "source": [
    "#### 6039\n",
    "실수 2개(f1, f2)를 입력받아 f1을 f2번 거듭제곱한 값을 출력하는 프로그램을 작성해보자."
   ]
  },
  {
   "cell_type": "code",
   "execution_count": 27,
   "id": "895155aa-91ad-4385-9fbc-4b977c2e184d",
   "metadata": {},
   "outputs": [
    {
     "name": "stdin",
     "output_type": "stream",
     "text": [
      " 4.0 2.0\n"
     ]
    },
    {
     "name": "stdout",
     "output_type": "stream",
     "text": [
      "16.0\n"
     ]
    }
   ],
   "source": [
    "a, b = input().split()\n",
    "a = float(a)\n",
    "b = float(b)\n",
    "print(a**b)"
   ]
  },
  {
   "cell_type": "markdown",
   "id": "046838dd-e46e-4bcc-9979-16fbeea8d4a2",
   "metadata": {},
   "source": [
    "#### 6040\n",
    "a를 b로 나눈 몫을 출력한다."
   ]
  },
  {
   "cell_type": "code",
   "execution_count": 32,
   "id": "584bb789-beb0-4930-a116-92fe96762c97",
   "metadata": {},
   "outputs": [
    {
     "name": "stdin",
     "output_type": "stream",
     "text": [
      " 10 3\n"
     ]
    },
    {
     "name": "stdout",
     "output_type": "stream",
     "text": [
      "3\n"
     ]
    }
   ],
   "source": [
    "a, b = input().split()\n",
    "a = int(a)\n",
    "b = int(b)\n",
    "print(a//b)"
   ]
  },
  {
   "cell_type": "markdown",
   "id": "0e58cebe-d5e6-4ec4-a340-07c83bf213bf",
   "metadata": {},
   "source": [
    "#### 6042\n",
    "실수 1개를 입력받아 소숫점 이하 두 번째 자리까지의 정확도로 반올림한 값을 출력해보자."
   ]
  },
  {
   "cell_type": "code",
   "execution_count": 34,
   "id": "ae3f34a4-96e2-423d-98ad-f3f6f717120c",
   "metadata": {},
   "outputs": [
    {
     "name": "stdin",
     "output_type": "stream",
     "text": [
      " 3.141592\n"
     ]
    },
    {
     "name": "stdout",
     "output_type": "stream",
     "text": [
      "3.14\n"
     ]
    }
   ],
   "source": [
    "a = float(input())\n",
    "print('{:.2f}'.format(a))"
   ]
  },
  {
   "cell_type": "code",
   "execution_count": 35,
   "id": "600f5950-a0bd-4866-beca-6cac90a677bf",
   "metadata": {},
   "outputs": [
    {
     "name": "stdin",
     "output_type": "stream",
     "text": [
      " 3.141592\n"
     ]
    },
    {
     "name": "stdout",
     "output_type": "stream",
     "text": [
      "3.14\n"
     ]
    }
   ],
   "source": [
    "a=float(input())\n",
    "print( format(a, \".2f\") )"
   ]
  },
  {
   "cell_type": "markdown",
   "id": "3e20623f-555e-435e-af7f-85b71f297f5a",
   "metadata": {},
   "source": [
    "#### 6044\n",
    "\n",
    "정수 2개(a, b)를 입력받아 합, 차, 곱, 몫, 나머지, 나눈 값을 자동으로 계산해보자.  \n",
    "단 0 <= a, b <= 2147483647, b는 0이 아니다."
   ]
  },
  {
   "cell_type": "code",
   "execution_count": 44,
   "id": "c08e672b-2208-4453-8d3a-c8e7889b5745",
   "metadata": {},
   "outputs": [
    {
     "name": "stdin",
     "output_type": "stream",
     "text": [
      " 10 3\n"
     ]
    },
    {
     "name": "stdout",
     "output_type": "stream",
     "text": [
      "13\n",
      "7\n",
      "30\n",
      "3\n",
      "1\n",
      "3.33\n"
     ]
    }
   ],
   "source": [
    "a, b = input().split()\n",
    "a = int(a); b = int(b)\n",
    "print(a+b)\n",
    "print(a-b)\n",
    "print(a*b)\n",
    "print(a//b)\n",
    "print(a%b)\n",
    "print(format(a/b, '.2f'))"
   ]
  },
  {
   "cell_type": "markdown",
   "id": "a2a49897-70f3-4ecf-b4ca-8138a87e5565",
   "metadata": {},
   "source": [
    "#### 6045\n",
    "정수 3개를 입력받아 합과 평균을 출력해보자."
   ]
  },
  {
   "cell_type": "code",
   "execution_count": 49,
   "id": "4453fff8-554d-4503-9d1c-ddc49ab8d0f9",
   "metadata": {},
   "outputs": [
    {
     "name": "stdin",
     "output_type": "stream",
     "text": [
      " 1 2 3\n"
     ]
    },
    {
     "name": "stdout",
     "output_type": "stream",
     "text": [
      "6 2.00\n"
     ]
    }
   ],
   "source": [
    "a, b, c = input().split()\n",
    "s = int(a) + int(b) + int(c)\n",
    "m = ( int(a) + int(b) + int(c) ) / 3\n",
    "print(s, format(m, '.2f'))"
   ]
  },
  {
   "cell_type": "markdown",
   "id": "4cf3b4b2-3f0e-46ac-9ce6-9f5f859341e2",
   "metadata": {},
   "source": [
    "#### *6046*\n",
    "정수 1개를 입력받아 2배 곱해 출력해보자."
   ]
  },
  {
   "cell_type": "code",
   "execution_count": 51,
   "id": "aec48372-8ca3-4045-bd79-64095963086e",
   "metadata": {},
   "outputs": [
    {
     "name": "stdin",
     "output_type": "stream",
     "text": [
      " 1024\n"
     ]
    },
    {
     "name": "stdout",
     "output_type": "stream",
     "text": [
      "2048\n"
     ]
    }
   ],
   "source": [
    "a = int(input())\n",
    "print(a<<1)"
   ]
  },
  {
   "cell_type": "markdown",
   "id": "ee5e0375-3af5-46ce-9bb5-264a494034d3",
   "metadata": {},
   "source": [
    "#### *6047*\n",
    "정수 2개(a, b)를 입력받아 a를 2^b배 곱한 값으로 출력해보자.  \n",
    "0 <= a <= 10, 0 <= b <= 10"
   ]
  },
  {
   "cell_type": "code",
   "execution_count": 58,
   "id": "ad4d0ac6-ebef-416e-a5d9-b70072780c3c",
   "metadata": {},
   "outputs": [
    {
     "name": "stdin",
     "output_type": "stream",
     "text": [
      " 1 3\n"
     ]
    },
    {
     "name": "stdout",
     "output_type": "stream",
     "text": [
      "8\n"
     ]
    }
   ],
   "source": [
    "a, b = map(int, input().split())\n",
    "print(a<<b)"
   ]
  },
  {
   "cell_type": "markdown",
   "id": "82e8f594-d661-413e-ad31-e3f001032c3e",
   "metadata": {},
   "source": [
    "#### 6048\n",
    "두 정수(a, b)를 입력받아 a가 b보다 작으면 True 를, a가 b보다 크거나 같으면 False 를 출력하는 프로그램을 작성해보자."
   ]
  },
  {
   "cell_type": "code",
   "execution_count": 63,
   "id": "8102f33e-22bf-49f7-9de8-efd1bca7cf7e",
   "metadata": {},
   "outputs": [
    {
     "name": "stdin",
     "output_type": "stream",
     "text": [
      " 1 9\n"
     ]
    },
    {
     "name": "stdout",
     "output_type": "stream",
     "text": [
      "True\n"
     ]
    }
   ],
   "source": [
    "a, b = map(int, input().split())\n",
    "if a < b:\n",
    "    print('True')\n",
    "else:\n",
    "    print('False')"
   ]
  },
  {
   "cell_type": "markdown",
   "id": "f441eea5-0fc0-4185-a72b-5c324fbe4e16",
   "metadata": {},
   "source": [
    "#### *6052*\n",
    "정수가 입력되었을 때, True/False 로 평가해주는 프로그램을 작성해보자."
   ]
  },
  {
   "cell_type": "code",
   "execution_count": 68,
   "id": "f9241b20-d9c6-4393-b765-9c56886f9270",
   "metadata": {},
   "outputs": [
    {
     "name": "stdin",
     "output_type": "stream",
     "text": [
      " 0\n"
     ]
    },
    {
     "name": "stdout",
     "output_type": "stream",
     "text": [
      "False\n"
     ]
    }
   ],
   "source": [
    "a= int(input())\n",
    "print(bool(a))"
   ]
  },
  {
   "cell_type": "markdown",
   "id": "a019d57f-63e9-4dbe-bece-607a025b6493",
   "metadata": {},
   "source": [
    "#### *6053*\n",
    "정수값이 입력될 때, 그 불 값을 반대로 출력하는 프로그램을 작성해보자."
   ]
  },
  {
   "cell_type": "code",
   "execution_count": 72,
   "id": "a4bbb281-8975-4977-b184-5fcec8e6ae93",
   "metadata": {},
   "outputs": [
    {
     "name": "stdin",
     "output_type": "stream",
     "text": [
      " 1\n"
     ]
    },
    {
     "name": "stdout",
     "output_type": "stream",
     "text": [
      "False\n"
     ]
    }
   ],
   "source": [
    "a= bool(int(input()))\n",
    "print(not a)"
   ]
  },
  {
   "cell_type": "markdown",
   "id": "95c0719d-77da-4263-8e84-71611839c574",
   "metadata": {},
   "source": [
    "#### 6054\n",
    "2개의 정수값이 입력될 때, 그 불 값이 모두 True 일 때에만 True 를 출력하는 프로그램을 작성해보자."
   ]
  },
  {
   "cell_type": "code",
   "execution_count": 75,
   "id": "768c70c6-5389-40a5-ac44-293a8820aed5",
   "metadata": {},
   "outputs": [
    {
     "name": "stdin",
     "output_type": "stream",
     "text": [
      " 0 1\n"
     ]
    },
    {
     "name": "stdout",
     "output_type": "stream",
     "text": [
      "False\n"
     ]
    }
   ],
   "source": [
    "a, b = map(int, input().split())\n",
    "if bool(a) & bool(b):\n",
    "    print('True')\n",
    "else:\n",
    "    print('False')"
   ]
  },
  {
   "cell_type": "markdown",
   "id": "ff337307-579b-4fb0-a1ea-990cb78ebfcf",
   "metadata": {},
   "source": [
    "#### *6056*\n",
    "2개의 정수값이 입력될 때, 그 불 값(True/False) 이 서로 다를 때에만 True 를 출력하는 프로그램을 작성해보자.\n"
   ]
  },
  {
   "cell_type": "code",
   "execution_count": 84,
   "id": "7b46d770-b8f1-4dde-ba81-e59701e842ba",
   "metadata": {},
   "outputs": [
    {
     "name": "stdin",
     "output_type": "stream",
     "text": [
      " 1 1\n"
     ]
    },
    {
     "name": "stdout",
     "output_type": "stream",
     "text": [
      "False\n"
     ]
    }
   ],
   "source": [
    "a, b = map(int, input().split())\n",
    "c = bool(a)\n",
    "d = bool(b)\n",
    "print((c and (not d)) or ((not c) and d))"
   ]
  },
  {
   "cell_type": "markdown",
   "id": "e3a9b37f-279d-47ba-8867-7bb70d88d5ae",
   "metadata": {},
   "source": [
    "#### *6057*\n",
    "2개의 정수값이 입력될 때, 그 불 값(True/False) 이 서로 같을 때에만 True 를 출력하는 프로그램을 작성해보자."
   ]
  },
  {
   "cell_type": "code",
   "execution_count": 90,
   "id": "c7e6e544-66bf-4660-8aa3-ec799295aa23",
   "metadata": {},
   "outputs": [
    {
     "name": "stdin",
     "output_type": "stream",
     "text": [
      " 0 0\n"
     ]
    },
    {
     "name": "stdout",
     "output_type": "stream",
     "text": [
      "True\n"
     ]
    }
   ],
   "source": [
    "a, b = map(int, input().split())\n",
    "c = bool(a)\n",
    "d = bool(b)\n",
    "print((c and d) or ((not c) and (not d)))"
   ]
  },
  {
   "cell_type": "markdown",
   "id": "8c04ff86-0b02-4005-ad0a-7023996e5060",
   "metadata": {},
   "source": [
    "#### 6058\n",
    "2개의 정수값이 입력될 때, 그 불 값(True/False) 이 모두 False 일 때에만 True 를 출력하는 프로그램을 작성해보자."
   ]
  },
  {
   "cell_type": "code",
   "execution_count": 91,
   "id": "6740ac0a-aa08-4bf6-a8e3-39fb0d19004d",
   "metadata": {},
   "outputs": [
    {
     "name": "stdin",
     "output_type": "stream",
     "text": [
      " 0 0\n"
     ]
    },
    {
     "name": "stdout",
     "output_type": "stream",
     "text": [
      "True\n"
     ]
    }
   ],
   "source": [
    "a, b = map(int, input().split())\n",
    "c = bool(a)\n",
    "d = bool(b)\n",
    "print((not c and not d))"
   ]
  },
  {
   "cell_type": "markdown",
   "id": "d033d224-04b5-4af3-8d7a-bec9adccf661",
   "metadata": {},
   "source": [
    "#### *6063*\n",
    "입력된 두 정수(a, b) 중 큰 값을 출력하는 프로그램을 작성해보자. 단, 3항 연산을 사용한다."
   ]
  },
  {
   "cell_type": "code",
   "execution_count": 92,
   "id": "0b53ef59-f211-44a8-a1ad-58cc5c92af63",
   "metadata": {},
   "outputs": [
    {
     "name": "stdin",
     "output_type": "stream",
     "text": [
      " 123 456\n"
     ]
    },
    {
     "name": "stdout",
     "output_type": "stream",
     "text": [
      "456\n"
     ]
    }
   ],
   "source": [
    "a, b = map(int, input().split())\n",
    "c = (a if a>=b else b)\n",
    "print(int(c))"
   ]
  },
  {
   "cell_type": "markdown",
   "id": "abce90b3-3203-4a21-bfb6-afb60ec22859",
   "metadata": {},
   "source": [
    "#### 6064\n",
    "입력된 세 정수 a, b, c 중 가장 작은 값을 출력하는 프로그램을 작성해보자. 단, 3항 연산을 사용한다."
   ]
  },
  {
   "cell_type": "code",
   "execution_count": 94,
   "id": "a57f3256-508a-4540-b2b7-65baccef6e43",
   "metadata": {},
   "outputs": [
    {
     "name": "stdin",
     "output_type": "stream",
     "text": [
      " 3 0 -2\n"
     ]
    },
    {
     "name": "stdout",
     "output_type": "stream",
     "text": [
      "-2\n"
     ]
    }
   ],
   "source": [
    "a, b, c = map(int, input().split())\n",
    "m = (b if a>b else a)\n",
    "n = (m if m<c else c)\n",
    "print(int(n))"
   ]
  },
  {
   "cell_type": "markdown",
   "id": "1e796341-97b6-44e8-9afd-7eb6050a27b3",
   "metadata": {},
   "source": [
    "#### *6065*\n",
    "3개의 정수(a, b, c)가 입력되었을 때, 짝수만 출력해보자."
   ]
  },
  {
   "cell_type": "code",
   "execution_count": 97,
   "id": "2e031a62-d3a0-42d3-922c-d95243b24184",
   "metadata": {},
   "outputs": [
    {
     "name": "stdin",
     "output_type": "stream",
     "text": [
      " 1 2 4\n"
     ]
    },
    {
     "name": "stdout",
     "output_type": "stream",
     "text": [
      "2\n",
      "4\n"
     ]
    }
   ],
   "source": [
    "a, b, c = map(int, input().split())\n",
    "if a%2== 0:\n",
    "    print(a)\n",
    "if b%2==0:\n",
    "    print(b)\n",
    "if c%2==0:\n",
    "    print(c)"
   ]
  },
  {
   "cell_type": "markdown",
   "id": "ac2d7c3c-0184-41c6-8245-1dc00aa51e38",
   "metadata": {},
   "source": [
    "#### 6067\n",
    "0이 아닌 정수 1개가 입력되었을 때, 음(-)/양(+)과 짝(even)/홀(odd)을 구분해 분류해보자.  \n",
    "음수이면서 짝수이면, A  \n",
    "음수이면서 홀수이면, B  \n",
    "양수이면서 짝수이면, C  \n",
    "양수이면서 홀수이면, D  \n",
    "를 출력한다."
   ]
  },
  {
   "cell_type": "code",
   "execution_count": 98,
   "id": "f8193b95-0bac-4768-89ac-1d543d270caa",
   "metadata": {},
   "outputs": [
    {
     "name": "stdin",
     "output_type": "stream",
     "text": [
      " -2147483648\n"
     ]
    },
    {
     "name": "stdout",
     "output_type": "stream",
     "text": [
      "A\n"
     ]
    }
   ],
   "source": [
    "a = int(input())\n",
    "if a<0 and a%2 == 0:\n",
    "    print('A')\n",
    "elif a<0 and a%2==1:\n",
    "    print('B')\n",
    "elif a>0 and a%2 == 0:\n",
    "    print('C')\n",
    "else:\n",
    "    print('D')"
   ]
  },
  {
   "cell_type": "markdown",
   "id": "56fd9b98-51d3-4706-b5b4-65f958d875c4",
   "metadata": {},
   "source": [
    "#### 6070\n",
    "월이 입력될 때 계절 이름이 출력되도록 해보자.\n",
    "\n",
    "월   :    계절 이름  \n",
    "12, 1, 2 : winter  \n",
    "  3, 4, 5 : spring  \n",
    "  6, 7, 8 : summer  \n",
    "  9, 10, 11 : fall  "
   ]
  },
  {
   "cell_type": "code",
   "execution_count": 103,
   "id": "18e37536-0c5f-4ac1-b4b5-7886e533b047",
   "metadata": {},
   "outputs": [
    {
     "name": "stdin",
     "output_type": "stream",
     "text": [
      " 7\n"
     ]
    },
    {
     "name": "stdout",
     "output_type": "stream",
     "text": [
      "summar\n"
     ]
    }
   ],
   "source": [
    "a = int(input())\n",
    "if a in (12, 1, 2):\n",
    "    print('winter')\n",
    "elif a in (3, 4, 5):\n",
    "    print('spring')\n",
    "elif a in (6, 7, 8):\n",
    "    print('summar')\n",
    "else:\n",
    "    print('fall')"
   ]
  },
  {
   "cell_type": "markdown",
   "id": "e5c9123f-e875-4e8e-8100-1e99fdf3a7d3",
   "metadata": {},
   "source": [
    "#### *6071*\n",
    "임의의 정수가 줄을 바꿔 계속 입력된다.\n",
    "-2147483648 ~ +2147483647, 단 개수는 알 수 없다.\n",
    "\n",
    "0이 아니면 입력된 정수를 출력하고, 0이 입력되면 출력을 중단해보자."
   ]
  },
  {
   "cell_type": "code",
   "execution_count": 109,
   "id": "bd1fc75d-da11-47f6-979a-7736c2e17d75",
   "metadata": {},
   "outputs": [
    {
     "name": "stdin",
     "output_type": "stream",
     "text": [
      " 7\n"
     ]
    },
    {
     "name": "stdout",
     "output_type": "stream",
     "text": [
      "7\n"
     ]
    },
    {
     "name": "stdin",
     "output_type": "stream",
     "text": [
      " 4\n"
     ]
    },
    {
     "name": "stdout",
     "output_type": "stream",
     "text": [
      "4\n"
     ]
    },
    {
     "name": "stdin",
     "output_type": "stream",
     "text": [
      " 2\n"
     ]
    },
    {
     "name": "stdout",
     "output_type": "stream",
     "text": [
      "2\n"
     ]
    },
    {
     "name": "stdin",
     "output_type": "stream",
     "text": [
      " 3\n"
     ]
    },
    {
     "name": "stdout",
     "output_type": "stream",
     "text": [
      "3\n"
     ]
    },
    {
     "name": "stdin",
     "output_type": "stream",
     "text": [
      " 0\n"
     ]
    }
   ],
   "source": [
    "while True: \n",
    "    a=int(input())\n",
    "    if a==0: \n",
    "        break \n",
    "    else: \n",
    "        print(a)"
   ]
  },
  {
   "cell_type": "markdown",
   "id": "fb90b3b5-bf7e-416a-afa9-d67242d746c1",
   "metadata": {},
   "source": [
    "#### 6072\n",
    "정수(1 ~ 100) 1개가 입력되었을 때 카운트다운을 출력해보자."
   ]
  },
  {
   "cell_type": "code",
   "execution_count": 113,
   "id": "b81a3476-2204-4187-95fb-d337933fdc44",
   "metadata": {},
   "outputs": [
    {
     "name": "stdin",
     "output_type": "stream",
     "text": [
      " 5\n"
     ]
    },
    {
     "name": "stdout",
     "output_type": "stream",
     "text": [
      "5\n",
      "4\n",
      "3\n",
      "2\n",
      "1\n"
     ]
    }
   ],
   "source": [
    "a = int(input())\n",
    "while True:\n",
    "    print(a)\n",
    "    a -= 1\n",
    "    if a==0:\n",
    "        break"
   ]
  },
  {
   "cell_type": "markdown",
   "id": "70daae83-3ed3-4a41-8fe8-ff60eacee70c",
   "metadata": {},
   "source": [
    "#### 6073\n",
    "정수(1 ~ 100) 1개가 입력되었을 때 카운트다운을 출력해보자.\n",
    "\n",
    "while 조건식 :  \n",
    "  ...  \n",
    "  ...  \n",
    "  \n",
    "반복 실행구조를 사용해 보자."
   ]
  },
  {
   "cell_type": "code",
   "execution_count": 2,
   "id": "ada16ef4-f8e7-4d94-a3bd-119fad74250e",
   "metadata": {},
   "outputs": [
    {
     "name": "stdin",
     "output_type": "stream",
     "text": [
      " 5\n"
     ]
    },
    {
     "name": "stdout",
     "output_type": "stream",
     "text": [
      "4\n",
      "3\n",
      "2\n",
      "1\n",
      "0\n"
     ]
    }
   ],
   "source": [
    "a= int(input())\n",
    "while True:\n",
    "    a -= 1\n",
    "    print(a)\n",
    "    if a==0:\n",
    "        break"
   ]
  },
  {
   "cell_type": "markdown",
   "id": "9a1b9da9-9cf2-4f77-a641-e459c1a36735",
   "metadata": {},
   "source": [
    "#### *6074*\n",
    "영문 소문자(a ~ z) 1개가 입력되었을 때, a부터 그 문자까지의 알파벳을 순서대로 출력해보자."
   ]
  },
  {
   "cell_type": "code",
   "execution_count": 8,
   "id": "66e4875a-149c-4cf4-9960-2b43c0900dd4",
   "metadata": {},
   "outputs": [
    {
     "name": "stdin",
     "output_type": "stream",
     "text": [
      " f\n"
     ]
    },
    {
     "name": "stdout",
     "output_type": "stream",
     "text": [
      "a b c d e f "
     ]
    }
   ],
   "source": [
    "c = ord(input())\n",
    "t = ord('a')\n",
    "while t<=c:\n",
    "    print(chr(t), end=' ')\n",
    "    t += 1"
   ]
  },
  {
   "cell_type": "markdown",
   "id": "c781248c-4b55-46af-967a-518a600abcc3",
   "metadata": {},
   "source": [
    "#### *6075*\n",
    "정수(0 ~ 100) 1개를 입력받아 0부터 그 수까지 순서대로 출력해보자."
   ]
  },
  {
   "cell_type": "code",
   "execution_count": null,
   "id": "219b4a65-81e3-4f49-811f-f58c4135c479",
   "metadata": {},
   "outputs": [],
   "source": [
    "a = int(input())\n",
    "while True:\n",
    "    "
   ]
  }
 ],
 "metadata": {
  "kernelspec": {
   "display_name": "Python 3",
   "language": "python",
   "name": "python3"
  },
  "language_info": {
   "codemirror_mode": {
    "name": "ipython",
    "version": 3
   },
   "file_extension": ".py",
   "mimetype": "text/x-python",
   "name": "python",
   "nbconvert_exporter": "python",
   "pygments_lexer": "ipython3",
   "version": "3.8.8"
  }
 },
 "nbformat": 4,
 "nbformat_minor": 5
}
